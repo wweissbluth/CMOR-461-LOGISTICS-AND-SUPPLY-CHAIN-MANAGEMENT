{
 "cells": [
  {
   "cell_type": "markdown",
   "metadata": {},
   "source": [
    "We're operating in terms of 1,000 ton and 1,000,000 liter units"
   ]
  },
  {
   "cell_type": "code",
   "execution_count": 1,
   "metadata": {},
   "outputs": [
    {
     "name": "stdout",
     "output_type": "stream",
     "text": [
      "Malt Shipping Costs (Million $ / 1000 tons):\n",
      "[[0.026, 0.017, 0.02, 0.019, 0.032], [0.037, 0.017, 0.031, 0.03, 0.022], [0.032, 0.033, 0.004, 0.028, 0.048]]\n",
      "\n",
      "Beer Shipping Costs (Million $ / Million liters):\n",
      "[[0.0, 0.04, 0.052, 0.017, 0.055, 0.042], [0.032, 0.041, 0.039, 0.027, 0.023, 0.043], [0.04, 0.0, 0.032, 0.023, 0.062, 0.002], [0.011, 0.034, 0.041, 0.011, 0.045, 0.036], [0.067, 0.064, 0.04, 0.06, 0.024, 0.066]]\n"
     ]
    }
   ],
   "source": [
    "import numpy as np\n",
    "\n",
    "# Cost of shipping malt from plant to brewery (Million $ / 1000 tons)\n",
    "malt_shipping_costs = np.array([\n",
    "    [0.026, 0.017, 0.020, 0.019, 0.032],  # Afyon\n",
    "    [0.037, 0.017, 0.031, 0.030, 0.022],  # Konya\n",
    "    [0.032, 0.033, 0.004, 0.028, 0.048]   # Import (Izmir)\n",
    "])\n",
    "\n",
    "# Malt shipping index mappings\n",
    "malt_plants = [\"Afyon\", \"Konya\", \"Import (Izmir)\"]\n",
    "brewery_sites = [\"Istanbul\", \"Ankara\", \"Izmir\", \"Sakarya\", \"Adana\"]\n",
    "\n",
    "# Cost of shipping beer from brewery to distribution centers (Million $ / Million liters)\n",
    "beer_shipping_costs = np.array([\n",
    "    [0.000, 0.040, 0.052, 0.017, 0.055, 0.042],  # Istanbul (Existing)\n",
    "    [0.032, 0.041, 0.039, 0.027, 0.023, 0.043],  # Ankara (Existing)\n",
    "    [0.040, 0.000, 0.032, 0.023, 0.062, 0.002],  # Izmir (Potential)\n",
    "    [0.011, 0.034, 0.041, 0.011, 0.045, 0.036],  # Sakarya (Potential)\n",
    "    [0.067, 0.064, 0.040, 0.060, 0.024, 0.066]   # Adana (Potential)\n",
    "])\n",
    "\n",
    "# Beer shipping index mappings\n",
    "breweries = [\"Istanbul (Existing)\", \"Ankara (Existing)\", \"Izmir (Potential)\", \"Sakarya (Potential)\", \"Adana (Potential)\"]\n",
    "distribution_centers = [\"Istanbul\", \"Izmir\", \"Antalya\", \"Bursa\", \"Kayseri\", \"Export (Izmir)\"]\n",
    "\n",
    "# Print the arrays\n",
    "print(\"Malt Shipping Costs (Million $ / 1000 tons):\")\n",
    "print(malt_shipping_costs.tolist())  # Convert to list for readability\n",
    "\n",
    "print(\"\\nBeer Shipping Costs (Million $ / Million liters):\")\n",
    "print(beer_shipping_costs.tolist())  # Convert to list for readability\n"
   ]
  },
  {
   "cell_type": "code",
   "execution_count": 2,
   "metadata": {},
   "outputs": [],
   "source": [
    "annual_demand = np.array([\n",
    "    [103, 110, 125], # Istanbul\n",
    "    [74, 80, 90], # Izmir\n",
    "    [50, 53, 60], # Antalya\n",
    "    [60, 75, 85], # Bursa\n",
    "    [102, 110, 125], # Kayseri\n",
    "    [13, 13, 15] # Izmir Exporting\n",
    "])\n",
    "\n",
    "years = [str(y) for y in (1, 2 ,3)]\n",
    "\n",
    "domestic_yield = 8.333\n",
    "import_yield = 9.091\n",
    "\n",
    "# Cost of potential brewery sites (Million $)\n",
    "fixed_costs = np.array([\n",
    "    # [0.000, 0.00],  # Istanbul (Existing)\n",
    "    # [0.000, 0.00],  # Ankara (Existing)\n",
    "    [75, 30],  # Izmir (Potential)\n",
    "    [70, 27],  # Sakarya (Potential)\n",
    "    [68, 25]   # Adana (Potential)\n",
    "])\n",
    "\n",
    "building = [\"open\", \"expand\"]"
   ]
  },
  {
   "cell_type": "code",
   "execution_count": 3,
   "metadata": {},
   "outputs": [
    {
     "name": "stdout",
     "output_type": "stream",
     "text": [
      "Set parameter Username\n",
      "Set parameter LicenseID to value 2617769\n",
      "Academic license - for non-commercial use only - expires 2026-02-04\n"
     ]
    }
   ],
   "source": [
    "from gurobipy import Model, GRB, quicksum\n",
    "\n",
    "# Define model\n",
    "part1_1_dist = Model(\"Dist Malt Beer\")\n",
    "\n",
    "# Define dimensions\n",
    "rows, cols = 6, 2\n",
    "\n",
    "X = part1_1_dist.addVars(rows, cols, vtype=GRB.CONTINUOUS, name=\"X\")"
   ]
  },
  {
   "cell_type": "code",
   "execution_count": null,
   "metadata": {},
   "outputs": [],
   "source": [
    "malt_for_brew = part1_1_dist.addVars(2, 3, vtype=GRB.CONTINUOUS, name=\"Mb\")\n",
    "malt_caps = np.array((30, 68, 20))\n",
    "\n",
    "part1_1_dist.addConstrs((malt_for_brew[0, i] + malt_for_brew[1, i] <= malt_caps[i] \\\n",
    "                         for i in range(3)), \"MaBe\") \n",
    "\n",
    "Model.update(part1_1_dist)"
   ]
  },
  {
   "cell_type": "code",
   "execution_count": 5,
   "metadata": {},
   "outputs": [],
   "source": [
    "existing_beer = beer_shipping_costs[:2]\n",
    "existing_malt = np.array([maps[:2] \\\n",
    "                          for maps in malt_shipping_costs])\n",
    "\n",
    "lin_expr_incremental = 0\n",
    "lin_expr_incremental += quicksum(X[i, j] * existing_beer[j, i] for i in range(6) for j in range(2))\n",
    "lin_expr_incremental += quicksum(malt_for_brew[i, j] * existing_malt[j, i] for i in range(2) for j in range(3))\n",
    "part1_1_dist.setObjective(lin_expr_incremental, GRB.MINIMIZE)\n",
    "\n",
    "part1_1_dist.update()"
   ]
  },
  {
   "cell_type": "code",
   "execution_count": 20,
   "metadata": {},
   "outputs": [],
   "source": [
    "column_sums = {j: quicksum(X[i, j] for i in range(rows)) for j in range(cols)}\n",
    "part1_1_dist.addConstr(column_sums[0] <= 220 \\\n",
    "                         , \"IstanCap\")\n",
    "part1_1_dist.addConstr(column_sums[1] <= 200 \\\n",
    "                         , \"AnkCap\")\n",
    "\n",
    "Model.update(part1_1_dist)"
   ]
  },
  {
   "cell_type": "code",
   "execution_count": 21,
   "metadata": {},
   "outputs": [],
   "source": [
    "y1_demands = annual_demand.T[0]\n",
    "row_sums = {i: quicksum(X[i, j] for j in range(cols)) for i in range(rows)}\n",
    "\n",
    "part1_1_dist.addConstrs((X[i, 0] + X[i, 1] >= y1_demands[i] for i in range(rows)), \"Satisfy\")\n",
    "\n",
    "Model.update(part1_1_dist)"
   ]
  },
  {
   "cell_type": "code",
   "execution_count": 22,
   "metadata": {},
   "outputs": [],
   "source": [
    "\n",
    "yields = (domestic_yield, domestic_yield, import_yield)\n",
    "part1_1_dist.addConstrs((column_sums[j] <= quicksum(malt_for_brew[j, k] * yields[j] for k in range(3)) for j in range(2)), \"Conserve\")\n",
    "Model.update(part1_1_dist)"
   ]
  },
  {
   "cell_type": "code",
   "execution_count": 9,
   "metadata": {},
   "outputs": [
    {
     "name": "stdout",
     "output_type": "stream",
     "text": [
      "Gurobi Optimizer version 12.0.1 build v12.0.1rc0 (mac64[arm] - Darwin 23.6.0 23G93)\n",
      "\n",
      "CPU model: Apple M2 Max\n",
      "Thread count: 12 physical cores, 12 logical processors, using up to 12 threads\n",
      "\n",
      "Optimize a model with 13 rows, 18 columns and 48 nonzeros\n",
      "Model fingerprint: 0xf4b4d0be\n",
      "Coefficient statistics:\n",
      "  Matrix range     [1e+00, 8e+00]\n",
      "  Objective range  [2e-02, 6e-02]\n",
      "  Bounds range     [0e+00, 0e+00]\n",
      "  RHS range        [1e+01, 2e+02]\n",
      "Presolve time: 0.00s\n",
      "Presolved: 13 rows, 18 columns, 48 nonzeros\n",
      "\n",
      "Iteration    Objective       Primal Inf.    Dual Inf.      Time\n",
      "       0    0.0000000e+00   4.020000e+02   0.000000e+00      0s\n",
      "      10    9.9082815e+00   0.000000e+00   0.000000e+00      0s\n",
      "\n",
      "Solved in 10 iterations and 0.00 seconds (0.00 work units)\n",
      "Optimal objective  9.908281531e+00\n",
      "\n",
      "Optimal Solution Found:\n",
      "X[0,0] = 103.0\n",
      "X[0,1] = 0.0\n",
      "X[1,0] = 39.0\n",
      "X[1,1] = 35.0\n",
      "X[2,0] = 0.0\n",
      "X[2,1] = 50.0\n",
      "X[3,0] = 60.0\n",
      "X[3,1] = 0.0\n",
      "X[4,0] = 0.0\n",
      "X[4,1] = 102.0\n",
      "X[5,0] = 0.0\n",
      "X[5,1] = 13.0\n",
      "Mb[0,0] = 24.24096963878555\n",
      "Mb[0,1] = 0.0\n",
      "Mb[0,2] = 0.0\n",
      "Mb[1,0] = 5.759030361214448\n",
      "Mb[1,1] = 18.24192967718709\n",
      "Mb[1,2] = 0.0\n",
      "Objective Value: 9.908281531261249\n"
     ]
    }
   ],
   "source": [
    "part1_1_dist.update()\n",
    "\n",
    "#  Solve the model\n",
    "part1_1_dist.optimize()\n",
    "\n",
    "# Report results\n",
    "if part1_1_dist.status == GRB.OPTIMAL:\n",
    "    print(\"\\nOptimal Solution Found:\")\n",
    "    for var in part1_1_dist.getVars():\n",
    "        print(f\"{var.varName} = {var.x}\")  # Print variable values\n",
    "    print(f\"Objective Value: {part1_1_dist.objVal}\")  # Print optimal objective value\n",
    "else:\n",
    "    print(\"No optimal solution found.\")\n"
   ]
  },
  {
   "cell_type": "code",
   "execution_count": 10,
   "metadata": {},
   "outputs": [
    {
     "name": "stdout",
     "output_type": "stream",
     "text": [
      "\n",
      "Amount of beer shipped from brewery to distribution center in year 1 (Million liters)\n",
      "             Istanbul Izmir    Antalya  Bursa    Kayseri  Export (Izmir)Total   Capacity\n",
      "Istanbul (Existing) 103      39       0        60       0        0       202     220\n",
      "Ankara (Existing) 0        35       50       0        102      13      200     200\n",
      "\n",
      "Amount of malt shipped from plant to brewery in year 1 (1000 tons)\n",
      "           Istanbul (Existing) Ankara (Existing)Total   Capacity\n",
      "Afyon      24.24    5.76    30.00   30\n",
      "Konya      0.00     18.24   18.24   68\n",
      "Import (Izmir) 0.00     0.00    0.00    20\n"
     ]
    }
   ],
   "source": [
    "# Extract values from solved model\n",
    "X_values = np.array([[X[i, j].X for j in range(2)] for i in range(6)]).T\n",
    "Mb_values = np.array([[malt_for_brew[i, j].X for j in range(3)] for i in range(2)]).T\n",
    "\n",
    "# ---- Print Beer Shipment Table ----\n",
    "print(\"\\nAmount of beer shipped from brewery to distribution center in year 1 (Million liters)\")\n",
    "print(f\"{'':<12} \" + \" \".join(f\"{dc:<8}\" for dc in distribution_centers) + \"Total   Capacity\")\n",
    "for i, brewery in enumerate(breweries[:2]):\n",
    "    total = np.sum(X_values[i, :])\n",
    "    capacity = 220 if i == 0 else 200  # Example capacities\n",
    "    print(f\"{brewery:<12} \" + \" \".join(f\"{X_values[i, j]:<8.0f}\" for j in range(len(distribution_centers))) + f\"{total:<7.0f} {capacity}\")\n",
    "\n",
    "# ---- Print Malt Shipment Table ----\n",
    "print(\"\\nAmount of malt shipped from plant to brewery in year 1 (1000 tons)\")\n",
    "print(f\"{'':<10} \" + \" \".join(f\"{brewery:<8}\" for brewery in breweries[:2]) + \"Total   Capacity\")\n",
    "for i, malt in enumerate(malt_plants):\n",
    "    total = np.sum(Mb_values[i, :])\n",
    "    capacity = [30, 68, 20][i]  # Example capacities from exhibit\n",
    "    print(f\"{malt:<10} \" + \" \".join(f\"{Mb_values[i, j]:<8.2f}\" for j in range(len(breweries[:2]))) + f\"{total:<7.2f} {capacity}\")"
   ]
  },
  {
   "cell_type": "code",
   "execution_count": 11,
   "metadata": {},
   "outputs": [
    {
     "name": "stdout",
     "output_type": "stream",
     "text": [
      "\n",
      "Amount of beer shipped from brewery to distribution center in year 1 (Million liters)\n",
      "            Istanbul  Izmir     Antalya   Bursa     Kayseri   Export (  Total    Capacity\n",
      "-----------------------------------------------------------------------------------------\n",
      "Istanbul    103       39        0         60        0         0         202      220\n",
      "Ankara (    0         35        50        0         102       13        200      200\n",
      "\n",
      "Amount of malt shipped from plant to brewery in year 1 (1000 tons)\n",
      "            Istanbul  Ankara (  Total    Capacity\n",
      "-------------------------------------------------\n",
      "Afyon       24.24     5.76      30.00    30\n",
      "Konya       0.00      18.24     18.24    68\n",
      "Import (    0.00      0.00      0.00     20\n"
     ]
    }
   ],
   "source": [
    "# ---- Print Beer Shipment Table ----\n",
    "print(\"\\nAmount of beer shipped from brewery to distribution center in year 1 (Million liters)\")\n",
    "header = f\"{'':<12}\" + \"\".join(f\"{dc[:8]:<10}\" for dc in distribution_centers) + \"Total    Capacity\"\n",
    "print(header)\n",
    "print(\"-\" * len(header))\n",
    "\n",
    "for i, brewery in enumerate(breweries[:2]):\n",
    "    total = np.sum(X_values[i, :])\n",
    "    capacity = 220 if i == 0 else 200  # Example capacities\n",
    "    row = f\"{brewery[:8]:<12}\" + \"\".join(f\"{X_values[i, j]:<10.0f}\" for j in range(len(distribution_centers)))\n",
    "    row += f\"{total:<8.0f} {capacity}\"\n",
    "    print(row)\n",
    "\n",
    "# ---- Print Malt Shipment Table ----\n",
    "print(\"\\nAmount of malt shipped from plant to brewery in year 1 (1000 tons)\")\n",
    "header = f\"{'':<12}\" + \"\".join(f\"{brewery[:8]:<10}\" for brewery in breweries[:2]) + \"Total    Capacity\"\n",
    "print(header)\n",
    "print(\"-\" * len(header))\n",
    "\n",
    "for i, malt in enumerate(malt_plants):\n",
    "    total = np.sum(Mb_values[i, :])\n",
    "    capacity = [30, 68, 20][i]  # Example capacities from exhibit\n",
    "    row = f\"{malt[:8]:<12}\" + \"\".join(f\"{Mb_values[i, j]:<10.2f}\" for j in range(len(breweries[:2])))\n",
    "    row += f\"{total:<8.2f} {capacity}\"\n",
    "    print(row)"
   ]
  },
  {
   "cell_type": "code",
   "execution_count": 12,
   "metadata": {},
   "outputs": [
    {
     "name": "stdout",
     "output_type": "stream",
     "text": [
      "\n",
      "Shadow Prices (Dual Values):\n",
      "MaBe[0]: -0.0\n",
      "MaBe[1]: 0.0\n",
      "MaBe[2]: 0.0\n",
      "IstanCap: 0.0\n",
      "AnkCap: -8.004320172806667e-05\n",
      "Satisfy[0]: 0.0031201248049921994\n",
      "Satisfy[1]: 0.0431201248049922\n",
      "Satisfy[2]: 0.0411201248049922\n",
      "Satisfy[3]: 0.0201201248049922\n",
      "Satisfy[4]: 0.0251201248049922\n",
      "Satisfy[5]: 0.045120124804992195\n",
      "Conserve[0]: -0.0031201248049921994\n",
      "Conserve[1]: -0.0020400816032641305\n"
     ]
    }
   ],
   "source": [
    "# Extract and print shadow prices (dual values)\n",
    "if part1_1_dist.status == GRB.OPTIMAL:\n",
    "    print(\"\\nShadow Prices (Dual Values):\")\n",
    "    for constr in part1_1_dist.getConstrs():\n",
    "        print(f\"{constr.constrName}: {constr.Pi}\")\n",
    "else:\n",
    "    print(\"No optimal solution found.\")"
   ]
  },
  {
   "cell_type": "markdown",
   "metadata": {},
   "source": [
    "### To get the comparsion with original production planning, I will fix variables in our model to their values"
   ]
  },
  {
   "cell_type": "code",
   "execution_count": 24,
   "metadata": {},
   "outputs": [
    {
     "name": "stdout",
     "output_type": "stream",
     "text": [
      "[(0, <gurobi.Var X[0,0]>), (1, <gurobi.Var X[0,1]>), (2, <gurobi.Var X[1,0]>), (3, <gurobi.Var X[1,1]>), (4, <gurobi.Var X[2,0]>), (5, <gurobi.Var X[2,1]>), (6, <gurobi.Var X[3,0]>), (7, <gurobi.Var X[3,1]>), (8, <gurobi.Var X[4,0]>), (9, <gurobi.Var X[4,1]>), (10, <gurobi.Var X[5,0]>), (11, <gurobi.Var X[5,1]>), (12, <gurobi.Var Mb[0,0]>), (13, <gurobi.Var Mb[0,1]>), (14, <gurobi.Var Mb[0,2]>), (15, <gurobi.Var Mb[1,0]>), (16, <gurobi.Var Mb[1,1]>), (17, <gurobi.Var Mb[1,2]>), (18, <gurobi.Var Mb[0,0]>), (19, <gurobi.Var Mb[0,1]>), (20, <gurobi.Var Mb[0,2]>), (21, <gurobi.Var Mb[1,0]>), (22, <gurobi.Var Mb[1,1]>), (23, <gurobi.Var Mb[1,2]>), (24, <gurobi.Var Mb[0,0]>), (25, <gurobi.Var Mb[0,1]>), (26, <gurobi.Var Mb[0,2]>), (27, <gurobi.Var Mb[1,0]>), (28, <gurobi.Var Mb[1,1]>), (29, <gurobi.Var Mb[1,2]>)]\n"
     ]
    }
   ],
   "source": [
    "part1_3 = part1_1_dist.copy()\n",
    "\n",
    "# Copy variables\n",
    "var_map =  part1_3.getVars()\n",
    "print(list(enumerate(var_map)))\n",
    "\n",
    "part1_3.addConstr(var_map[4] >= 50, \"Antalya\") # \"X[2,0]\"\n",
    "part1_3.addConstr(var_map[7] >= 60, \"Bursa\") # \"X[3,1]\"\n",
    "part1_3.addConstr(var_map[3] <= 25, \"Izmir\") # \"X[1,1]\"\n",
    "\n",
    "part1_3.addConstr(var_map[13] >= 2.42, \"Konya\") # \"Mb[0,1]\"\n",
    "part1_3.addConstr(var_map[14] >= 20, \"Import\") # \"Mb[0,2]\"\n",
    "part1_3.addConstr(var_map[15] >= 24, \"Afyon\") # \"Mb[1,0]\"\n",
    "\n",
    "part1_3.addConstr(var_map[12] == 0, \"Istahp\")\n",
    "part1_3.addConstr(var_map[16] == 0, \"Ankant\")\n",
    "\n",
    "Model.update(part1_3)"
   ]
  },
  {
   "cell_type": "code",
   "execution_count": 14,
   "metadata": {},
   "outputs": [
    {
     "name": "stdout",
     "output_type": "stream",
     "text": [
      "Gurobi Optimizer version 12.0.1 build v12.0.1rc0 (mac64[arm] - Darwin 23.6.0 23G93)\n",
      "\n",
      "CPU model: Apple M2 Max\n",
      "Thread count: 12 physical cores, 12 logical processors, using up to 12 threads\n",
      "\n",
      "Optimize a model with 21 rows, 18 columns and 56 nonzeros\n",
      "Model fingerprint: 0x9a50101e\n",
      "Coefficient statistics:\n",
      "  Matrix range     [1e+00, 8e+00]\n",
      "  Objective range  [2e-02, 6e-02]\n",
      "  Bounds range     [0e+00, 0e+00]\n",
      "  RHS range        [2e+00, 2e+02]\n",
      "Presolve removed 14 rows and 9 columns\n",
      "Presolve time: 0.00s\n",
      "Presolved: 7 rows, 9 columns, 24 nonzeros\n",
      "\n",
      "Iteration    Objective       Primal Inf.    Dual Inf.      Time\n",
      "       0    8.3175400e+00   2.725000e+01   0.000000e+00      0s\n",
      "       6    1.1314932e+01   0.000000e+00   0.000000e+00      0s\n",
      "\n",
      "Solved in 6 iterations and 0.00 seconds (0.00 work units)\n",
      "Optimal objective  1.131493220e+01\n",
      "\n",
      "Solution Found:\n",
      "X[0,0] = 103.0\n",
      "X[0,1] = 0.0\n",
      "X[1,0] = 49.0\n",
      "X[1,1] = 25.0\n",
      "X[2,0] = 50.0\n",
      "X[2,1] = 0.0\n",
      "X[3,0] = 0.0\n",
      "X[3,1] = 60.0\n",
      "X[4,0] = 0.0\n",
      "X[4,1] = 102.0\n",
      "X[5,0] = 0.0\n",
      "X[5,1] = 13.0\n",
      "Mb[0,0] = 0.0\n",
      "Mb[0,1] = 4.24096963878555\n",
      "Mb[0,2] = 20.0\n",
      "Mb[1,0] = 24.000960038401537\n",
      "Mb[1,1] = 0.0\n",
      "Mb[1,2] = 0.0\n",
      "Objective Value: 11.314932197287892\n"
     ]
    }
   ],
   "source": [
    "part1_3.update()\n",
    "part1_3.optimize()\n",
    "\n",
    "\n",
    "print(\"\\nSolution Found:\")\n",
    "for var in part1_3.getVars():\n",
    "    print(f\"{var.varName} = {var.x}\")  # Print variable values\n",
    "print(f\"Objective Value: {part1_3.objVal}\")"
   ]
  },
  {
   "cell_type": "code",
   "execution_count": 15,
   "metadata": {},
   "outputs": [
    {
     "data": {
      "text/plain": [
       "1.4066506660266427"
      ]
     },
     "execution_count": 15,
     "metadata": {},
     "output_type": "execute_result"
    }
   ],
   "source": [
    "part1_3.objVal - part1_1_dist.objVal"
   ]
  },
  {
   "cell_type": "markdown",
   "metadata": {},
   "source": [
    "From here on there's only part2 features."
   ]
  },
  {
   "cell_type": "code",
   "execution_count": 16,
   "metadata": {},
   "outputs": [],
   "source": [
    "# Since capacities are dynamic, not yet defined as matrix.\n",
    "# Baking them into constraints to start.\n",
    "\n",
    "p2_build = Model(\"Exp Beer Empire\")\n",
    "\n",
    "new = p2_build.addVars(3, vtype=GRB.BINARY, name=\"Ne\")\n",
    "expan = p2_build.addVars(3, vtype=GRB.BINARY, name=\"E\")\n",
    "\n",
    "real_expand = p2_build.addConstrs((new[i] >= expan[i] \\\n",
    "                                      for i in range(3)), \"ReEx\")"
   ]
  },
  {
   "cell_type": "code",
   "execution_count": 17,
   "metadata": {},
   "outputs": [],
   "source": [
    "# Looking to minimize costs while satisfying demand in\n",
    "# Part II: Capacity Expansion Decisions\n",
    "\n",
    "p2_build.setObjective(quicksum(new[b] * fixed_costs.T[0][b] \\\n",
    "                           + expan[b] * fixed_costs.T[1][b] for b in range(3)))"
   ]
  }
 ],
 "metadata": {
  "kernelspec": {
   "display_name": "Python 3",
   "language": "python",
   "name": "python3"
  },
  "language_info": {
   "codemirror_mode": {
    "name": "ipython",
    "version": 3
   },
   "file_extension": ".py",
   "mimetype": "text/x-python",
   "name": "python",
   "nbconvert_exporter": "python",
   "pygments_lexer": "ipython3",
   "version": "3.11.11"
  }
 },
 "nbformat": 4,
 "nbformat_minor": 2
}
