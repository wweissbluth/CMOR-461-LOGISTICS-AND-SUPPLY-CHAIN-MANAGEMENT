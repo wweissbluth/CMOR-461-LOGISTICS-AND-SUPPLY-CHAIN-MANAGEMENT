{
 "cells": [
  {
   "cell_type": "markdown",
   "metadata": {},
   "source": [
    "# CMOR 461 - Homework 7  \n",
    "**Warren Weissbluth**  \n",
    "\n",
    "[![Open In Colab](https://colab.research.google.com/assets/colab-badge.svg)](https://colab.research.google.com/github/wweissbluth/CMOR-461-LOGISTICS-AND-SUPPLY-CHAIN-MANAGEMENT/blob/main/hw7/hw7.ipynb)\n",
    "\n",
    "---\n",
    "\n",
    "## 1) Steelworks Case \n",
    "\n",
    "### Problem Statement  \n",
    "\n",
    "Consider the **Steel Works** case study discussed in class. Assume that a **base-stock policy** is used to manage product inventories. Your task is to:  \n",
    "\n",
    "1. **Calculate**:\n",
    "   - Safety stock  \n",
    "   - Base-stock level  \n",
    "   - Average inventory level  \n",
    "\n",
    "2. **Compare** the computed average inventory levels with those provided in the case study.  \n",
    "\n",
    "3. **Assumptions**:\n",
    "   - **Review period** ($ R $) = 1 month  \n",
    "   - **Lead time** ($ L $) = 0.25 and 0.5 months  \n",
    "   - **Service levels** ($\\alpha$) = 0.90 and 0.97  \n",
    "\n",
    "4. **Summarize** your recommendations for Steel Works based on your findings.  "
   ]
  },
  {
   "cell_type": "markdown",
   "metadata": {},
   "source": [
    "### Base Stock Policy\n",
    "\n",
    "The base stock policy is defined by:\n",
    "* Periodid Review (as opposed to continous)\n",
    "* Has an optimal / target inventory level: the base stock level\n",
    "* At each review, consider the current inventory position and then order more inventory to raise the current position to base stock level."
   ]
  },
  {
   "cell_type": "markdown",
   "metadata": {},
   "source": [
    "Vars:\n",
    "* R = len of review period\n",
    "* L = lead time\n",
    "* $\\mu$ = average demand\n",
    "* $\\sigma$ = SD of demand \n",
    "* S = base stock level"
   ]
  },
  {
   "cell_type": "markdown",
   "metadata": {},
   "source": [
    "We need to ensure our stock covers R+L days. This is made up of two terms:\n",
    "* Cycle Stock - $(R+L)\\mu$\n",
    "* Safety Stock - $\\mathbb z\\sigma\\sqrt{R+L}$\n",
    "\n",
    "Let's get those here. We need $\\mu,\\sigma$. We'll need this from the Steelworks Case\n"
   ]
  },
  {
   "cell_type": "code",
   "execution_count": 51,
   "metadata": {},
   "outputs": [
    {
     "name": "stdout",
     "output_type": "stream",
     "text": [
      "Sheet name: Annual Sales\n"
     ]
    },
    {
     "data": {
      "application/vnd.microsoft.datawrangler.viewer.v0+json": {
       "columns": [
        {
         "name": "index",
         "rawType": "int64",
         "type": "integer"
        },
        {
         "name": "SKU",
         "rawType": "object",
         "type": "string"
        },
        {
         "name": "LABEL",
         "rawType": "object",
         "type": "string"
        },
        {
         "name": "Month",
         "rawType": "int64",
         "type": "integer"
        },
        {
         "name": "Customer",
         "rawType": "int64",
         "type": "integer"
        },
        {
         "name": "Demand",
         "rawType": "int64",
         "type": "integer"
        }
       ],
       "conversionMethod": "pd.DataFrame",
       "ref": "a9eebb86-6748-4443-b0f6-0cae65b08a73",
       "rows": [
        [
         "0",
         "S0121958",
         "DURABEND R12",
         "1",
         "194",
         "756"
        ],
        [
         "1",
         "S0121958",
         "DURABEND R12",
         "2",
         "194",
         "1202"
        ],
        [
         "2",
         "S0121958",
         "DURABEND R12",
         "3",
         "194",
         "929"
        ],
        [
         "3",
         "S0121958",
         "DURABEND R12",
         "4",
         "194",
         "825"
        ],
        [
         "4",
         "S0121958",
         "DURABEND R12",
         "5",
         "194",
         "1078"
        ],
        [
         "5",
         "S0121958",
         "DURABEND R12",
         "6",
         "194",
         "1181"
        ],
        [
         "6",
         "S0121958",
         "DURABEND R12",
         "7",
         "194",
         "536"
        ],
        [
         "7",
         "S0121958",
         "DURABEND R12",
         "8",
         "194",
         "1026"
        ],
        [
         "8",
         "S0121958",
         "DURABEND R12",
         "9",
         "194",
         "776"
        ],
        [
         "9",
         "S0121958",
         "DURABEND R12",
         "10",
         "194",
         "1049"
        ],
        [
         "10",
         "S0121958",
         "DURABEND R12",
         "11",
         "194",
         "1557"
        ],
        [
         "11",
         "S0121958",
         "DURABEND R12",
         "12",
         "194",
         "828"
        ],
        [
         "12",
         "S0121958",
         "DURABEND R12",
         "1",
         "223",
         "0"
        ],
        [
         "13",
         "S0121958",
         "DURABEND R12",
         "2",
         "223",
         "0"
        ],
        [
         "14",
         "S0121958",
         "DURABEND R12",
         "3",
         "223",
         "0"
        ],
        [
         "15",
         "S0121958",
         "DURABEND R12",
         "4",
         "223",
         "30"
        ],
        [
         "16",
         "S0121958",
         "DURABEND R12",
         "5",
         "223",
         "0"
        ],
        [
         "17",
         "S0121958",
         "DURABEND R12",
         "6",
         "223",
         "1"
        ],
        [
         "18",
         "S0121958",
         "DURABEND R12",
         "7",
         "223",
         "8"
        ],
        [
         "19",
         "S0121958",
         "DURABEND R12",
         "8",
         "223",
         "4"
        ],
        [
         "20",
         "S0121958",
         "DURABEND R12",
         "9",
         "223",
         "0"
        ],
        [
         "21",
         "S0121958",
         "DURABEND R12",
         "10",
         "223",
         "9"
        ],
        [
         "22",
         "S0121958",
         "DURABEND R12",
         "11",
         "223",
         "0"
        ],
        [
         "23",
         "S0121958",
         "DURABEND R12",
         "12",
         "223",
         "0"
        ],
        [
         "24",
         "S0121958",
         "DURABEND R12",
         "1",
         "147",
         "42"
        ],
        [
         "25",
         "S0121958",
         "DURABEND R12",
         "2",
         "147",
         "0"
        ],
        [
         "26",
         "S0121958",
         "DURABEND R12",
         "3",
         "147",
         "49"
        ],
        [
         "27",
         "S0121958",
         "DURABEND R12",
         "4",
         "147",
         "22"
        ],
        [
         "28",
         "S0121958",
         "DURABEND R12",
         "5",
         "147",
         "6"
        ],
        [
         "29",
         "S0121958",
         "DURABEND R12",
         "6",
         "147",
         "0"
        ],
        [
         "30",
         "S0121958",
         "DURABEND R12",
         "7",
         "147",
         "44"
        ],
        [
         "31",
         "S0121958",
         "DURABEND R12",
         "8",
         "147",
         "5"
        ],
        [
         "32",
         "S0121958",
         "DURABEND R12",
         "9",
         "147",
         "0"
        ],
        [
         "33",
         "S0121958",
         "DURABEND R12",
         "10",
         "147",
         "0"
        ],
        [
         "34",
         "S0121958",
         "DURABEND R12",
         "11",
         "147",
         "0"
        ],
        [
         "35",
         "S0121958",
         "DURABEND R12",
         "12",
         "147",
         "31"
        ],
        [
         "36",
         "S0121958",
         "DURABEND R12",
         "1",
         "195",
         "1"
        ],
        [
         "37",
         "S0121958",
         "DURABEND R12",
         "2",
         "195",
         "0"
        ],
        [
         "38",
         "S0121958",
         "DURABEND R12",
         "3",
         "195",
         "0"
        ],
        [
         "39",
         "S0121958",
         "DURABEND R12",
         "4",
         "195",
         "0"
        ],
        [
         "40",
         "S0121958",
         "DURABEND R12",
         "5",
         "195",
         "0"
        ],
        [
         "41",
         "S0121958",
         "DURABEND R12",
         "6",
         "195",
         "0"
        ],
        [
         "42",
         "S0121958",
         "DURABEND R12",
         "7",
         "195",
         "0"
        ],
        [
         "43",
         "S0121958",
         "DURABEND R12",
         "8",
         "195",
         "0"
        ],
        [
         "44",
         "S0121958",
         "DURABEND R12",
         "9",
         "195",
         "4"
        ],
        [
         "45",
         "S0121958",
         "DURABEND R12",
         "10",
         "195",
         "13"
        ],
        [
         "46",
         "S0121958",
         "DURABEND R12",
         "11",
         "195",
         "0"
        ],
        [
         "47",
         "S0121958",
         "DURABEND R12",
         "12",
         "195",
         "0"
        ],
        [
         "48",
         "S0121958",
         "DURABEND R12",
         "1",
         "444",
         "0"
        ],
        [
         "49",
         "S0121958",
         "DURABEND R12",
         "2",
         "444",
         "0"
        ]
       ],
       "shape": {
        "columns": 5,
        "rows": 72
       }
      },
      "text/html": [
       "<div>\n",
       "<style scoped>\n",
       "    .dataframe tbody tr th:only-of-type {\n",
       "        vertical-align: middle;\n",
       "    }\n",
       "\n",
       "    .dataframe tbody tr th {\n",
       "        vertical-align: top;\n",
       "    }\n",
       "\n",
       "    .dataframe thead th {\n",
       "        text-align: right;\n",
       "    }\n",
       "</style>\n",
       "<table border=\"1\" class=\"dataframe\">\n",
       "  <thead>\n",
       "    <tr style=\"text-align: right;\">\n",
       "      <th></th>\n",
       "      <th>SKU</th>\n",
       "      <th>LABEL</th>\n",
       "      <th>Month</th>\n",
       "      <th>Customer</th>\n",
       "      <th>Demand</th>\n",
       "    </tr>\n",
       "  </thead>\n",
       "  <tbody>\n",
       "    <tr>\n",
       "      <th>0</th>\n",
       "      <td>S0121958</td>\n",
       "      <td>DURABEND R12</td>\n",
       "      <td>1</td>\n",
       "      <td>194</td>\n",
       "      <td>756</td>\n",
       "    </tr>\n",
       "    <tr>\n",
       "      <th>1</th>\n",
       "      <td>S0121958</td>\n",
       "      <td>DURABEND R12</td>\n",
       "      <td>2</td>\n",
       "      <td>194</td>\n",
       "      <td>1202</td>\n",
       "    </tr>\n",
       "    <tr>\n",
       "      <th>2</th>\n",
       "      <td>S0121958</td>\n",
       "      <td>DURABEND R12</td>\n",
       "      <td>3</td>\n",
       "      <td>194</td>\n",
       "      <td>929</td>\n",
       "    </tr>\n",
       "    <tr>\n",
       "      <th>3</th>\n",
       "      <td>S0121958</td>\n",
       "      <td>DURABEND R12</td>\n",
       "      <td>4</td>\n",
       "      <td>194</td>\n",
       "      <td>825</td>\n",
       "    </tr>\n",
       "    <tr>\n",
       "      <th>4</th>\n",
       "      <td>S0121958</td>\n",
       "      <td>DURABEND R12</td>\n",
       "      <td>5</td>\n",
       "      <td>194</td>\n",
       "      <td>1078</td>\n",
       "    </tr>\n",
       "    <tr>\n",
       "      <th>...</th>\n",
       "      <td>...</td>\n",
       "      <td>...</td>\n",
       "      <td>...</td>\n",
       "      <td>...</td>\n",
       "      <td>...</td>\n",
       "    </tr>\n",
       "    <tr>\n",
       "      <th>67</th>\n",
       "      <td>S0121958</td>\n",
       "      <td>DURABEND R12</td>\n",
       "      <td>8</td>\n",
       "      <td>445</td>\n",
       "      <td>3</td>\n",
       "    </tr>\n",
       "    <tr>\n",
       "      <th>68</th>\n",
       "      <td>S0121958</td>\n",
       "      <td>DURABEND R12</td>\n",
       "      <td>9</td>\n",
       "      <td>445</td>\n",
       "      <td>0</td>\n",
       "    </tr>\n",
       "    <tr>\n",
       "      <th>69</th>\n",
       "      <td>S0121958</td>\n",
       "      <td>DURABEND R12</td>\n",
       "      <td>10</td>\n",
       "      <td>445</td>\n",
       "      <td>10</td>\n",
       "    </tr>\n",
       "    <tr>\n",
       "      <th>70</th>\n",
       "      <td>S0121958</td>\n",
       "      <td>DURABEND R12</td>\n",
       "      <td>11</td>\n",
       "      <td>445</td>\n",
       "      <td>23</td>\n",
       "    </tr>\n",
       "    <tr>\n",
       "      <th>71</th>\n",
       "      <td>S0121958</td>\n",
       "      <td>DURABEND R12</td>\n",
       "      <td>12</td>\n",
       "      <td>445</td>\n",
       "      <td>24</td>\n",
       "    </tr>\n",
       "  </tbody>\n",
       "</table>\n",
       "<p>72 rows × 5 columns</p>\n",
       "</div>"
      ],
      "text/plain": [
       "         SKU         LABEL  Month  Customer  Demand\n",
       "0   S0121958  DURABEND R12      1       194     756\n",
       "1   S0121958  DURABEND R12      2       194    1202\n",
       "2   S0121958  DURABEND R12      3       194     929\n",
       "3   S0121958  DURABEND R12      4       194     825\n",
       "4   S0121958  DURABEND R12      5       194    1078\n",
       "..       ...           ...    ...       ...     ...\n",
       "67  S0121958  DURABEND R12      8       445       3\n",
       "68  S0121958  DURABEND R12      9       445       0\n",
       "69  S0121958  DURABEND R12     10       445      10\n",
       "70  S0121958  DURABEND R12     11       445      23\n",
       "71  S0121958  DURABEND R12     12       445      24\n",
       "\n",
       "[72 rows x 5 columns]"
      ]
     },
     "metadata": {},
     "output_type": "display_data"
    },
    {
     "name": "stdout",
     "output_type": "stream",
     "text": [
      "Sheet name: monthvol\n"
     ]
    },
    {
     "data": {
      "application/vnd.microsoft.datawrangler.viewer.v0+json": {
       "columns": [
        {
         "name": "index",
         "rawType": "int64",
         "type": "integer"
        },
        {
         "name": "SKU",
         "rawType": "object",
         "type": "string"
        },
        {
         "name": "LABEL",
         "rawType": "object",
         "type": "string"
        },
        {
         "name": "MTH",
         "rawType": "int64",
         "type": "integer"
        },
        {
         "name": "Total Demand",
         "rawType": "int64",
         "type": "integer"
        }
       ],
       "conversionMethod": "pd.DataFrame",
       "ref": "1f7fca85-1a2e-4137-b437-b72c4ca57388",
       "rows": [
        [
         "0",
         "S0101958",
         "DURABEND R10",
         "1",
         "13"
        ],
        [
         "1",
         "S0101958",
         "DURABEND R10",
         "2",
         "28"
        ],
        [
         "2",
         "S0101958",
         "DURABEND R10",
         "3",
         "8"
        ],
        [
         "3",
         "S0101958",
         "DURABEND R10",
         "4",
         "14"
        ],
        [
         "4",
         "S0101958",
         "DURABEND R10",
         "5",
         "27"
        ],
        [
         "5",
         "S0101958",
         "DURABEND R10",
         "6",
         "11"
        ],
        [
         "6",
         "S0101958",
         "DURABEND R10",
         "7",
         "4"
        ],
        [
         "7",
         "S0101958",
         "DURABEND R10",
         "8",
         "9"
        ],
        [
         "8",
         "S0101958",
         "DURABEND R10",
         "9",
         "49"
        ],
        [
         "9",
         "S0101958",
         "DURABEND R10",
         "10",
         "5"
        ],
        [
         "10",
         "S0101958",
         "DURABEND R10",
         "11",
         "15"
        ],
        [
         "11",
         "S0101958",
         "DURABEND R10",
         "12",
         "4"
        ],
        [
         "12",
         "S0121958",
         "DURABEND R12",
         "1",
         "799"
        ],
        [
         "13",
         "S0121958",
         "DURABEND R12",
         "2",
         "1202"
        ],
        [
         "14",
         "S0121958",
         "DURABEND R12",
         "3",
         "981"
        ],
        [
         "15",
         "S0121958",
         "DURABEND R12",
         "4",
         "877"
        ],
        [
         "16",
         "S0121958",
         "DURABEND R12",
         "5",
         "1084"
        ],
        [
         "17",
         "S0121958",
         "DURABEND R12",
         "6",
         "1203"
        ],
        [
         "18",
         "S0121958",
         "DURABEND R12",
         "7",
         "588"
        ],
        [
         "19",
         "S0121958",
         "DURABEND R12",
         "8",
         "1038"
        ],
        [
         "20",
         "S0121958",
         "DURABEND R12",
         "9",
         "780"
        ],
        [
         "21",
         "S0121958",
         "DURABEND R12",
         "10",
         "1081"
        ],
        [
         "22",
         "S0121958",
         "DURABEND R12",
         "11",
         "1580"
        ],
        [
         "23",
         "S0121958",
         "DURABEND R12",
         "12",
         "883"
        ],
        [
         "24",
         "S0151958",
         "DURABEND R15",
         "1",
         "2578"
        ],
        [
         "25",
         "S0151958",
         "DURABEND R15",
         "2",
         "2000"
        ],
        [
         "26",
         "S0151958",
         "DURABEND R15",
         "3",
         "3171"
        ],
        [
         "27",
         "S0151958",
         "DURABEND R15",
         "4",
         "2434"
        ],
        [
         "28",
         "S0151958",
         "DURABEND R15",
         "5",
         "2812"
        ],
        [
         "29",
         "S0151958",
         "DURABEND R15",
         "6",
         "1684"
        ],
        [
         "30",
         "S0151958",
         "DURABEND R15",
         "7",
         "2942"
        ],
        [
         "31",
         "S0151958",
         "DURABEND R15",
         "8",
         "3000"
        ],
        [
         "32",
         "S0151958",
         "DURABEND R15",
         "9",
         "2682"
        ],
        [
         "33",
         "S0151958",
         "DURABEND R15",
         "10",
         "1943"
        ],
        [
         "34",
         "S0151958",
         "DURABEND R15",
         "11",
         "1837"
        ],
        [
         "35",
         "S0151958",
         "DURABEND R15",
         "12",
         "2480"
        ],
        [
         "36",
         "S0102758",
         "DURAFLEX R10",
         "1",
         "108"
        ],
        [
         "37",
         "S0102758",
         "DURAFLEX R10",
         "2",
         "189"
        ],
        [
         "38",
         "S0102758",
         "DURAFLEX R10",
         "3",
         "101"
        ],
        [
         "39",
         "S0102758",
         "DURAFLEX R10",
         "4",
         "102"
        ],
        [
         "40",
         "S0102758",
         "DURAFLEX R10",
         "5",
         "11"
        ],
        [
         "41",
         "S0102758",
         "DURAFLEX R10",
         "6",
         "8"
        ],
        [
         "42",
         "S0102758",
         "DURAFLEX R10",
         "7",
         "25"
        ],
        [
         "43",
         "S0102758",
         "DURAFLEX R10",
         "8",
         "299"
        ],
        [
         "44",
         "S0102758",
         "DURAFLEX R10",
         "9",
         "48"
        ],
        [
         "45",
         "S0102758",
         "DURAFLEX R10",
         "10",
         "41"
        ],
        [
         "46",
         "S0102758",
         "DURAFLEX R10",
         "11",
         "23"
        ],
        [
         "47",
         "S0102758",
         "DURAFLEX R10",
         "12",
         "212"
        ],
        [
         "48",
         "S0122758",
         "DURAFLEX R12",
         "1",
         "15"
        ],
        [
         "49",
         "S0122758",
         "DURAFLEX R12",
         "2",
         "34"
        ]
       ],
       "shape": {
        "columns": 4,
        "rows": 84
       }
      },
      "text/html": [
       "<div>\n",
       "<style scoped>\n",
       "    .dataframe tbody tr th:only-of-type {\n",
       "        vertical-align: middle;\n",
       "    }\n",
       "\n",
       "    .dataframe tbody tr th {\n",
       "        vertical-align: top;\n",
       "    }\n",
       "\n",
       "    .dataframe thead th {\n",
       "        text-align: right;\n",
       "    }\n",
       "</style>\n",
       "<table border=\"1\" class=\"dataframe\">\n",
       "  <thead>\n",
       "    <tr style=\"text-align: right;\">\n",
       "      <th></th>\n",
       "      <th>SKU</th>\n",
       "      <th>LABEL</th>\n",
       "      <th>MTH</th>\n",
       "      <th>Total Demand</th>\n",
       "    </tr>\n",
       "  </thead>\n",
       "  <tbody>\n",
       "    <tr>\n",
       "      <th>0</th>\n",
       "      <td>S0101958</td>\n",
       "      <td>DURABEND R10</td>\n",
       "      <td>1</td>\n",
       "      <td>13</td>\n",
       "    </tr>\n",
       "    <tr>\n",
       "      <th>1</th>\n",
       "      <td>S0101958</td>\n",
       "      <td>DURABEND R10</td>\n",
       "      <td>2</td>\n",
       "      <td>28</td>\n",
       "    </tr>\n",
       "    <tr>\n",
       "      <th>2</th>\n",
       "      <td>S0101958</td>\n",
       "      <td>DURABEND R10</td>\n",
       "      <td>3</td>\n",
       "      <td>8</td>\n",
       "    </tr>\n",
       "    <tr>\n",
       "      <th>3</th>\n",
       "      <td>S0101958</td>\n",
       "      <td>DURABEND R10</td>\n",
       "      <td>4</td>\n",
       "      <td>14</td>\n",
       "    </tr>\n",
       "    <tr>\n",
       "      <th>4</th>\n",
       "      <td>S0101958</td>\n",
       "      <td>DURABEND R10</td>\n",
       "      <td>5</td>\n",
       "      <td>27</td>\n",
       "    </tr>\n",
       "    <tr>\n",
       "      <th>...</th>\n",
       "      <td>...</td>\n",
       "      <td>...</td>\n",
       "      <td>...</td>\n",
       "      <td>...</td>\n",
       "    </tr>\n",
       "    <tr>\n",
       "      <th>79</th>\n",
       "      <td>S0232758</td>\n",
       "      <td>DURAFLEX R23</td>\n",
       "      <td>8</td>\n",
       "      <td>63</td>\n",
       "    </tr>\n",
       "    <tr>\n",
       "      <th>80</th>\n",
       "      <td>S0232758</td>\n",
       "      <td>DURAFLEX R23</td>\n",
       "      <td>9</td>\n",
       "      <td>0</td>\n",
       "    </tr>\n",
       "    <tr>\n",
       "      <th>81</th>\n",
       "      <td>S0232758</td>\n",
       "      <td>DURAFLEX R23</td>\n",
       "      <td>10</td>\n",
       "      <td>1</td>\n",
       "    </tr>\n",
       "    <tr>\n",
       "      <th>82</th>\n",
       "      <td>S0232758</td>\n",
       "      <td>DURAFLEX R23</td>\n",
       "      <td>11</td>\n",
       "      <td>0</td>\n",
       "    </tr>\n",
       "    <tr>\n",
       "      <th>83</th>\n",
       "      <td>S0232758</td>\n",
       "      <td>DURAFLEX R23</td>\n",
       "      <td>12</td>\n",
       "      <td>76</td>\n",
       "    </tr>\n",
       "  </tbody>\n",
       "</table>\n",
       "<p>84 rows × 4 columns</p>\n",
       "</div>"
      ],
      "text/plain": [
       "         SKU         LABEL  MTH  Total Demand\n",
       "0   S0101958  DURABEND R10    1            13\n",
       "1   S0101958  DURABEND R10    2            28\n",
       "2   S0101958  DURABEND R10    3             8\n",
       "3   S0101958  DURABEND R10    4            14\n",
       "4   S0101958  DURABEND R10    5            27\n",
       "..       ...           ...  ...           ...\n",
       "79  S0232758  DURAFLEX R23    8            63\n",
       "80  S0232758  DURAFLEX R23    9             0\n",
       "81  S0232758  DURAFLEX R23   10             1\n",
       "82  S0232758  DURAFLEX R23   11             0\n",
       "83  S0232758  DURAFLEX R23   12            76\n",
       "\n",
       "[84 rows x 4 columns]"
      ]
     },
     "metadata": {},
     "output_type": "display_data"
    },
    {
     "name": "stdout",
     "output_type": "stream",
     "text": [
      "Sheet name: prodbat\n"
     ]
    },
    {
     "data": {
      "application/vnd.microsoft.datawrangler.viewer.v0+json": {
       "columns": [
        {
         "name": "index",
         "rawType": "int64",
         "type": "integer"
        },
        {
         "name": "SKU",
         "rawType": "object",
         "type": "string"
        },
        {
         "name": "LABEL",
         "rawType": "object",
         "type": "string"
        },
        {
         "name": "Avg Lot Size",
         "rawType": "int64",
         "type": "integer"
        }
       ],
       "conversionMethod": "pd.DataFrame",
       "ref": "cb8259fb-2203-4ca0-a0f5-4d2adf280973",
       "rows": [
        [
         "0",
         "S0101958",
         "DURABEND R10",
         "17"
        ],
        [
         "1",
         "S0121958",
         "DURABEND R12",
         "977"
        ],
        [
         "2",
         "S0151958",
         "DURABEND R15",
         "2956"
        ],
        [
         "3",
         "S0102758",
         "DURAFLEX R10",
         "116"
        ],
        [
         "4",
         "S0122758",
         "DURAFLEX R12",
         "20"
        ],
        [
         "5",
         "S0152758",
         "DURAFLEX R15",
         "60"
        ],
        [
         "6",
         "S0232758",
         "DURAFLEX R23",
         "15"
        ]
       ],
       "shape": {
        "columns": 3,
        "rows": 7
       }
      },
      "text/html": [
       "<div>\n",
       "<style scoped>\n",
       "    .dataframe tbody tr th:only-of-type {\n",
       "        vertical-align: middle;\n",
       "    }\n",
       "\n",
       "    .dataframe tbody tr th {\n",
       "        vertical-align: top;\n",
       "    }\n",
       "\n",
       "    .dataframe thead th {\n",
       "        text-align: right;\n",
       "    }\n",
       "</style>\n",
       "<table border=\"1\" class=\"dataframe\">\n",
       "  <thead>\n",
       "    <tr style=\"text-align: right;\">\n",
       "      <th></th>\n",
       "      <th>SKU</th>\n",
       "      <th>LABEL</th>\n",
       "      <th>Avg Lot Size</th>\n",
       "    </tr>\n",
       "  </thead>\n",
       "  <tbody>\n",
       "    <tr>\n",
       "      <th>0</th>\n",
       "      <td>S0101958</td>\n",
       "      <td>DURABEND R10</td>\n",
       "      <td>17</td>\n",
       "    </tr>\n",
       "    <tr>\n",
       "      <th>1</th>\n",
       "      <td>S0121958</td>\n",
       "      <td>DURABEND R12</td>\n",
       "      <td>977</td>\n",
       "    </tr>\n",
       "    <tr>\n",
       "      <th>2</th>\n",
       "      <td>S0151958</td>\n",
       "      <td>DURABEND R15</td>\n",
       "      <td>2956</td>\n",
       "    </tr>\n",
       "    <tr>\n",
       "      <th>3</th>\n",
       "      <td>S0102758</td>\n",
       "      <td>DURAFLEX R10</td>\n",
       "      <td>116</td>\n",
       "    </tr>\n",
       "    <tr>\n",
       "      <th>4</th>\n",
       "      <td>S0122758</td>\n",
       "      <td>DURAFLEX R12</td>\n",
       "      <td>20</td>\n",
       "    </tr>\n",
       "    <tr>\n",
       "      <th>5</th>\n",
       "      <td>S0152758</td>\n",
       "      <td>DURAFLEX R15</td>\n",
       "      <td>60</td>\n",
       "    </tr>\n",
       "    <tr>\n",
       "      <th>6</th>\n",
       "      <td>S0232758</td>\n",
       "      <td>DURAFLEX R23</td>\n",
       "      <td>15</td>\n",
       "    </tr>\n",
       "  </tbody>\n",
       "</table>\n",
       "</div>"
      ],
      "text/plain": [
       "        SKU         LABEL  Avg Lot Size\n",
       "0  S0101958  DURABEND R10            17\n",
       "1  S0121958  DURABEND R12           977\n",
       "2  S0151958  DURABEND R15          2956\n",
       "3  S0102758  DURAFLEX R10           116\n",
       "4  S0122758  DURAFLEX R12            20\n",
       "5  S0152758  DURAFLEX R15            60\n",
       "6  S0232758  DURAFLEX R23            15"
      ]
     },
     "metadata": {},
     "output_type": "display_data"
    },
    {
     "name": "stdout",
     "output_type": "stream",
     "text": [
      "Sheet name: fincldat\n"
     ]
    },
    {
     "data": {
      "application/vnd.microsoft.datawrangler.viewer.v0+json": {
       "columns": [
        {
         "name": "index",
         "rawType": "int64",
         "type": "integer"
        },
        {
         "name": "SKU",
         "rawType": "object",
         "type": "string"
        },
        {
         "name": "LABEL",
         "rawType": "object",
         "type": "string"
        },
        {
         "name": "Unit Cost",
         "rawType": "float64",
         "type": "float"
        },
        {
         "name": "Selling Price",
         "rawType": "float64",
         "type": "float"
        }
       ],
       "conversionMethod": "pd.DataFrame",
       "ref": "28b3caa4-6580-4a04-95bd-f4e1fe7ce55e",
       "rows": [
        [
         "0",
         "S0101958",
         "DURABEND R10",
         "0.23",
         "1.15"
        ],
        [
         "1",
         "S0121958",
         "DURABEND R12",
         "0.25",
         "1.0"
        ],
        [
         "2",
         "S0151958",
         "DURABEND R15",
         "0.27",
         "1.026"
        ],
        [
         "3",
         "S0102758",
         "DURAFLEX R10",
         "0.17",
         "0.68"
        ],
        [
         "4",
         "S0122758",
         "DURAFLEX R12",
         "0.22",
         "0.88"
        ],
        [
         "5",
         "S0152758",
         "DURAFLEX R15",
         "0.3",
         "1.14"
        ],
        [
         "6",
         "S0232758",
         "DURAFLEX R23",
         "0.31",
         "1.55"
        ]
       ],
       "shape": {
        "columns": 4,
        "rows": 7
       }
      },
      "text/html": [
       "<div>\n",
       "<style scoped>\n",
       "    .dataframe tbody tr th:only-of-type {\n",
       "        vertical-align: middle;\n",
       "    }\n",
       "\n",
       "    .dataframe tbody tr th {\n",
       "        vertical-align: top;\n",
       "    }\n",
       "\n",
       "    .dataframe thead th {\n",
       "        text-align: right;\n",
       "    }\n",
       "</style>\n",
       "<table border=\"1\" class=\"dataframe\">\n",
       "  <thead>\n",
       "    <tr style=\"text-align: right;\">\n",
       "      <th></th>\n",
       "      <th>SKU</th>\n",
       "      <th>LABEL</th>\n",
       "      <th>Unit Cost</th>\n",
       "      <th>Selling Price</th>\n",
       "    </tr>\n",
       "  </thead>\n",
       "  <tbody>\n",
       "    <tr>\n",
       "      <th>0</th>\n",
       "      <td>S0101958</td>\n",
       "      <td>DURABEND R10</td>\n",
       "      <td>0.23</td>\n",
       "      <td>1.150</td>\n",
       "    </tr>\n",
       "    <tr>\n",
       "      <th>1</th>\n",
       "      <td>S0121958</td>\n",
       "      <td>DURABEND R12</td>\n",
       "      <td>0.25</td>\n",
       "      <td>1.000</td>\n",
       "    </tr>\n",
       "    <tr>\n",
       "      <th>2</th>\n",
       "      <td>S0151958</td>\n",
       "      <td>DURABEND R15</td>\n",
       "      <td>0.27</td>\n",
       "      <td>1.026</td>\n",
       "    </tr>\n",
       "    <tr>\n",
       "      <th>3</th>\n",
       "      <td>S0102758</td>\n",
       "      <td>DURAFLEX R10</td>\n",
       "      <td>0.17</td>\n",
       "      <td>0.680</td>\n",
       "    </tr>\n",
       "    <tr>\n",
       "      <th>4</th>\n",
       "      <td>S0122758</td>\n",
       "      <td>DURAFLEX R12</td>\n",
       "      <td>0.22</td>\n",
       "      <td>0.880</td>\n",
       "    </tr>\n",
       "    <tr>\n",
       "      <th>5</th>\n",
       "      <td>S0152758</td>\n",
       "      <td>DURAFLEX R15</td>\n",
       "      <td>0.30</td>\n",
       "      <td>1.140</td>\n",
       "    </tr>\n",
       "    <tr>\n",
       "      <th>6</th>\n",
       "      <td>S0232758</td>\n",
       "      <td>DURAFLEX R23</td>\n",
       "      <td>0.31</td>\n",
       "      <td>1.550</td>\n",
       "    </tr>\n",
       "  </tbody>\n",
       "</table>\n",
       "</div>"
      ],
      "text/plain": [
       "        SKU         LABEL  Unit Cost  Selling Price\n",
       "0  S0101958  DURABEND R10       0.23          1.150\n",
       "1  S0121958  DURABEND R12       0.25          1.000\n",
       "2  S0151958  DURABEND R15       0.27          1.026\n",
       "3  S0102758  DURAFLEX R10       0.17          0.680\n",
       "4  S0122758  DURAFLEX R12       0.22          0.880\n",
       "5  S0152758  DURAFLEX R15       0.30          1.140\n",
       "6  S0232758  DURAFLEX R23       0.31          1.550"
      ]
     },
     "metadata": {},
     "output_type": "display_data"
    },
    {
     "name": "stdout",
     "output_type": "stream",
     "text": [
      "Sheet name: AVEINV\n"
     ]
    },
    {
     "name": "stderr",
     "output_type": "stream",
     "text": [
      "/opt/homebrew/lib/python3.11/site-packages/openpyxl/worksheet/header_footer.py:48: UserWarning: Cannot parse header or footer so it will be ignored\n",
      "  warn(\"\"\"Cannot parse header or footer so it will be ignored\"\"\")\n"
     ]
    },
    {
     "data": {
      "application/vnd.microsoft.datawrangler.viewer.v0+json": {
       "columns": [
        {
         "name": "index",
         "rawType": "int64",
         "type": "integer"
        },
        {
         "name": "SKU",
         "rawType": "object",
         "type": "string"
        },
        {
         "name": "LABEL",
         "rawType": "object",
         "type": "string"
        },
        {
         "name": "Month",
         "rawType": "int64",
         "type": "integer"
        },
        {
         "name": "Average inventory over the month",
         "rawType": "float64",
         "type": "float"
        }
       ],
       "conversionMethod": "pd.DataFrame",
       "ref": "cd1ada0f-4820-44d5-aa9c-7f0a99705ef4",
       "rows": [
        [
         "0",
         "S0101958",
         "DURABEND R10",
         "1",
         "74.61"
        ],
        [
         "1",
         "S0101958",
         "DURABEND R10",
         "2",
         "68.94"
        ],
        [
         "2",
         "S0101958",
         "DURABEND R10",
         "3",
         "76.38"
        ],
        [
         "3",
         "S0101958",
         "DURABEND R10",
         "4",
         "67.84"
        ],
        [
         "4",
         "S0101958",
         "DURABEND R10",
         "5",
         "68.06"
        ],
        [
         "5",
         "S0101958",
         "DURABEND R10",
         "6",
         "72.87"
        ],
        [
         "6",
         "S0101958",
         "DURABEND R10",
         "7",
         "67.14"
        ],
        [
         "7",
         "S0101958",
         "DURABEND R10",
         "8",
         "76.78"
        ],
        [
         "8",
         "S0101958",
         "DURABEND R10",
         "9",
         "74.14"
        ],
        [
         "9",
         "S0101958",
         "DURABEND R10",
         "10",
         "78.12"
        ],
        [
         "10",
         "S0101958",
         "DURABEND R10",
         "11",
         "74.8"
        ],
        [
         "11",
         "S0101958",
         "DURABEND R10",
         "12",
         "73.75"
        ],
        [
         "12",
         "S0121958",
         "DURABEND R12",
         "1",
         "743.33"
        ],
        [
         "13",
         "S0121958",
         "DURABEND R12",
         "2",
         "743.3"
        ],
        [
         "14",
         "S0121958",
         "DURABEND R12",
         "3",
         "743.9"
        ],
        [
         "15",
         "S0121958",
         "DURABEND R12",
         "4",
         "726.94"
        ],
        [
         "16",
         "S0121958",
         "DURABEND R12",
         "5",
         "751.84"
        ],
        [
         "17",
         "S0121958",
         "DURABEND R12",
         "6",
         "755.28"
        ],
        [
         "18",
         "S0121958",
         "DURABEND R12",
         "7",
         "726.96"
        ],
        [
         "19",
         "S0121958",
         "DURABEND R12",
         "8",
         "735.76"
        ],
        [
         "20",
         "S0121958",
         "DURABEND R12",
         "9",
         "722.29"
        ],
        [
         "21",
         "S0121958",
         "DURABEND R12",
         "10",
         "753.85"
        ],
        [
         "22",
         "S0121958",
         "DURABEND R12",
         "11",
         "765.85"
        ],
        [
         "23",
         "S0121958",
         "DURABEND R12",
         "12",
         "720.36"
        ],
        [
         "24",
         "S0151958",
         "DURABEND R15",
         "1",
         "1834.84"
        ],
        [
         "25",
         "S0151958",
         "DURABEND R15",
         "2",
         "1857.73"
        ],
        [
         "26",
         "S0151958",
         "DURABEND R15",
         "3",
         "1910.52"
        ],
        [
         "27",
         "S0151958",
         "DURABEND R15",
         "4",
         "1873.12"
        ],
        [
         "28",
         "S0151958",
         "DURABEND R15",
         "5",
         "1846.33"
        ],
        [
         "29",
         "S0151958",
         "DURABEND R15",
         "6",
         "1894.38"
        ],
        [
         "30",
         "S0151958",
         "DURABEND R15",
         "7",
         "1909.22"
        ],
        [
         "31",
         "S0151958",
         "DURABEND R15",
         "8",
         "1834.63"
        ],
        [
         "32",
         "S0151958",
         "DURABEND R15",
         "9",
         "1889.68"
        ],
        [
         "33",
         "S0151958",
         "DURABEND R15",
         "10",
         "1903.9"
        ],
        [
         "34",
         "S0151958",
         "DURABEND R15",
         "11",
         "1838.11"
        ],
        [
         "35",
         "S0151958",
         "DURABEND R15",
         "12",
         "1908.31"
        ],
        [
         "36",
         "S0102758",
         "DURAFLEX R10",
         "1",
         "643.13"
        ],
        [
         "37",
         "S0102758",
         "DURAFLEX R10",
         "2",
         "668.45"
        ],
        [
         "38",
         "S0102758",
         "DURAFLEX R10",
         "3",
         "608.65"
        ],
        [
         "39",
         "S0102758",
         "DURAFLEX R10",
         "4",
         "634.8"
        ],
        [
         "40",
         "S0102758",
         "DURAFLEX R10",
         "5",
         "572.64"
        ],
        [
         "41",
         "S0102758",
         "DURAFLEX R10",
         "6",
         "571.16"
        ],
        [
         "42",
         "S0102758",
         "DURAFLEX R10",
         "7",
         "571.77"
        ],
        [
         "43",
         "S0102758",
         "DURAFLEX R10",
         "8",
         "616.94"
        ],
        [
         "44",
         "S0102758",
         "DURAFLEX R10",
         "9",
         "623.44"
        ],
        [
         "45",
         "S0102758",
         "DURAFLEX R10",
         "10",
         "558.96"
        ],
        [
         "46",
         "S0102758",
         "DURAFLEX R10",
         "11",
         "605.92"
        ],
        [
         "47",
         "S0102758",
         "DURAFLEX R10",
         "12",
         "583.98"
        ],
        [
         "48",
         "S0122758",
         "DURAFLEX R12",
         "1",
         "51.18"
        ],
        [
         "49",
         "S0122758",
         "DURAFLEX R12",
         "2",
         "57.92"
        ]
       ],
       "shape": {
        "columns": 4,
        "rows": 84
       }
      },
      "text/html": [
       "<div>\n",
       "<style scoped>\n",
       "    .dataframe tbody tr th:only-of-type {\n",
       "        vertical-align: middle;\n",
       "    }\n",
       "\n",
       "    .dataframe tbody tr th {\n",
       "        vertical-align: top;\n",
       "    }\n",
       "\n",
       "    .dataframe thead th {\n",
       "        text-align: right;\n",
       "    }\n",
       "</style>\n",
       "<table border=\"1\" class=\"dataframe\">\n",
       "  <thead>\n",
       "    <tr style=\"text-align: right;\">\n",
       "      <th></th>\n",
       "      <th>SKU</th>\n",
       "      <th>LABEL</th>\n",
       "      <th>Month</th>\n",
       "      <th>Average inventory over the month</th>\n",
       "    </tr>\n",
       "  </thead>\n",
       "  <tbody>\n",
       "    <tr>\n",
       "      <th>0</th>\n",
       "      <td>S0101958</td>\n",
       "      <td>DURABEND R10</td>\n",
       "      <td>1</td>\n",
       "      <td>74.61</td>\n",
       "    </tr>\n",
       "    <tr>\n",
       "      <th>1</th>\n",
       "      <td>S0101958</td>\n",
       "      <td>DURABEND R10</td>\n",
       "      <td>2</td>\n",
       "      <td>68.94</td>\n",
       "    </tr>\n",
       "    <tr>\n",
       "      <th>2</th>\n",
       "      <td>S0101958</td>\n",
       "      <td>DURABEND R10</td>\n",
       "      <td>3</td>\n",
       "      <td>76.38</td>\n",
       "    </tr>\n",
       "    <tr>\n",
       "      <th>3</th>\n",
       "      <td>S0101958</td>\n",
       "      <td>DURABEND R10</td>\n",
       "      <td>4</td>\n",
       "      <td>67.84</td>\n",
       "    </tr>\n",
       "    <tr>\n",
       "      <th>4</th>\n",
       "      <td>S0101958</td>\n",
       "      <td>DURABEND R10</td>\n",
       "      <td>5</td>\n",
       "      <td>68.06</td>\n",
       "    </tr>\n",
       "    <tr>\n",
       "      <th>...</th>\n",
       "      <td>...</td>\n",
       "      <td>...</td>\n",
       "      <td>...</td>\n",
       "      <td>...</td>\n",
       "    </tr>\n",
       "    <tr>\n",
       "      <th>79</th>\n",
       "      <td>S0232758</td>\n",
       "      <td>DURAFLEX R23</td>\n",
       "      <td>8</td>\n",
       "      <td>191.46</td>\n",
       "    </tr>\n",
       "    <tr>\n",
       "      <th>80</th>\n",
       "      <td>S0232758</td>\n",
       "      <td>DURAFLEX R23</td>\n",
       "      <td>9</td>\n",
       "      <td>187.29</td>\n",
       "    </tr>\n",
       "    <tr>\n",
       "      <th>81</th>\n",
       "      <td>S0232758</td>\n",
       "      <td>DURAFLEX R23</td>\n",
       "      <td>10</td>\n",
       "      <td>182.06</td>\n",
       "    </tr>\n",
       "    <tr>\n",
       "      <th>82</th>\n",
       "      <td>S0232758</td>\n",
       "      <td>DURAFLEX R23</td>\n",
       "      <td>11</td>\n",
       "      <td>190.02</td>\n",
       "    </tr>\n",
       "    <tr>\n",
       "      <th>83</th>\n",
       "      <td>S0232758</td>\n",
       "      <td>DURAFLEX R23</td>\n",
       "      <td>12</td>\n",
       "      <td>188.73</td>\n",
       "    </tr>\n",
       "  </tbody>\n",
       "</table>\n",
       "<p>84 rows × 4 columns</p>\n",
       "</div>"
      ],
      "text/plain": [
       "         SKU         LABEL  Month  Average inventory over the month\n",
       "0   S0101958  DURABEND R10      1                             74.61\n",
       "1   S0101958  DURABEND R10      2                             68.94\n",
       "2   S0101958  DURABEND R10      3                             76.38\n",
       "3   S0101958  DURABEND R10      4                             67.84\n",
       "4   S0101958  DURABEND R10      5                             68.06\n",
       "..       ...           ...    ...                               ...\n",
       "79  S0232758  DURAFLEX R23      8                            191.46\n",
       "80  S0232758  DURAFLEX R23      9                            187.29\n",
       "81  S0232758  DURAFLEX R23     10                            182.06\n",
       "82  S0232758  DURAFLEX R23     11                            190.02\n",
       "83  S0232758  DURAFLEX R23     12                            188.73\n",
       "\n",
       "[84 rows x 4 columns]"
      ]
     },
     "metadata": {},
     "output_type": "display_data"
    }
   ],
   "source": [
    "import pandas as pd\n",
    "\n",
    "# Load the Excel file\n",
    "file_path = '4.3.1.SteelWorksData.xlsx'\n",
    "xls = pd.ExcelFile(file_path)\n",
    "\n",
    "# Create a dictionary to store DataFrames\n",
    "dfs = {}\n",
    "\n",
    "# Display each sheet as a DataFrame with headers on row 3 (index 2)\n",
    "for sheet_name in xls.sheet_names:\n",
    "    if sheet_name == 'fincldat' or sheet_name == 'AVEINV':\n",
    "        df = pd.read_excel(xls, sheet_name, header=1)\n",
    "    else:\n",
    "        df = pd.read_excel(xls, sheet_name, header=2)\n",
    "    dfs[sheet_name] = df\n",
    "    print(f\"Sheet name: {sheet_name}\")\n",
    "    display(df)"
   ]
  },
  {
   "cell_type": "markdown",
   "metadata": {},
   "source": [
    "## $\\mu$ and $\\sigma$\n",
    "\n",
    "We are to do the following for all products in the 'monthvol' sheet."
   ]
  },
  {
   "cell_type": "code",
   "execution_count": 52,
   "metadata": {},
   "outputs": [
    {
     "data": {
      "application/vnd.microsoft.datawrangler.viewer.v0+json": {
       "columns": [
        {
         "name": "index",
         "rawType": "int64",
         "type": "integer"
        },
        {
         "name": "LABEL",
         "rawType": "object",
         "type": "string"
        },
        {
         "name": "Mean Demand",
         "rawType": "float64",
         "type": "float"
        },
        {
         "name": "Standard Deviation",
         "rawType": "float64",
         "type": "float"
        }
       ],
       "conversionMethod": "pd.DataFrame",
       "ref": "d8bc29c1-ec4e-4c38-91c1-b866b0d25865",
       "rows": [
        [
         "0",
         "DURABEND R10",
         "15.583333333333334",
         "13.187172371343113"
        ],
        [
         "1",
         "DURABEND R12",
         "1008.0",
         "255.91724514701303"
        ],
        [
         "2",
         "DURABEND R15",
         "2463.5833333333335",
         "494.2094620950133"
        ],
        [
         "3",
         "DURAFLEX R10",
         "97.25",
         "92.52432112693397"
        ],
        [
         "4",
         "DURAFLEX R12",
         "18.583333333333332",
         "11.429295161066927"
        ],
        [
         "5",
         "DURAFLEX R15",
         "54.833333333333336",
         "80.05433760700896"
        ],
        [
         "6",
         "DURAFLEX R23",
         "35.583333333333336",
         "45.862359954608316"
        ]
       ],
       "shape": {
        "columns": 3,
        "rows": 7
       }
      },
      "text/html": [
       "<div>\n",
       "<style scoped>\n",
       "    .dataframe tbody tr th:only-of-type {\n",
       "        vertical-align: middle;\n",
       "    }\n",
       "\n",
       "    .dataframe tbody tr th {\n",
       "        vertical-align: top;\n",
       "    }\n",
       "\n",
       "    .dataframe thead th {\n",
       "        text-align: right;\n",
       "    }\n",
       "</style>\n",
       "<table border=\"1\" class=\"dataframe\">\n",
       "  <thead>\n",
       "    <tr style=\"text-align: right;\">\n",
       "      <th></th>\n",
       "      <th>LABEL</th>\n",
       "      <th>Mean Demand</th>\n",
       "      <th>Standard Deviation</th>\n",
       "    </tr>\n",
       "  </thead>\n",
       "  <tbody>\n",
       "    <tr>\n",
       "      <th>0</th>\n",
       "      <td>DURABEND R10</td>\n",
       "      <td>15.583333</td>\n",
       "      <td>13.187172</td>\n",
       "    </tr>\n",
       "    <tr>\n",
       "      <th>1</th>\n",
       "      <td>DURABEND R12</td>\n",
       "      <td>1008.000000</td>\n",
       "      <td>255.917245</td>\n",
       "    </tr>\n",
       "    <tr>\n",
       "      <th>2</th>\n",
       "      <td>DURABEND R15</td>\n",
       "      <td>2463.583333</td>\n",
       "      <td>494.209462</td>\n",
       "    </tr>\n",
       "    <tr>\n",
       "      <th>3</th>\n",
       "      <td>DURAFLEX R10</td>\n",
       "      <td>97.250000</td>\n",
       "      <td>92.524321</td>\n",
       "    </tr>\n",
       "    <tr>\n",
       "      <th>4</th>\n",
       "      <td>DURAFLEX R12</td>\n",
       "      <td>18.583333</td>\n",
       "      <td>11.429295</td>\n",
       "    </tr>\n",
       "    <tr>\n",
       "      <th>5</th>\n",
       "      <td>DURAFLEX R15</td>\n",
       "      <td>54.833333</td>\n",
       "      <td>80.054338</td>\n",
       "    </tr>\n",
       "    <tr>\n",
       "      <th>6</th>\n",
       "      <td>DURAFLEX R23</td>\n",
       "      <td>35.583333</td>\n",
       "      <td>45.862360</td>\n",
       "    </tr>\n",
       "  </tbody>\n",
       "</table>\n",
       "</div>"
      ],
      "text/plain": [
       "          LABEL  Mean Demand  Standard Deviation\n",
       "0  DURABEND R10    15.583333           13.187172\n",
       "1  DURABEND R12  1008.000000          255.917245\n",
       "2  DURABEND R15  2463.583333          494.209462\n",
       "3  DURAFLEX R10    97.250000           92.524321\n",
       "4  DURAFLEX R12    18.583333           11.429295\n",
       "5  DURAFLEX R15    54.833333           80.054338\n",
       "6  DURAFLEX R23    35.583333           45.862360"
      ]
     },
     "metadata": {},
     "output_type": "display_data"
    }
   ],
   "source": [
    "# Group by 'LABEL' and calculate mean and standard deviation of 'Total Demand'\n",
    "monthvol_df = dfs['monthvol']\n",
    "demand_stats = monthvol_df.groupby('LABEL')['Total Demand'].agg(['mean', 'std']).reset_index()\n",
    "\n",
    "# Rename columns for clarity\n",
    "demand_stats.columns = ['LABEL', 'Mean Demand', 'Standard Deviation']\n",
    "\n",
    "# Display the resulting DataFrame\n",
    "display(demand_stats)"
   ]
  },
  {
   "cell_type": "markdown",
   "metadata": {},
   "source": [
    "We need to ensure our stock covers R+L days. This is made up of two terms:\n",
    "* Cycle Stock - $(R+L)\\mu$\n",
    "* Safety Stock - $\\mathbb z\\sigma\\sqrt{R+L}$\n",
    "* Average Inventory - $\\frac{R\\mu}{2} + z\\sigma \\sqrt{R + L}.$"
   ]
  },
  {
   "cell_type": "code",
   "execution_count": 53,
   "metadata": {},
   "outputs": [
    {
     "name": "stdout",
     "output_type": "stream",
     "text": [
      "Scenario 1\n"
     ]
    },
    {
     "data": {
      "application/vnd.microsoft.datawrangler.viewer.v0+json": {
       "columns": [
        {
         "name": "index",
         "rawType": "int64",
         "type": "integer"
        },
        {
         "name": "LABEL",
         "rawType": "object",
         "type": "string"
        },
        {
         "name": "L_1",
         "rawType": "float64",
         "type": "float"
        },
        {
         "name": "alpha_1",
         "rawType": "float64",
         "type": "float"
        },
        {
         "name": "CS_1",
         "rawType": "float64",
         "type": "float"
        },
        {
         "name": "SS_1",
         "rawType": "float64",
         "type": "float"
        },
        {
         "name": "BS_1",
         "rawType": "float64",
         "type": "float"
        },
        {
         "name": "AvgInv_1",
         "rawType": "float64",
         "type": "float"
        }
       ],
       "conversionMethod": "pd.DataFrame",
       "ref": "86cec9a4-ed24-4568-9a7d-a9313e654e9a",
       "rows": [
        [
         "0",
         "DURABEND R10",
         "0.25",
         "0.9",
         "19.479166666666668",
         "18.894820693798493",
         "38.373987360465165",
         "26.68648736046516"
        ],
        [
         "1",
         "DURABEND R12",
         "0.25",
         "0.9",
         "1260.0",
         "366.68288874510154",
         "1626.6828887451015",
         "870.6828887451015"
        ],
        [
         "2",
         "DURABEND R15",
         "0.25",
         "0.9",
         "3079.479166666667",
         "708.1123161593135",
         "3787.5914828259806",
         "1939.9039828259802"
        ],
        [
         "3",
         "DURAFLEX R10",
         "0.25",
         "0.9",
         "121.5625",
         "132.57053205036644",
         "254.13303205036644",
         "181.19553205036644"
        ],
        [
         "4",
         "DURAFLEX R12",
         "0.25",
         "0.9",
         "23.229166666666664",
         "16.37610221840631",
         "39.605268885072974",
         "25.667768885072974"
        ],
        [
         "5",
         "DURAFLEX R15",
         "0.25",
         "0.9",
         "68.54166666666667",
         "114.70331260189514",
         "183.2449792685618",
         "142.1199792685618"
        ],
        [
         "6",
         "DURAFLEX R23",
         "0.25",
         "0.9",
         "44.47916666666667",
         "65.71242443299536",
         "110.19159109966203",
         "83.50409109966203"
        ]
       ],
       "shape": {
        "columns": 7,
        "rows": 7
       }
      },
      "text/html": [
       "<div>\n",
       "<style scoped>\n",
       "    .dataframe tbody tr th:only-of-type {\n",
       "        vertical-align: middle;\n",
       "    }\n",
       "\n",
       "    .dataframe tbody tr th {\n",
       "        vertical-align: top;\n",
       "    }\n",
       "\n",
       "    .dataframe thead th {\n",
       "        text-align: right;\n",
       "    }\n",
       "</style>\n",
       "<table border=\"1\" class=\"dataframe\">\n",
       "  <thead>\n",
       "    <tr style=\"text-align: right;\">\n",
       "      <th></th>\n",
       "      <th>LABEL</th>\n",
       "      <th>L_1</th>\n",
       "      <th>alpha_1</th>\n",
       "      <th>CS_1</th>\n",
       "      <th>SS_1</th>\n",
       "      <th>BS_1</th>\n",
       "      <th>AvgInv_1</th>\n",
       "    </tr>\n",
       "  </thead>\n",
       "  <tbody>\n",
       "    <tr>\n",
       "      <th>0</th>\n",
       "      <td>DURABEND R10</td>\n",
       "      <td>0.25</td>\n",
       "      <td>0.9</td>\n",
       "      <td>19.479167</td>\n",
       "      <td>18.894821</td>\n",
       "      <td>38.373987</td>\n",
       "      <td>26.686487</td>\n",
       "    </tr>\n",
       "    <tr>\n",
       "      <th>1</th>\n",
       "      <td>DURABEND R12</td>\n",
       "      <td>0.25</td>\n",
       "      <td>0.9</td>\n",
       "      <td>1260.000000</td>\n",
       "      <td>366.682889</td>\n",
       "      <td>1626.682889</td>\n",
       "      <td>870.682889</td>\n",
       "    </tr>\n",
       "    <tr>\n",
       "      <th>2</th>\n",
       "      <td>DURABEND R15</td>\n",
       "      <td>0.25</td>\n",
       "      <td>0.9</td>\n",
       "      <td>3079.479167</td>\n",
       "      <td>708.112316</td>\n",
       "      <td>3787.591483</td>\n",
       "      <td>1939.903983</td>\n",
       "    </tr>\n",
       "    <tr>\n",
       "      <th>3</th>\n",
       "      <td>DURAFLEX R10</td>\n",
       "      <td>0.25</td>\n",
       "      <td>0.9</td>\n",
       "      <td>121.562500</td>\n",
       "      <td>132.570532</td>\n",
       "      <td>254.133032</td>\n",
       "      <td>181.195532</td>\n",
       "    </tr>\n",
       "    <tr>\n",
       "      <th>4</th>\n",
       "      <td>DURAFLEX R12</td>\n",
       "      <td>0.25</td>\n",
       "      <td>0.9</td>\n",
       "      <td>23.229167</td>\n",
       "      <td>16.376102</td>\n",
       "      <td>39.605269</td>\n",
       "      <td>25.667769</td>\n",
       "    </tr>\n",
       "    <tr>\n",
       "      <th>5</th>\n",
       "      <td>DURAFLEX R15</td>\n",
       "      <td>0.25</td>\n",
       "      <td>0.9</td>\n",
       "      <td>68.541667</td>\n",
       "      <td>114.703313</td>\n",
       "      <td>183.244979</td>\n",
       "      <td>142.119979</td>\n",
       "    </tr>\n",
       "    <tr>\n",
       "      <th>6</th>\n",
       "      <td>DURAFLEX R23</td>\n",
       "      <td>0.25</td>\n",
       "      <td>0.9</td>\n",
       "      <td>44.479167</td>\n",
       "      <td>65.712424</td>\n",
       "      <td>110.191591</td>\n",
       "      <td>83.504091</td>\n",
       "    </tr>\n",
       "  </tbody>\n",
       "</table>\n",
       "</div>"
      ],
      "text/plain": [
       "          LABEL   L_1  alpha_1         CS_1        SS_1         BS_1  \\\n",
       "0  DURABEND R10  0.25      0.9    19.479167   18.894821    38.373987   \n",
       "1  DURABEND R12  0.25      0.9  1260.000000  366.682889  1626.682889   \n",
       "2  DURABEND R15  0.25      0.9  3079.479167  708.112316  3787.591483   \n",
       "3  DURAFLEX R10  0.25      0.9   121.562500  132.570532   254.133032   \n",
       "4  DURAFLEX R12  0.25      0.9    23.229167   16.376102    39.605269   \n",
       "5  DURAFLEX R15  0.25      0.9    68.541667  114.703313   183.244979   \n",
       "6  DURAFLEX R23  0.25      0.9    44.479167   65.712424   110.191591   \n",
       "\n",
       "      AvgInv_1  \n",
       "0    26.686487  \n",
       "1   870.682889  \n",
       "2  1939.903983  \n",
       "3   181.195532  \n",
       "4    25.667769  \n",
       "5   142.119979  \n",
       "6    83.504091  "
      ]
     },
     "metadata": {},
     "output_type": "display_data"
    },
    {
     "name": "stdout",
     "output_type": "stream",
     "text": [
      "Scenario 2\n"
     ]
    },
    {
     "data": {
      "application/vnd.microsoft.datawrangler.viewer.v0+json": {
       "columns": [
        {
         "name": "index",
         "rawType": "int64",
         "type": "integer"
        },
        {
         "name": "LABEL",
         "rawType": "object",
         "type": "string"
        },
        {
         "name": "L_1",
         "rawType": "float64",
         "type": "float"
        },
        {
         "name": "alpha_2",
         "rawType": "float64",
         "type": "float"
        },
        {
         "name": "CS_2",
         "rawType": "float64",
         "type": "float"
        },
        {
         "name": "SS_2",
         "rawType": "float64",
         "type": "float"
        },
        {
         "name": "BS_2",
         "rawType": "float64",
         "type": "float"
        },
        {
         "name": "AvgInv_2",
         "rawType": "float64",
         "type": "float"
        }
       ],
       "conversionMethod": "pd.DataFrame",
       "ref": "6aaa0284-6931-4004-bb60-9f4aa57b2d0e",
       "rows": [
        [
         "0",
         "DURABEND R10",
         "0.25",
         "0.97",
         "23.375",
         "20.698239028017692",
         "44.073239028017696",
         "28.48990569468436"
        ],
        [
         "1",
         "DURABEND R12",
         "0.25",
         "0.97",
         "1512.0",
         "401.68097923369857",
         "1913.6809792336985",
         "905.6809792336985"
        ],
        [
         "2",
         "DURABEND R15",
         "0.25",
         "0.97",
         "3695.375",
         "775.6981776153718",
         "4471.073177615372",
         "2007.4898442820386"
        ],
        [
         "3",
         "DURAFLEX R10",
         "0.25",
         "0.97",
         "145.875",
         "145.2237417288946",
         "291.0987417288946",
         "193.8487417288946"
        ],
        [
         "4",
         "DURAFLEX R12",
         "0.25",
         "0.97",
         "27.875",
         "17.939121178063054",
         "45.814121178063054",
         "27.23078784472972"
        ],
        [
         "5",
         "DURAFLEX R15",
         "0.25",
         "0.97",
         "82.25",
         "125.65118346524909",
         "207.9011834652491",
         "153.06785013191575"
        ],
        [
         "6",
         "DURAFLEX R23",
         "0.25",
         "0.97",
         "53.375",
         "71.98435434061035",
         "125.35935434061035",
         "89.77602100727702"
        ]
       ],
       "shape": {
        "columns": 7,
        "rows": 7
       }
      },
      "text/html": [
       "<div>\n",
       "<style scoped>\n",
       "    .dataframe tbody tr th:only-of-type {\n",
       "        vertical-align: middle;\n",
       "    }\n",
       "\n",
       "    .dataframe tbody tr th {\n",
       "        vertical-align: top;\n",
       "    }\n",
       "\n",
       "    .dataframe thead th {\n",
       "        text-align: right;\n",
       "    }\n",
       "</style>\n",
       "<table border=\"1\" class=\"dataframe\">\n",
       "  <thead>\n",
       "    <tr style=\"text-align: right;\">\n",
       "      <th></th>\n",
       "      <th>LABEL</th>\n",
       "      <th>L_1</th>\n",
       "      <th>alpha_2</th>\n",
       "      <th>CS_2</th>\n",
       "      <th>SS_2</th>\n",
       "      <th>BS_2</th>\n",
       "      <th>AvgInv_2</th>\n",
       "    </tr>\n",
       "  </thead>\n",
       "  <tbody>\n",
       "    <tr>\n",
       "      <th>0</th>\n",
       "      <td>DURABEND R10</td>\n",
       "      <td>0.25</td>\n",
       "      <td>0.97</td>\n",
       "      <td>23.375</td>\n",
       "      <td>20.698239</td>\n",
       "      <td>44.073239</td>\n",
       "      <td>28.489906</td>\n",
       "    </tr>\n",
       "    <tr>\n",
       "      <th>1</th>\n",
       "      <td>DURABEND R12</td>\n",
       "      <td>0.25</td>\n",
       "      <td>0.97</td>\n",
       "      <td>1512.000</td>\n",
       "      <td>401.680979</td>\n",
       "      <td>1913.680979</td>\n",
       "      <td>905.680979</td>\n",
       "    </tr>\n",
       "    <tr>\n",
       "      <th>2</th>\n",
       "      <td>DURABEND R15</td>\n",
       "      <td>0.25</td>\n",
       "      <td>0.97</td>\n",
       "      <td>3695.375</td>\n",
       "      <td>775.698178</td>\n",
       "      <td>4471.073178</td>\n",
       "      <td>2007.489844</td>\n",
       "    </tr>\n",
       "    <tr>\n",
       "      <th>3</th>\n",
       "      <td>DURAFLEX R10</td>\n",
       "      <td>0.25</td>\n",
       "      <td>0.97</td>\n",
       "      <td>145.875</td>\n",
       "      <td>145.223742</td>\n",
       "      <td>291.098742</td>\n",
       "      <td>193.848742</td>\n",
       "    </tr>\n",
       "    <tr>\n",
       "      <th>4</th>\n",
       "      <td>DURAFLEX R12</td>\n",
       "      <td>0.25</td>\n",
       "      <td>0.97</td>\n",
       "      <td>27.875</td>\n",
       "      <td>17.939121</td>\n",
       "      <td>45.814121</td>\n",
       "      <td>27.230788</td>\n",
       "    </tr>\n",
       "    <tr>\n",
       "      <th>5</th>\n",
       "      <td>DURAFLEX R15</td>\n",
       "      <td>0.25</td>\n",
       "      <td>0.97</td>\n",
       "      <td>82.250</td>\n",
       "      <td>125.651183</td>\n",
       "      <td>207.901183</td>\n",
       "      <td>153.067850</td>\n",
       "    </tr>\n",
       "    <tr>\n",
       "      <th>6</th>\n",
       "      <td>DURAFLEX R23</td>\n",
       "      <td>0.25</td>\n",
       "      <td>0.97</td>\n",
       "      <td>53.375</td>\n",
       "      <td>71.984354</td>\n",
       "      <td>125.359354</td>\n",
       "      <td>89.776021</td>\n",
       "    </tr>\n",
       "  </tbody>\n",
       "</table>\n",
       "</div>"
      ],
      "text/plain": [
       "          LABEL   L_1  alpha_2      CS_2        SS_2         BS_2     AvgInv_2\n",
       "0  DURABEND R10  0.25     0.97    23.375   20.698239    44.073239    28.489906\n",
       "1  DURABEND R12  0.25     0.97  1512.000  401.680979  1913.680979   905.680979\n",
       "2  DURABEND R15  0.25     0.97  3695.375  775.698178  4471.073178  2007.489844\n",
       "3  DURAFLEX R10  0.25     0.97   145.875  145.223742   291.098742   193.848742\n",
       "4  DURAFLEX R12  0.25     0.97    27.875   17.939121    45.814121    27.230788\n",
       "5  DURAFLEX R15  0.25     0.97    82.250  125.651183   207.901183   153.067850\n",
       "6  DURAFLEX R23  0.25     0.97    53.375   71.984354   125.359354    89.776021"
      ]
     },
     "metadata": {},
     "output_type": "display_data"
    },
    {
     "name": "stdout",
     "output_type": "stream",
     "text": [
      "Scenario 3\n"
     ]
    },
    {
     "data": {
      "application/vnd.microsoft.datawrangler.viewer.v0+json": {
       "columns": [
        {
         "name": "index",
         "rawType": "int64",
         "type": "integer"
        },
        {
         "name": "LABEL",
         "rawType": "object",
         "type": "string"
        },
        {
         "name": "L_2",
         "rawType": "float64",
         "type": "float"
        },
        {
         "name": "alpha_1",
         "rawType": "float64",
         "type": "float"
        },
        {
         "name": "CS_3",
         "rawType": "float64",
         "type": "float"
        },
        {
         "name": "SS_3",
         "rawType": "float64",
         "type": "float"
        },
        {
         "name": "BS_3",
         "rawType": "float64",
         "type": "float"
        },
        {
         "name": "AvgInv_3",
         "rawType": "float64",
         "type": "float"
        }
       ],
       "conversionMethod": "pd.DataFrame",
       "ref": "be102ddc-2b7d-4f14-95c6-253d31adf82a",
       "rows": [
        [
         "0",
         "DURABEND R10",
         "0.5",
         "0.9",
         "19.479166666666668",
         "27.729869748127136",
         "47.2090364147938",
         "35.5215364147938"
        ],
        [
         "1",
         "DURABEND R12",
         "0.5",
         "0.9",
         "1260.0",
         "538.1405258376409",
         "1798.1405258376408",
         "1042.1405258376408"
        ],
        [
         "2",
         "DURABEND R15",
         "0.5",
         "0.9",
         "3079.479166666667",
         "1039.219297835788",
         "4118.698464502455",
         "2271.010964502455"
        ],
        [
         "3",
         "DURAFLEX R10",
         "0.5",
         "0.9",
         "121.5625",
         "194.5593263768381",
         "316.1218263768381",
         "243.1843263768381"
        ],
        [
         "4",
         "DURAFLEX R12",
         "0.5",
         "0.9",
         "23.229166666666664",
         "24.0334210552983",
         "47.26258772196496",
         "33.32508772196497"
        ],
        [
         "5",
         "DURAFLEX R15",
         "0.5",
         "0.9",
         "68.54166666666667",
         "168.3375550196784",
         "236.8792216863451",
         "195.75422168634506"
        ],
        [
         "6",
         "DURAFLEX R23",
         "0.5",
         "0.9",
         "44.47916666666667",
         "96.4389659944577",
         "140.9181326611244",
         "114.23063266112437"
        ]
       ],
       "shape": {
        "columns": 7,
        "rows": 7
       }
      },
      "text/html": [
       "<div>\n",
       "<style scoped>\n",
       "    .dataframe tbody tr th:only-of-type {\n",
       "        vertical-align: middle;\n",
       "    }\n",
       "\n",
       "    .dataframe tbody tr th {\n",
       "        vertical-align: top;\n",
       "    }\n",
       "\n",
       "    .dataframe thead th {\n",
       "        text-align: right;\n",
       "    }\n",
       "</style>\n",
       "<table border=\"1\" class=\"dataframe\">\n",
       "  <thead>\n",
       "    <tr style=\"text-align: right;\">\n",
       "      <th></th>\n",
       "      <th>LABEL</th>\n",
       "      <th>L_2</th>\n",
       "      <th>alpha_1</th>\n",
       "      <th>CS_3</th>\n",
       "      <th>SS_3</th>\n",
       "      <th>BS_3</th>\n",
       "      <th>AvgInv_3</th>\n",
       "    </tr>\n",
       "  </thead>\n",
       "  <tbody>\n",
       "    <tr>\n",
       "      <th>0</th>\n",
       "      <td>DURABEND R10</td>\n",
       "      <td>0.5</td>\n",
       "      <td>0.9</td>\n",
       "      <td>19.479167</td>\n",
       "      <td>27.729870</td>\n",
       "      <td>47.209036</td>\n",
       "      <td>35.521536</td>\n",
       "    </tr>\n",
       "    <tr>\n",
       "      <th>1</th>\n",
       "      <td>DURABEND R12</td>\n",
       "      <td>0.5</td>\n",
       "      <td>0.9</td>\n",
       "      <td>1260.000000</td>\n",
       "      <td>538.140526</td>\n",
       "      <td>1798.140526</td>\n",
       "      <td>1042.140526</td>\n",
       "    </tr>\n",
       "    <tr>\n",
       "      <th>2</th>\n",
       "      <td>DURABEND R15</td>\n",
       "      <td>0.5</td>\n",
       "      <td>0.9</td>\n",
       "      <td>3079.479167</td>\n",
       "      <td>1039.219298</td>\n",
       "      <td>4118.698465</td>\n",
       "      <td>2271.010965</td>\n",
       "    </tr>\n",
       "    <tr>\n",
       "      <th>3</th>\n",
       "      <td>DURAFLEX R10</td>\n",
       "      <td>0.5</td>\n",
       "      <td>0.9</td>\n",
       "      <td>121.562500</td>\n",
       "      <td>194.559326</td>\n",
       "      <td>316.121826</td>\n",
       "      <td>243.184326</td>\n",
       "    </tr>\n",
       "    <tr>\n",
       "      <th>4</th>\n",
       "      <td>DURAFLEX R12</td>\n",
       "      <td>0.5</td>\n",
       "      <td>0.9</td>\n",
       "      <td>23.229167</td>\n",
       "      <td>24.033421</td>\n",
       "      <td>47.262588</td>\n",
       "      <td>33.325088</td>\n",
       "    </tr>\n",
       "    <tr>\n",
       "      <th>5</th>\n",
       "      <td>DURAFLEX R15</td>\n",
       "      <td>0.5</td>\n",
       "      <td>0.9</td>\n",
       "      <td>68.541667</td>\n",
       "      <td>168.337555</td>\n",
       "      <td>236.879222</td>\n",
       "      <td>195.754222</td>\n",
       "    </tr>\n",
       "    <tr>\n",
       "      <th>6</th>\n",
       "      <td>DURAFLEX R23</td>\n",
       "      <td>0.5</td>\n",
       "      <td>0.9</td>\n",
       "      <td>44.479167</td>\n",
       "      <td>96.438966</td>\n",
       "      <td>140.918133</td>\n",
       "      <td>114.230633</td>\n",
       "    </tr>\n",
       "  </tbody>\n",
       "</table>\n",
       "</div>"
      ],
      "text/plain": [
       "          LABEL  L_2  alpha_1         CS_3         SS_3         BS_3  \\\n",
       "0  DURABEND R10  0.5      0.9    19.479167    27.729870    47.209036   \n",
       "1  DURABEND R12  0.5      0.9  1260.000000   538.140526  1798.140526   \n",
       "2  DURABEND R15  0.5      0.9  3079.479167  1039.219298  4118.698465   \n",
       "3  DURAFLEX R10  0.5      0.9   121.562500   194.559326   316.121826   \n",
       "4  DURAFLEX R12  0.5      0.9    23.229167    24.033421    47.262588   \n",
       "5  DURAFLEX R15  0.5      0.9    68.541667   168.337555   236.879222   \n",
       "6  DURAFLEX R23  0.5      0.9    44.479167    96.438966   140.918133   \n",
       "\n",
       "      AvgInv_3  \n",
       "0    35.521536  \n",
       "1  1042.140526  \n",
       "2  2271.010965  \n",
       "3   243.184326  \n",
       "4    33.325088  \n",
       "5   195.754222  \n",
       "6   114.230633  "
      ]
     },
     "metadata": {},
     "output_type": "display_data"
    },
    {
     "name": "stdout",
     "output_type": "stream",
     "text": [
      "Scenario 4\n"
     ]
    },
    {
     "data": {
      "application/vnd.microsoft.datawrangler.viewer.v0+json": {
       "columns": [
        {
         "name": "index",
         "rawType": "int64",
         "type": "integer"
        },
        {
         "name": "LABEL",
         "rawType": "object",
         "type": "string"
        },
        {
         "name": "L_2",
         "rawType": "float64",
         "type": "float"
        },
        {
         "name": "alpha_2",
         "rawType": "float64",
         "type": "float"
        },
        {
         "name": "CS_4",
         "rawType": "float64",
         "type": "float"
        },
        {
         "name": "SS_4",
         "rawType": "float64",
         "type": "float"
        },
        {
         "name": "BS_4",
         "rawType": "float64",
         "type": "float"
        },
        {
         "name": "AvgInv_4",
         "rawType": "float64",
         "type": "float"
        }
       ],
       "conversionMethod": "pd.DataFrame",
       "ref": "b74de368-4659-44e2-a1fd-97694e153fad",
       "rows": [
        [
         "0",
         "DURABEND R10",
         "0.5",
         "0.97",
         "23.375",
         "30.376550355458658",
         "53.75155035545866",
         "38.168217022125326"
        ],
        [
         "1",
         "DURABEND R12",
         "0.5",
         "0.97",
         "1512.0",
         "589.5034102179351",
         "2101.503410217935",
         "1093.5034102179352"
        ],
        [
         "2",
         "DURABEND R15",
         "0.5",
         "0.97",
         "3695.375",
         "1138.4077032386813",
         "4833.782703238681",
         "2370.1993699053482"
        ],
        [
         "3",
         "DURAFLEX R10",
         "0.5",
         "0.97",
         "145.875",
         "213.12906365920816",
         "359.00406365920816",
         "261.75406365920816"
        ],
        [
         "4",
         "DURAFLEX R12",
         "0.5",
         "0.97",
         "27.875",
         "26.327293692012987",
         "54.20229369201299",
         "35.61896035867965"
        ],
        [
         "5",
         "DURAFLEX R15",
         "0.5",
         "0.97",
         "82.25",
         "184.4045523190897",
         "266.6545523190897",
         "211.82121898575636"
        ],
        [
         "6",
         "DURAFLEX R23",
         "0.5",
         "0.97",
         "53.375",
         "105.64359419527622",
         "159.01859419527622",
         "123.4352608619429"
        ]
       ],
       "shape": {
        "columns": 7,
        "rows": 7
       }
      },
      "text/html": [
       "<div>\n",
       "<style scoped>\n",
       "    .dataframe tbody tr th:only-of-type {\n",
       "        vertical-align: middle;\n",
       "    }\n",
       "\n",
       "    .dataframe tbody tr th {\n",
       "        vertical-align: top;\n",
       "    }\n",
       "\n",
       "    .dataframe thead th {\n",
       "        text-align: right;\n",
       "    }\n",
       "</style>\n",
       "<table border=\"1\" class=\"dataframe\">\n",
       "  <thead>\n",
       "    <tr style=\"text-align: right;\">\n",
       "      <th></th>\n",
       "      <th>LABEL</th>\n",
       "      <th>L_2</th>\n",
       "      <th>alpha_2</th>\n",
       "      <th>CS_4</th>\n",
       "      <th>SS_4</th>\n",
       "      <th>BS_4</th>\n",
       "      <th>AvgInv_4</th>\n",
       "    </tr>\n",
       "  </thead>\n",
       "  <tbody>\n",
       "    <tr>\n",
       "      <th>0</th>\n",
       "      <td>DURABEND R10</td>\n",
       "      <td>0.5</td>\n",
       "      <td>0.97</td>\n",
       "      <td>23.375</td>\n",
       "      <td>30.376550</td>\n",
       "      <td>53.751550</td>\n",
       "      <td>38.168217</td>\n",
       "    </tr>\n",
       "    <tr>\n",
       "      <th>1</th>\n",
       "      <td>DURABEND R12</td>\n",
       "      <td>0.5</td>\n",
       "      <td>0.97</td>\n",
       "      <td>1512.000</td>\n",
       "      <td>589.503410</td>\n",
       "      <td>2101.503410</td>\n",
       "      <td>1093.503410</td>\n",
       "    </tr>\n",
       "    <tr>\n",
       "      <th>2</th>\n",
       "      <td>DURABEND R15</td>\n",
       "      <td>0.5</td>\n",
       "      <td>0.97</td>\n",
       "      <td>3695.375</td>\n",
       "      <td>1138.407703</td>\n",
       "      <td>4833.782703</td>\n",
       "      <td>2370.199370</td>\n",
       "    </tr>\n",
       "    <tr>\n",
       "      <th>3</th>\n",
       "      <td>DURAFLEX R10</td>\n",
       "      <td>0.5</td>\n",
       "      <td>0.97</td>\n",
       "      <td>145.875</td>\n",
       "      <td>213.129064</td>\n",
       "      <td>359.004064</td>\n",
       "      <td>261.754064</td>\n",
       "    </tr>\n",
       "    <tr>\n",
       "      <th>4</th>\n",
       "      <td>DURAFLEX R12</td>\n",
       "      <td>0.5</td>\n",
       "      <td>0.97</td>\n",
       "      <td>27.875</td>\n",
       "      <td>26.327294</td>\n",
       "      <td>54.202294</td>\n",
       "      <td>35.618960</td>\n",
       "    </tr>\n",
       "    <tr>\n",
       "      <th>5</th>\n",
       "      <td>DURAFLEX R15</td>\n",
       "      <td>0.5</td>\n",
       "      <td>0.97</td>\n",
       "      <td>82.250</td>\n",
       "      <td>184.404552</td>\n",
       "      <td>266.654552</td>\n",
       "      <td>211.821219</td>\n",
       "    </tr>\n",
       "    <tr>\n",
       "      <th>6</th>\n",
       "      <td>DURAFLEX R23</td>\n",
       "      <td>0.5</td>\n",
       "      <td>0.97</td>\n",
       "      <td>53.375</td>\n",
       "      <td>105.643594</td>\n",
       "      <td>159.018594</td>\n",
       "      <td>123.435261</td>\n",
       "    </tr>\n",
       "  </tbody>\n",
       "</table>\n",
       "</div>"
      ],
      "text/plain": [
       "          LABEL  L_2  alpha_2      CS_4         SS_4         BS_4     AvgInv_4\n",
       "0  DURABEND R10  0.5     0.97    23.375    30.376550    53.751550    38.168217\n",
       "1  DURABEND R12  0.5     0.97  1512.000   589.503410  2101.503410  1093.503410\n",
       "2  DURABEND R15  0.5     0.97  3695.375  1138.407703  4833.782703  2370.199370\n",
       "3  DURAFLEX R10  0.5     0.97   145.875   213.129064   359.004064   261.754064\n",
       "4  DURAFLEX R12  0.5     0.97    27.875    26.327294    54.202294    35.618960\n",
       "5  DURAFLEX R15  0.5     0.97    82.250   184.404552   266.654552   211.821219\n",
       "6  DURAFLEX R23  0.5     0.97    53.375   105.643594   159.018594   123.435261"
      ]
     },
     "metadata": {},
     "output_type": "display_data"
    }
   ],
   "source": [
    "def q1():\n",
    "    from scipy.stats import norm\n",
    "\n",
    "    R=1\n",
    "    L=(.25,.5)\n",
    "    alpha = (.9,.97)\n",
    "\n",
    "    for label, row in demand_stats.iterrows():\n",
    "        mean_demand = row['Mean Demand']\n",
    "        stdev_demand = row['Standard Deviation']\n",
    "        scenario = 1\n",
    "        for i in range(2):\n",
    "            for j in range(2):\n",
    "                z = norm.ppf(alpha[i])\n",
    "                CS = (R + L[j]) * mean_demand\n",
    "                SS = z * stdev_demand * (R + L[j])**0.5\n",
    "                BS = CS + SS\n",
    "                AI = R*mean_demand/2+z*stdev_demand*(R+L[j])**0.5\n",
    "                demand_stats.at[label, f'L_{i+1}'] = L[i]\n",
    "                demand_stats.at[label, f'alpha_{i+1}'] = alpha[i]\n",
    "                demand_stats.at[label, f'CS_{scenario}'] = CS\n",
    "                demand_stats.at[label, f'SS_{scenario}'] = SS\n",
    "                demand_stats.at[label, f'BS_{scenario}'] = BS\n",
    "                demand_stats.at[label, f'AvgInv_{scenario}'] = AI\n",
    "\n",
    "                scenario += 1\n",
    "\n",
    "    # Display each scenario in a separate table\n",
    "    for scenario in range(1, 5):\n",
    "        scenario_columns = ['LABEL', f'L_{(scenario-1)//2 + 1}', f'alpha_{(scenario-1)%2 + 1}', f'CS_{scenario}', f'SS_{scenario}', f'BS_{scenario}', f'AvgInv_{scenario}']\n",
    "        print(f\"Scenario {scenario}\")\n",
    "        display(demand_stats[scenario_columns])\n",
    "q1()"
   ]
  },
  {
   "cell_type": "markdown",
   "metadata": {},
   "source": [
    "To summarize above, here's our reccomended inventory levels to stock the facility:"
   ]
  },
  {
   "cell_type": "code",
   "execution_count": 54,
   "metadata": {},
   "outputs": [
    {
     "data": {
      "application/vnd.microsoft.datawrangler.viewer.v0+json": {
       "columns": [
        {
         "name": "index",
         "rawType": "int64",
         "type": "integer"
        },
        {
         "name": "LABEL",
         "rawType": "object",
         "type": "string"
        },
        {
         "name": "BS_1",
         "rawType": "float64",
         "type": "float"
        },
        {
         "name": "BS_2",
         "rawType": "float64",
         "type": "float"
        },
        {
         "name": "BS_3",
         "rawType": "float64",
         "type": "float"
        },
        {
         "name": "BS_4",
         "rawType": "float64",
         "type": "float"
        }
       ],
       "conversionMethod": "pd.DataFrame",
       "ref": "ed773f4b-5154-4b7e-8f30-cc10bedb3deb",
       "rows": [
        [
         "0",
         "DURABEND R10",
         "38.373987360465165",
         "44.073239028017696",
         "47.2090364147938",
         "53.75155035545866"
        ],
        [
         "1",
         "DURABEND R12",
         "1626.6828887451015",
         "1913.6809792336985",
         "1798.1405258376408",
         "2101.503410217935"
        ],
        [
         "2",
         "DURABEND R15",
         "3787.5914828259806",
         "4471.073177615372",
         "4118.698464502455",
         "4833.782703238681"
        ],
        [
         "3",
         "DURAFLEX R10",
         "254.13303205036644",
         "291.0987417288946",
         "316.1218263768381",
         "359.00406365920816"
        ],
        [
         "4",
         "DURAFLEX R12",
         "39.605268885072974",
         "45.814121178063054",
         "47.26258772196496",
         "54.20229369201299"
        ],
        [
         "5",
         "DURAFLEX R15",
         "183.2449792685618",
         "207.9011834652491",
         "236.8792216863451",
         "266.6545523190897"
        ],
        [
         "6",
         "DURAFLEX R23",
         "110.19159109966203",
         "125.35935434061035",
         "140.9181326611244",
         "159.01859419527622"
        ]
       ],
       "shape": {
        "columns": 5,
        "rows": 7
       }
      },
      "text/html": [
       "<div>\n",
       "<style scoped>\n",
       "    .dataframe tbody tr th:only-of-type {\n",
       "        vertical-align: middle;\n",
       "    }\n",
       "\n",
       "    .dataframe tbody tr th {\n",
       "        vertical-align: top;\n",
       "    }\n",
       "\n",
       "    .dataframe thead th {\n",
       "        text-align: right;\n",
       "    }\n",
       "</style>\n",
       "<table border=\"1\" class=\"dataframe\">\n",
       "  <thead>\n",
       "    <tr style=\"text-align: right;\">\n",
       "      <th></th>\n",
       "      <th>LABEL</th>\n",
       "      <th>BS_1</th>\n",
       "      <th>BS_2</th>\n",
       "      <th>BS_3</th>\n",
       "      <th>BS_4</th>\n",
       "    </tr>\n",
       "  </thead>\n",
       "  <tbody>\n",
       "    <tr>\n",
       "      <th>0</th>\n",
       "      <td>DURABEND R10</td>\n",
       "      <td>38.373987</td>\n",
       "      <td>44.073239</td>\n",
       "      <td>47.209036</td>\n",
       "      <td>53.751550</td>\n",
       "    </tr>\n",
       "    <tr>\n",
       "      <th>1</th>\n",
       "      <td>DURABEND R12</td>\n",
       "      <td>1626.682889</td>\n",
       "      <td>1913.680979</td>\n",
       "      <td>1798.140526</td>\n",
       "      <td>2101.503410</td>\n",
       "    </tr>\n",
       "    <tr>\n",
       "      <th>2</th>\n",
       "      <td>DURABEND R15</td>\n",
       "      <td>3787.591483</td>\n",
       "      <td>4471.073178</td>\n",
       "      <td>4118.698465</td>\n",
       "      <td>4833.782703</td>\n",
       "    </tr>\n",
       "    <tr>\n",
       "      <th>3</th>\n",
       "      <td>DURAFLEX R10</td>\n",
       "      <td>254.133032</td>\n",
       "      <td>291.098742</td>\n",
       "      <td>316.121826</td>\n",
       "      <td>359.004064</td>\n",
       "    </tr>\n",
       "    <tr>\n",
       "      <th>4</th>\n",
       "      <td>DURAFLEX R12</td>\n",
       "      <td>39.605269</td>\n",
       "      <td>45.814121</td>\n",
       "      <td>47.262588</td>\n",
       "      <td>54.202294</td>\n",
       "    </tr>\n",
       "    <tr>\n",
       "      <th>5</th>\n",
       "      <td>DURAFLEX R15</td>\n",
       "      <td>183.244979</td>\n",
       "      <td>207.901183</td>\n",
       "      <td>236.879222</td>\n",
       "      <td>266.654552</td>\n",
       "    </tr>\n",
       "    <tr>\n",
       "      <th>6</th>\n",
       "      <td>DURAFLEX R23</td>\n",
       "      <td>110.191591</td>\n",
       "      <td>125.359354</td>\n",
       "      <td>140.918133</td>\n",
       "      <td>159.018594</td>\n",
       "    </tr>\n",
       "  </tbody>\n",
       "</table>\n",
       "</div>"
      ],
      "text/plain": [
       "          LABEL         BS_1         BS_2         BS_3         BS_4\n",
       "0  DURABEND R10    38.373987    44.073239    47.209036    53.751550\n",
       "1  DURABEND R12  1626.682889  1913.680979  1798.140526  2101.503410\n",
       "2  DURABEND R15  3787.591483  4471.073178  4118.698465  4833.782703\n",
       "3  DURAFLEX R10   254.133032   291.098742   316.121826   359.004064\n",
       "4  DURAFLEX R12    39.605269    45.814121    47.262588    54.202294\n",
       "5  DURAFLEX R15   183.244979   207.901183   236.879222   266.654552\n",
       "6  DURAFLEX R23   110.191591   125.359354   140.918133   159.018594"
      ]
     },
     "metadata": {},
     "output_type": "display_data"
    }
   ],
   "source": [
    "summary_demand_stats = demand_stats[['LABEL'] + [f'BS_{i}' for i in range(1, 5)]]\n",
    "display(summary_demand_stats)"
   ]
  },
  {
   "cell_type": "code",
   "execution_count": 55,
   "metadata": {},
   "outputs": [
    {
     "data": {
      "application/vnd.microsoft.datawrangler.viewer.v0+json": {
       "columns": [
        {
         "name": "index",
         "rawType": "int64",
         "type": "integer"
        },
        {
         "name": "LABEL",
         "rawType": "object",
         "type": "string"
        },
        {
         "name": "AvgInv_1",
         "rawType": "float64",
         "type": "float"
        },
        {
         "name": "AvgInv_2",
         "rawType": "float64",
         "type": "float"
        },
        {
         "name": "AvgInv_3",
         "rawType": "float64",
         "type": "float"
        },
        {
         "name": "AvgInv_4",
         "rawType": "float64",
         "type": "float"
        }
       ],
       "conversionMethod": "pd.DataFrame",
       "ref": "e93a37f9-3185-4641-9635-8b58df6c83c6",
       "rows": [
        [
         "0",
         "DURABEND R10",
         "26.68648736046516",
         "28.48990569468436",
         "35.5215364147938",
         "38.168217022125326"
        ],
        [
         "1",
         "DURABEND R12",
         "870.6828887451015",
         "905.6809792336985",
         "1042.1405258376408",
         "1093.5034102179352"
        ],
        [
         "2",
         "DURABEND R15",
         "1939.9039828259802",
         "2007.4898442820386",
         "2271.010964502455",
         "2370.1993699053482"
        ],
        [
         "3",
         "DURAFLEX R10",
         "181.19553205036644",
         "193.8487417288946",
         "243.1843263768381",
         "261.75406365920816"
        ],
        [
         "4",
         "DURAFLEX R12",
         "25.667768885072974",
         "27.23078784472972",
         "33.32508772196497",
         "35.61896035867965"
        ],
        [
         "5",
         "DURAFLEX R15",
         "142.1199792685618",
         "153.06785013191575",
         "195.75422168634506",
         "211.82121898575636"
        ],
        [
         "6",
         "DURAFLEX R23",
         "83.50409109966203",
         "89.77602100727702",
         "114.23063266112437",
         "123.4352608619429"
        ]
       ],
       "shape": {
        "columns": 5,
        "rows": 7
       }
      },
      "text/html": [
       "<div>\n",
       "<style scoped>\n",
       "    .dataframe tbody tr th:only-of-type {\n",
       "        vertical-align: middle;\n",
       "    }\n",
       "\n",
       "    .dataframe tbody tr th {\n",
       "        vertical-align: top;\n",
       "    }\n",
       "\n",
       "    .dataframe thead th {\n",
       "        text-align: right;\n",
       "    }\n",
       "</style>\n",
       "<table border=\"1\" class=\"dataframe\">\n",
       "  <thead>\n",
       "    <tr style=\"text-align: right;\">\n",
       "      <th></th>\n",
       "      <th>LABEL</th>\n",
       "      <th>AvgInv_1</th>\n",
       "      <th>AvgInv_2</th>\n",
       "      <th>AvgInv_3</th>\n",
       "      <th>AvgInv_4</th>\n",
       "    </tr>\n",
       "  </thead>\n",
       "  <tbody>\n",
       "    <tr>\n",
       "      <th>0</th>\n",
       "      <td>DURABEND R10</td>\n",
       "      <td>26.686487</td>\n",
       "      <td>28.489906</td>\n",
       "      <td>35.521536</td>\n",
       "      <td>38.168217</td>\n",
       "    </tr>\n",
       "    <tr>\n",
       "      <th>1</th>\n",
       "      <td>DURABEND R12</td>\n",
       "      <td>870.682889</td>\n",
       "      <td>905.680979</td>\n",
       "      <td>1042.140526</td>\n",
       "      <td>1093.503410</td>\n",
       "    </tr>\n",
       "    <tr>\n",
       "      <th>2</th>\n",
       "      <td>DURABEND R15</td>\n",
       "      <td>1939.903983</td>\n",
       "      <td>2007.489844</td>\n",
       "      <td>2271.010965</td>\n",
       "      <td>2370.199370</td>\n",
       "    </tr>\n",
       "    <tr>\n",
       "      <th>3</th>\n",
       "      <td>DURAFLEX R10</td>\n",
       "      <td>181.195532</td>\n",
       "      <td>193.848742</td>\n",
       "      <td>243.184326</td>\n",
       "      <td>261.754064</td>\n",
       "    </tr>\n",
       "    <tr>\n",
       "      <th>4</th>\n",
       "      <td>DURAFLEX R12</td>\n",
       "      <td>25.667769</td>\n",
       "      <td>27.230788</td>\n",
       "      <td>33.325088</td>\n",
       "      <td>35.618960</td>\n",
       "    </tr>\n",
       "    <tr>\n",
       "      <th>5</th>\n",
       "      <td>DURAFLEX R15</td>\n",
       "      <td>142.119979</td>\n",
       "      <td>153.067850</td>\n",
       "      <td>195.754222</td>\n",
       "      <td>211.821219</td>\n",
       "    </tr>\n",
       "    <tr>\n",
       "      <th>6</th>\n",
       "      <td>DURAFLEX R23</td>\n",
       "      <td>83.504091</td>\n",
       "      <td>89.776021</td>\n",
       "      <td>114.230633</td>\n",
       "      <td>123.435261</td>\n",
       "    </tr>\n",
       "  </tbody>\n",
       "</table>\n",
       "</div>"
      ],
      "text/plain": [
       "          LABEL     AvgInv_1     AvgInv_2     AvgInv_3     AvgInv_4\n",
       "0  DURABEND R10    26.686487    28.489906    35.521536    38.168217\n",
       "1  DURABEND R12   870.682889   905.680979  1042.140526  1093.503410\n",
       "2  DURABEND R15  1939.903983  2007.489844  2271.010965  2370.199370\n",
       "3  DURAFLEX R10   181.195532   193.848742   243.184326   261.754064\n",
       "4  DURAFLEX R12    25.667769    27.230788    33.325088    35.618960\n",
       "5  DURAFLEX R15   142.119979   153.067850   195.754222   211.821219\n",
       "6  DURAFLEX R23    83.504091    89.776021   114.230633   123.435261"
      ]
     },
     "metadata": {},
     "output_type": "display_data"
    }
   ],
   "source": [
    "summary_demand_stats = demand_stats[['LABEL'] + [f'AvgInv_{i}' for i in range(1, 5)]]\n",
    "display(summary_demand_stats)"
   ]
  },
  {
   "cell_type": "markdown",
   "metadata": {},
   "source": [
    "### Compare to Steelworks Case\n",
    "\n",
    "Here's the actual values that the company's inventory is held at."
   ]
  },
  {
   "cell_type": "code",
   "execution_count": 56,
   "metadata": {},
   "outputs": [
    {
     "data": {
      "application/vnd.microsoft.datawrangler.viewer.v0+json": {
       "columns": [
        {
         "name": "index",
         "rawType": "int64",
         "type": "integer"
        },
        {
         "name": "LABEL",
         "rawType": "object",
         "type": "string"
        },
        {
         "name": "Mean Actual Inventory",
         "rawType": "float64",
         "type": "float"
        }
       ],
       "conversionMethod": "pd.DataFrame",
       "ref": "98feceab-3df5-4f67-a8f4-35fe6fc22a25",
       "rows": [
        [
         "0",
         "DURABEND R10",
         "72.78583333333334"
        ],
        [
         "1",
         "DURABEND R12",
         "740.805"
        ],
        [
         "2",
         "DURABEND R15",
         "1875.0641666666668"
        ],
        [
         "3",
         "DURAFLEX R10",
         "604.9866666666667"
        ],
        [
         "4",
         "DURAFLEX R12",
         "55.59166666666667"
        ],
        [
         "5",
         "DURAFLEX R15",
         "388.58833333333337"
        ],
        [
         "6",
         "DURAFLEX R23",
         "190.66083333333333"
        ]
       ],
       "shape": {
        "columns": 2,
        "rows": 7
       }
      },
      "text/html": [
       "<div>\n",
       "<style scoped>\n",
       "    .dataframe tbody tr th:only-of-type {\n",
       "        vertical-align: middle;\n",
       "    }\n",
       "\n",
       "    .dataframe tbody tr th {\n",
       "        vertical-align: top;\n",
       "    }\n",
       "\n",
       "    .dataframe thead th {\n",
       "        text-align: right;\n",
       "    }\n",
       "</style>\n",
       "<table border=\"1\" class=\"dataframe\">\n",
       "  <thead>\n",
       "    <tr style=\"text-align: right;\">\n",
       "      <th></th>\n",
       "      <th>LABEL</th>\n",
       "      <th>Mean Actual Inventory</th>\n",
       "    </tr>\n",
       "  </thead>\n",
       "  <tbody>\n",
       "    <tr>\n",
       "      <th>0</th>\n",
       "      <td>DURABEND R10</td>\n",
       "      <td>72.785833</td>\n",
       "    </tr>\n",
       "    <tr>\n",
       "      <th>1</th>\n",
       "      <td>DURABEND R12</td>\n",
       "      <td>740.805000</td>\n",
       "    </tr>\n",
       "    <tr>\n",
       "      <th>2</th>\n",
       "      <td>DURABEND R15</td>\n",
       "      <td>1875.064167</td>\n",
       "    </tr>\n",
       "    <tr>\n",
       "      <th>3</th>\n",
       "      <td>DURAFLEX R10</td>\n",
       "      <td>604.986667</td>\n",
       "    </tr>\n",
       "    <tr>\n",
       "      <th>4</th>\n",
       "      <td>DURAFLEX R12</td>\n",
       "      <td>55.591667</td>\n",
       "    </tr>\n",
       "    <tr>\n",
       "      <th>5</th>\n",
       "      <td>DURAFLEX R15</td>\n",
       "      <td>388.588333</td>\n",
       "    </tr>\n",
       "    <tr>\n",
       "      <th>6</th>\n",
       "      <td>DURAFLEX R23</td>\n",
       "      <td>190.660833</td>\n",
       "    </tr>\n",
       "  </tbody>\n",
       "</table>\n",
       "</div>"
      ],
      "text/plain": [
       "          LABEL  Mean Actual Inventory\n",
       "0  DURABEND R10              72.785833\n",
       "1  DURABEND R12             740.805000\n",
       "2  DURABEND R15            1875.064167\n",
       "3  DURAFLEX R10             604.986667\n",
       "4  DURAFLEX R12              55.591667\n",
       "5  DURAFLEX R15             388.588333\n",
       "6  DURAFLEX R23             190.660833"
      ]
     },
     "metadata": {},
     "output_type": "display_data"
    }
   ],
   "source": [
    "# Filter the AVEINV DataFrame for DURABEND R12\n",
    "durabend_r12_aveinv_df = dfs['AVEINV'].groupby('LABEL')['Average inventory '\n",
    "'over the month'].mean().reset_index()\n",
    "durabend_r12_aveinv_df.columns = ['LABEL', 'Mean Actual Inventory']\n",
    "\n",
    "# Display the filtered DataFrame\n",
    "display(durabend_r12_aveinv_df)"
   ]
  },
  {
   "cell_type": "code",
   "execution_count": 57,
   "metadata": {},
   "outputs": [
    {
     "data": {
      "application/vnd.microsoft.datawrangler.viewer.v0+json": {
       "columns": [
        {
         "name": "index",
         "rawType": "int64",
         "type": "integer"
        },
        {
         "name": "LABEL",
         "rawType": "object",
         "type": "string"
        },
        {
         "name": "Mean Actual Inventory",
         "rawType": "float64",
         "type": "float"
        },
        {
         "name": "AvgInv_1",
         "rawType": "float64",
         "type": "float"
        },
        {
         "name": "AvgInv_2",
         "rawType": "float64",
         "type": "float"
        },
        {
         "name": "AvgInv_3",
         "rawType": "float64",
         "type": "float"
        },
        {
         "name": "AvgInv_4",
         "rawType": "float64",
         "type": "float"
        }
       ],
       "conversionMethod": "pd.DataFrame",
       "ref": "56c66e6f-7b62-4385-b796-1a4726434fe7",
       "rows": [
        [
         "2",
         "DURABEND R15",
         "1875.0641666666668",
         "1939.9039828259802",
         "2007.4898442820386",
         "2271.010964502455",
         "2370.1993699053482"
        ],
        [
         "1",
         "DURABEND R12",
         "740.805",
         "870.6828887451015",
         "905.6809792336985",
         "1042.1405258376408",
         "1093.5034102179352"
        ],
        [
         "3",
         "DURAFLEX R10",
         "604.9866666666667",
         "181.19553205036644",
         "193.8487417288946",
         "243.1843263768381",
         "261.75406365920816"
        ],
        [
         "5",
         "DURAFLEX R15",
         "388.58833333333337",
         "142.1199792685618",
         "153.06785013191575",
         "195.75422168634506",
         "211.82121898575636"
        ],
        [
         "6",
         "DURAFLEX R23",
         "190.66083333333333",
         "83.50409109966203",
         "89.77602100727702",
         "114.23063266112437",
         "123.4352608619429"
        ],
        [
         "0",
         "DURABEND R10",
         "72.78583333333334",
         "26.68648736046516",
         "28.48990569468436",
         "35.5215364147938",
         "38.168217022125326"
        ],
        [
         "4",
         "DURAFLEX R12",
         "55.59166666666667",
         "25.667768885072974",
         "27.23078784472972",
         "33.32508772196497",
         "35.61896035867965"
        ]
       ],
       "shape": {
        "columns": 6,
        "rows": 7
       }
      },
      "text/html": [
       "<div>\n",
       "<style scoped>\n",
       "    .dataframe tbody tr th:only-of-type {\n",
       "        vertical-align: middle;\n",
       "    }\n",
       "\n",
       "    .dataframe tbody tr th {\n",
       "        vertical-align: top;\n",
       "    }\n",
       "\n",
       "    .dataframe thead th {\n",
       "        text-align: right;\n",
       "    }\n",
       "</style>\n",
       "<table border=\"1\" class=\"dataframe\">\n",
       "  <thead>\n",
       "    <tr style=\"text-align: right;\">\n",
       "      <th></th>\n",
       "      <th>LABEL</th>\n",
       "      <th>Mean Actual Inventory</th>\n",
       "      <th>AvgInv_1</th>\n",
       "      <th>AvgInv_2</th>\n",
       "      <th>AvgInv_3</th>\n",
       "      <th>AvgInv_4</th>\n",
       "    </tr>\n",
       "  </thead>\n",
       "  <tbody>\n",
       "    <tr>\n",
       "      <th>2</th>\n",
       "      <td>DURABEND R15</td>\n",
       "      <td>1875.064167</td>\n",
       "      <td>1939.903983</td>\n",
       "      <td>2007.489844</td>\n",
       "      <td>2271.010965</td>\n",
       "      <td>2370.199370</td>\n",
       "    </tr>\n",
       "    <tr>\n",
       "      <th>1</th>\n",
       "      <td>DURABEND R12</td>\n",
       "      <td>740.805000</td>\n",
       "      <td>870.682889</td>\n",
       "      <td>905.680979</td>\n",
       "      <td>1042.140526</td>\n",
       "      <td>1093.503410</td>\n",
       "    </tr>\n",
       "    <tr>\n",
       "      <th>3</th>\n",
       "      <td>DURAFLEX R10</td>\n",
       "      <td>604.986667</td>\n",
       "      <td>181.195532</td>\n",
       "      <td>193.848742</td>\n",
       "      <td>243.184326</td>\n",
       "      <td>261.754064</td>\n",
       "    </tr>\n",
       "    <tr>\n",
       "      <th>5</th>\n",
       "      <td>DURAFLEX R15</td>\n",
       "      <td>388.588333</td>\n",
       "      <td>142.119979</td>\n",
       "      <td>153.067850</td>\n",
       "      <td>195.754222</td>\n",
       "      <td>211.821219</td>\n",
       "    </tr>\n",
       "    <tr>\n",
       "      <th>6</th>\n",
       "      <td>DURAFLEX R23</td>\n",
       "      <td>190.660833</td>\n",
       "      <td>83.504091</td>\n",
       "      <td>89.776021</td>\n",
       "      <td>114.230633</td>\n",
       "      <td>123.435261</td>\n",
       "    </tr>\n",
       "    <tr>\n",
       "      <th>0</th>\n",
       "      <td>DURABEND R10</td>\n",
       "      <td>72.785833</td>\n",
       "      <td>26.686487</td>\n",
       "      <td>28.489906</td>\n",
       "      <td>35.521536</td>\n",
       "      <td>38.168217</td>\n",
       "    </tr>\n",
       "    <tr>\n",
       "      <th>4</th>\n",
       "      <td>DURAFLEX R12</td>\n",
       "      <td>55.591667</td>\n",
       "      <td>25.667769</td>\n",
       "      <td>27.230788</td>\n",
       "      <td>33.325088</td>\n",
       "      <td>35.618960</td>\n",
       "    </tr>\n",
       "  </tbody>\n",
       "</table>\n",
       "</div>"
      ],
      "text/plain": [
       "          LABEL  Mean Actual Inventory     AvgInv_1     AvgInv_2     AvgInv_3  \\\n",
       "2  DURABEND R15            1875.064167  1939.903983  2007.489844  2271.010965   \n",
       "1  DURABEND R12             740.805000   870.682889   905.680979  1042.140526   \n",
       "3  DURAFLEX R10             604.986667   181.195532   193.848742   243.184326   \n",
       "5  DURAFLEX R15             388.588333   142.119979   153.067850   195.754222   \n",
       "6  DURAFLEX R23             190.660833    83.504091    89.776021   114.230633   \n",
       "0  DURABEND R10              72.785833    26.686487    28.489906    35.521536   \n",
       "4  DURAFLEX R12              55.591667    25.667769    27.230788    33.325088   \n",
       "\n",
       "      AvgInv_4  \n",
       "2  2370.199370  \n",
       "1  1093.503410  \n",
       "3   261.754064  \n",
       "5   211.821219  \n",
       "6   123.435261  \n",
       "0    38.168217  \n",
       "4    35.618960  "
      ]
     },
     "metadata": {},
     "output_type": "display_data"
    }
   ],
   "source": [
    "merged_df = pd.merge(demand_stats, durabend_r12_aveinv_df, on='LABEL', how='inner')\n",
    "\n",
    "# Select the relevant columns\n",
    "selected_columns = merged_df[['LABEL', 'Mean Actual Inventory']+ \n",
    "                             [f'AvgInv_{i}' for i in range(1, 5)]]\n",
    "\n",
    "selected_columns = selected_columns.sort_values(by='Mean Actual Inventory', \n",
    "                                                ascending=False)\n",
    "\n",
    "display(selected_columns)"
   ]
  },
  {
   "cell_type": "code",
   "execution_count": 58,
   "metadata": {},
   "outputs": [
    {
     "data": {
      "application/vnd.microsoft.datawrangler.viewer.v0+json": {
       "columns": [
        {
         "name": "index",
         "rawType": "int64",
         "type": "integer"
        },
        {
         "name": "LABEL",
         "rawType": "object",
         "type": "string"
        },
        {
         "name": "Mean Actual Inventory",
         "rawType": "float64",
         "type": "float"
        },
        {
         "name": "Within Range",
         "rawType": "bool",
         "type": "boolean"
        },
        {
         "name": "Percent Difference",
         "rawType": "object",
         "type": "string"
        },
        {
         "name": "Above or Below",
         "rawType": "object",
         "type": "string"
        }
       ],
       "conversionMethod": "pd.DataFrame",
       "ref": "b7ff9dd2-3b67-45c9-bc14-40d66d07a967",
       "rows": [
        [
         "0",
         "DURABEND R10",
         "72.78583333333334",
         "False",
         "172.74%",
         "Above"
        ],
        [
         "1",
         "DURABEND R12",
         "740.805",
         "False",
         "14.92%",
         "Below"
        ],
        [
         "2",
         "DURABEND R15",
         "1875.0641666666668",
         "False",
         "3.34%",
         "Below"
        ],
        [
         "3",
         "DURAFLEX R10",
         "604.9866666666667",
         "False",
         "233.89%",
         "Above"
        ],
        [
         "4",
         "DURAFLEX R12",
         "55.59166666666667",
         "False",
         "116.58%",
         "Above"
        ],
        [
         "5",
         "DURAFLEX R15",
         "388.58833333333337",
         "False",
         "173.42%",
         "Above"
        ],
        [
         "6",
         "DURAFLEX R23",
         "190.66083333333333",
         "False",
         "128.33%",
         "Above"
        ]
       ],
       "shape": {
        "columns": 5,
        "rows": 7
       }
      },
      "text/html": [
       "<div>\n",
       "<style scoped>\n",
       "    .dataframe tbody tr th:only-of-type {\n",
       "        vertical-align: middle;\n",
       "    }\n",
       "\n",
       "    .dataframe tbody tr th {\n",
       "        vertical-align: top;\n",
       "    }\n",
       "\n",
       "    .dataframe thead th {\n",
       "        text-align: right;\n",
       "    }\n",
       "</style>\n",
       "<table border=\"1\" class=\"dataframe\">\n",
       "  <thead>\n",
       "    <tr style=\"text-align: right;\">\n",
       "      <th></th>\n",
       "      <th>LABEL</th>\n",
       "      <th>Mean Actual Inventory</th>\n",
       "      <th>Within Range</th>\n",
       "      <th>Percent Difference</th>\n",
       "      <th>Above or Below</th>\n",
       "    </tr>\n",
       "  </thead>\n",
       "  <tbody>\n",
       "    <tr>\n",
       "      <th>0</th>\n",
       "      <td>DURABEND R10</td>\n",
       "      <td>72.785833</td>\n",
       "      <td>False</td>\n",
       "      <td>172.74%</td>\n",
       "      <td>Above</td>\n",
       "    </tr>\n",
       "    <tr>\n",
       "      <th>1</th>\n",
       "      <td>DURABEND R12</td>\n",
       "      <td>740.805000</td>\n",
       "      <td>False</td>\n",
       "      <td>14.92%</td>\n",
       "      <td>Below</td>\n",
       "    </tr>\n",
       "    <tr>\n",
       "      <th>2</th>\n",
       "      <td>DURABEND R15</td>\n",
       "      <td>1875.064167</td>\n",
       "      <td>False</td>\n",
       "      <td>3.34%</td>\n",
       "      <td>Below</td>\n",
       "    </tr>\n",
       "    <tr>\n",
       "      <th>3</th>\n",
       "      <td>DURAFLEX R10</td>\n",
       "      <td>604.986667</td>\n",
       "      <td>False</td>\n",
       "      <td>233.89%</td>\n",
       "      <td>Above</td>\n",
       "    </tr>\n",
       "    <tr>\n",
       "      <th>4</th>\n",
       "      <td>DURAFLEX R12</td>\n",
       "      <td>55.591667</td>\n",
       "      <td>False</td>\n",
       "      <td>116.58%</td>\n",
       "      <td>Above</td>\n",
       "    </tr>\n",
       "    <tr>\n",
       "      <th>5</th>\n",
       "      <td>DURAFLEX R15</td>\n",
       "      <td>388.588333</td>\n",
       "      <td>False</td>\n",
       "      <td>173.42%</td>\n",
       "      <td>Above</td>\n",
       "    </tr>\n",
       "    <tr>\n",
       "      <th>6</th>\n",
       "      <td>DURAFLEX R23</td>\n",
       "      <td>190.660833</td>\n",
       "      <td>False</td>\n",
       "      <td>128.33%</td>\n",
       "      <td>Above</td>\n",
       "    </tr>\n",
       "  </tbody>\n",
       "</table>\n",
       "</div>"
      ],
      "text/plain": [
       "          LABEL  Mean Actual Inventory  Within Range Percent Difference  \\\n",
       "0  DURABEND R10              72.785833         False            172.74%   \n",
       "1  DURABEND R12             740.805000         False             14.92%   \n",
       "2  DURABEND R15            1875.064167         False              3.34%   \n",
       "3  DURAFLEX R10             604.986667         False            233.89%   \n",
       "4  DURAFLEX R12              55.591667         False            116.58%   \n",
       "5  DURAFLEX R15             388.588333         False            173.42%   \n",
       "6  DURAFLEX R23             190.660833         False            128.33%   \n",
       "\n",
       "  Above or Below  \n",
       "0          Above  \n",
       "1          Below  \n",
       "2          Below  \n",
       "3          Above  \n",
       "4          Above  \n",
       "5          Above  \n",
       "6          Above  "
      ]
     },
     "metadata": {},
     "output_type": "display_data"
    }
   ],
   "source": [
    "# Check if Mean Actual Inventory is within the range of AvgInv_1 and AvgInv_4\n",
    "merged_df['Within Range'] = merged_df.apply(lambda row: row['AvgInv_1'] \n",
    "                                            <= row['Mean Actual Inventory'] \n",
    "                                            <= row['AvgInv_4'], axis=1)\n",
    "\n",
    "# Calculate the difference between Mean Actual Inventory and AvgInv_1\n",
    "merged_df['Difference'] = merged_df['Mean Actual Inventory'] - merged_df['AvgInv_1']\n",
    "\n",
    "merged_df['Percent Difference'] = merged_df.apply(lambda row: f\"{abs((row['Difference'] / row['AvgInv_1']) * 100):.2f}%\", axis=1)\n",
    "\n",
    "# Determine if the Mean Actual Inventory is above or below AvgInv_1\n",
    "merged_df['Above or Below'] = merged_df.apply(lambda row: 'Above' \n",
    "                                              if row['Difference'] > 0 \n",
    "                                              else 'Below', axis=1)\n",
    "\n",
    "# selected_columns = selected_columns.sort_values(by='Percent Difference', ascending=False)\n",
    "\n",
    "# Display the updated DataFrame\n",
    "display(merged_df[['LABEL', 'Mean Actual Inventory', 'Within Range', \n",
    "                   'Percent Difference', 'Above or Below']])"
   ]
  },
  {
   "cell_type": "markdown",
   "metadata": {},
   "source": [
    "---\n",
    "\n",
    "## Comparison & Reccomendations\n",
    "\n",
    "Notice that none of the given mean inventory is actually within the range idealized by any of our 4 scenarios.\n",
    "\n",
    "The greatest offenders, on a percentage basis, is `bend R10` and `flex R10`, which both are stocked with more than 150% surplus. \n",
    "\n",
    "Steelworks should reduce they're inventories for all SKUs except `Bend R12` and `Bend R15`. These should be increased by about 10%.\n",
    "\n",
    "---"
   ]
  },
  {
   "cell_type": "markdown",
   "metadata": {},
   "source": [
    "# 2) Luminex Solutions (LS) Inventory Management Problem\n",
    "\n",
    "Luminex Solutions (LS) is a manufacturer of various high-end floor lamps. LS \n",
    "uses **180 LED bulbs** in its production lines each day (assume **360 days in a year**). \n",
    "LS sources the bulbs from an electronics supplier at a price of **$2 per bulb**. \n",
    "The supplier has a **lead time of 2 months** and charges a **shipping fee of $200 per order**. \n",
    "LS applies an **inventory carrying cost rate of 30%** for the LED bulbs.\n",
    "\n",
    "## Bulk Order Discounts\n",
    "The supplier has recently introduced **bulk order discounts** based on the order quantity:\n",
    "- If LS orders **6,000 bulbs or fewer** at a time, the price remains **$2 per bulb**.\n",
    "- For orders **between 6,001 and 8,000** bulbs, the price drops to **$1.75 per bulb**.\n",
    "- For orders **exceeding 8,000 bulbs**, the price is reduced to **$1.50 per bulb**.\n",
    "\n",
    "## Questions"
   ]
  },
  {
   "cell_type": "markdown",
   "metadata": {},
   "source": [
    "### (a) How many bulbs should LS order each time?"
   ]
  },
  {
   "cell_type": "markdown",
   "metadata": {},
   "source": [
    "---\n",
    "\n",
    "I'm assuming this matches the **$(Q,r)$ Policy** Formulation\n",
    "\n",
    "- **Order quantity**:  \n",
    "  $$ Q = \\sqrt{\\frac{2K\\mu}{h}} $$"
   ]
  },
  {
   "cell_type": "markdown",
   "metadata": {},
   "source": [
    "Average total cost over time\n",
    "\n",
    "$$\\frac{KD}{Q} + \\frac{hQ}{2} + cD$$"
   ]
  },
  {
   "cell_type": "code",
   "execution_count": 60,
   "metadata": {},
   "outputs": [
    {
     "name": "stdout",
     "output_type": "stream",
     "text": [
      "Per unit Cost: 2, Q: 6572.670690061994 (not feasible)\n",
      "Per unit Cost: 2, Q: 6000\n",
      "Avg total cost over time is 133560.0\n",
      "\n",
      "Per unit Cost: 1.75, Q: 7026.480525229438\n",
      "Avg total cost over time is 117088.90227574545\n",
      "\n",
      "Per unit Cost: 1.5, Q: 7589.466384404111 (not feasible)\n",
      "Per unit Cost: 1.5, Q: 8001\n",
      "Avg total cost over time is 100620.02252530934\n",
      "\n"
     ]
    }
   ],
   "source": [
    "def avg_total_cost_rate(K,D,Q,h,c):\n",
    "    return K*D/Q + h*Q/2 + c*D\n",
    "\n",
    "def q1pta():\n",
    "    daily_demand = 180\n",
    "    mu_annual_demand = daily_demand *360\n",
    "\n",
    "    def c_cost(order_quantity):\n",
    "        if order_quantity > 0 and order_quantity <= 6_000:\n",
    "            return 2\n",
    "        if order_quantity > 6_000 and order_quantity <= 8_000:\n",
    "            return 1.75\n",
    "        if order_quantity > 8_000:\n",
    "            return 1.5\n",
    "\n",
    "    L_lead_time = 2 * 30                # Days\n",
    "    K_fixed_order_cost = 200            # Shipping Fee\n",
    "    perc_holding_cost = 0.3     # 30% of the inventory value\n",
    "\n",
    "\n",
    "    \n",
    "\n",
    "    for c, bound in zip((2, 1.75, 1.5), (6_000, 8_000, 8_001)):\n",
    "        h = perc_holding_cost * c\n",
    "        Q=(2*K_fixed_order_cost*mu_annual_demand/(h))**0.5\n",
    "        \n",
    "        if c_cost(Q) == c:\n",
    "            print(f\"Per unit Cost: {c}, Q: {Q}\")\n",
    "            print(f'Avg total cost over time is {avg_total_cost_rate(K_fixed_order_cost, mu_annual_demand, Q, h, c)}')\n",
    "            print()\n",
    "            continue\n",
    "\n",
    "        print(f\"Per unit Cost: {c}, Q: {Q} (not feasible)\")\n",
    "        Q = bound # this was choosen relative to the computed Q value restrospectively\n",
    "        print(f\"Per unit Cost: {c}, Q: {bound}\")\n",
    "        print(f'Avg total cost over time is {avg_total_cost_rate(K_fixed_order_cost, mu_annual_demand, Q, h, c)}')\n",
    "        print()\n",
    "q1pta()"
   ]
  },
  {
   "cell_type": "markdown",
   "metadata": {},
   "source": [
    "---\n",
    "\n",
    "### (b) What is the reorder point?"
   ]
  },
  {
   "cell_type": "markdown",
   "metadata": {},
   "source": [
    "- **Reorder point**:  \n",
    "  $$ r = L\\mu + z_{\\alpha} \\sigma \\sqrt{L} $$"
   ]
  },
  {
   "cell_type": "markdown",
   "metadata": {},
   "source": [
    "We can't solve without knowing the variance of our demand, unless we have no variance; meaning we only care about the first term\n"
   ]
  },
  {
   "cell_type": "code",
   "execution_count": 61,
   "metadata": {},
   "outputs": [
    {
     "name": "stdout",
     "output_type": "stream",
     "text": [
      "re-order at 10800 units\n"
     ]
    }
   ],
   "source": [
    "def q2ptc():\n",
    "    L_lead_time = 2 * 30                # Days\n",
    "    mu_daily_demand = 180               # Units\n",
    "    r = L_lead_time * mu_daily_demand\n",
    "    print(f're-order at {r} units')\n",
    "\n",
    "q2ptc()"
   ]
  },
  {
   "cell_type": "markdown",
   "metadata": {},
   "source": [
    "### (c) Alternative Scenario\n",
    "Assume that the supplier **does not offer any quantity discount** and its price remains **$2 per lamp** \n",
    "for **any order size**. However, the supplier is **increasing its shipment cost** for large orders.\n",
    "\n",
    "- Specifically, for **orders of size 6,000 or less**, the order setup cost is the same as before, **$200 per order**.\n",
    "- However, for orders **larger than 6,000**, the order setup cost increases to **$500**. \n",
    "  - This is mostly due to the fact that the supplier needs to send **two trucks** for orders larger than **6,000**.\n",
    "\n",
    "**How many lamps should LS order from the supplier?**"
   ]
  },
  {
   "cell_type": "code",
   "execution_count": 66,
   "metadata": {},
   "outputs": [
    {
     "name": "stdout",
     "output_type": "stream",
     "text": [
      "Fixed unit Cost:200, Q: 6572.670690061994 (Q not feasible)\n",
      "Q: 6000\n",
      "Avg total cost over time is 133560.0\n",
      "\n",
      "Fixed unit Cost: 500, Q: 10392.304845413264\n",
      "Avg total cost over time is 135835.38290724796\n",
      "\n"
     ]
    }
   ],
   "source": [
    "def q1ptc():\n",
    "    daily_demand = 180\n",
    "    mu_annual_demand = daily_demand *360\n",
    "    perc_holding_cost = 0.3     # 30% of the inventory value\n",
    "    c_unit_cost = 2\n",
    "    \n",
    "    def K_fixed_order_cost(order_quantity):\n",
    "        if order_quantity > 0 and order_quantity <= 6_000:\n",
    "            return 200\n",
    "        if order_quantity > 6_000:\n",
    "            return 500\n",
    "\n",
    "    for K, bound in zip((200, 500), (6_000, 6_001)):\n",
    "        h = perc_holding_cost * c_unit_cost\n",
    "\n",
    "        Q=(2*K*mu_annual_demand/(h))**0.5\n",
    "        \n",
    "        if K_fixed_order_cost(Q) == K:\n",
    "            print(f\"Fixed unit Cost: {K}, Q: {Q}\")\n",
    "            print(f'Avg total cost over time is {avg_total_cost_rate(K, mu_annual_demand, Q, h, c_unit_cost)}')\n",
    "            print()\n",
    "            continue\n",
    "\n",
    "        print(f\"Fixed unit Cost:{K}, Q: {Q} (Q not feasible)\")\n",
    "\n",
    "        Q = bound # this was choosen relative to the computed Q value restrospectively\n",
    "        print(f\"Q: {bound}\")\n",
    "        print(f'Avg total cost over time is {avg_total_cost_rate(K, mu_annual_demand, Q, h, c_unit_cost)}')\n",
    "        print()\n",
    "\n",
    "q1ptc()"
   ]
  },
  {
   "cell_type": "markdown",
   "metadata": {},
   "source": [
    "---\n",
    "\n",
    "# 3) CCAT Transmission Manufacturing Problem\n",
    "\n",
    "CCAT is a manufacturer of construction vehicles such as loaders and bulldozers. Its transmission plant has the capacity of producing 10,000 transmissions each year. CCAT needs 4,000 transmissions each year. Each transmission is valued at approximately $6,000. \n",
    "\n",
    "- **Fixed setup cost** per batch: $50,000  \n",
    "- **Annual inventory carrying rate** for the transmission: 20%\n",
    "\n",
    "---"
   ]
  },
  {
   "cell_type": "markdown",
   "metadata": {},
   "source": [
    "### Economic Production Quantity (EPQ) and Economic Production Lot (EPL)\n",
    "\n",
    "## Diagram\n",
    "A triangular inventory cycle is drawn, representing the replenishment and depletion of stock.\n",
    "\n",
    "- The replenishment rate is **P**\n",
    "- The demand rate is **D**\n",
    "- The shaded area represents the production and depletion phases\n",
    "\n",
    "## Optimal Order Quantity (Q*)\n",
    "$$\n",
    "Q^* = \\sqrt{\\frac{2KD}{h(1 - \\frac{D}{P})} }\n",
    "$$\n",
    "\n",
    "## Per Unit Time Cost\n",
    "$$\n",
    "\\text{Per unit time cost} = \\frac{CC}{CT} = \\frac{KD}{Q} + cD + \\frac{hQ(P-D)}{2P}\n",
    "$$\n",
    "\n",
    "## Key Variables\n",
    "- **K**: Setup cost\n",
    "- **c**: Unit cost\n",
    "- **Q**: Order quantity\n",
    "- **D**: Demand rate\n",
    "- **P**: Production rate\n",
    "- **h**: Holding cost per unit per time"
   ]
  },
  {
   "cell_type": "markdown",
   "metadata": {},
   "source": [
    "## Questions\n",
    "\n",
    "### a) Economic Production Quantity (EPQ)\n",
    "How many transmissions should CCAT produce in each run in order to minimize its annual production setup and inventory holding costs of transmissions?\n",
    "\n",
    "Cycle Length\n",
    "$\n",
    "\\text{Cycle Length} = \\frac{Q}{D}\n",
    "$\n"
   ]
  },
  {
   "cell_type": "code",
   "execution_count": 67,
   "metadata": {},
   "outputs": [
    {
     "name": "stdout",
     "output_type": "stream",
     "text": [
      "Optimal Q: 57735.026918962576 units\n"
     ]
    }
   ],
   "source": [
    "def q3pta():\n",
    "    K = 50_000      # Fixed order cost\n",
    "    c = 6_000        # to solve \n",
    "    D = 4_000        # Demand per year\n",
    "    P_production_capacity = 10_000       # production capacity\n",
    "    h_inventory_holding_cost = 0.2\n",
    "\n",
    "    def get_optimal_q(K,D,h,P):\n",
    "        return (2*K*D/(h*(1-D/P)))**0.5\n",
    "    \n",
    "    Q = get_optimal_q(K,D,h_inventory_holding_cost, P_production_capacity)\n",
    "    print(f'Optimal Q: {Q} units')\n",
    "    return Q\n",
    "\n",
    "_ = q3pta()"
   ]
  },
  {
   "cell_type": "markdown",
   "metadata": {},
   "source": [
    "### b) Production Run Length\n",
    "What is the length of a production run?\n",
    "\n",
    "Cycle Cost\n",
    "$\n",
    "\\text{Cycle Cost} = K + cQ + h\\frac{Q^2(P-D)}{2DP}\n",
    "$"
   ]
  },
  {
   "cell_type": "code",
   "execution_count": 68,
   "metadata": {},
   "outputs": [
    {
     "name": "stdout",
     "output_type": "stream",
     "text": [
      "Optimal Q: 57735.026918962576 units\n",
      "Cycle Time: 14.433756729740644 years\n"
     ]
    }
   ],
   "source": [
    "def q3ptb():\n",
    "    Q = q3pta()\n",
    "    D = 4_000        # Demand per year\n",
    "    CT_cycle_time = Q/D\n",
    "    print(f'Cycle Time: {CT_cycle_time} years')\n",
    "\n",
    "q3ptb()"
   ]
  },
  {
   "cell_type": "markdown",
   "metadata": {},
   "source": [
    "### c) Inventory Levels\n",
    "- What is the **maximum inventory** of transmissions?\n",
    "- What is the **average inventory** of transmissions?\n",
    "\n",
    " Maximum Inventory Level\n",
    "$\n",
    "H = \\frac{Q}{P} (P - D)\n",
    "$\n",
    "\n",
    "Avg Inventory \n",
    "avg_inv $  = \\frac{Q^2}{2D}-\\frac{Q^2}{2P}$"
   ]
  },
  {
   "cell_type": "code",
   "execution_count": 69,
   "metadata": {},
   "outputs": [
    {
     "name": "stdout",
     "output_type": "stream",
     "text": [
      "Optimal Q: 57735.026918962576 units\n",
      "Average Inventory: 250000.0 units\n"
     ]
    }
   ],
   "source": [
    "def q3ptc():\n",
    "    Q_quantity = q3pta()\n",
    "    D_demand = 4_000        # Demand per year\n",
    "    P_capacity = 10_000       # Production capacity\n",
    "    avg_inv = Q_quantity**2/(2*D_demand) - Q_quantity**2/(2*P_capacity)\n",
    "    print(f'Average Inventory: {avg_inv} units')\n",
    "\n",
    "q3ptc()"
   ]
  },
  {
   "cell_type": "markdown",
   "metadata": {},
   "source": [
    "---\n",
    "\n",
    "# 4) EOQ Model with Backorders\n",
    "\n",
    "Consider the EOQ model that we discussed in class. In that model, we assumed that backorders are not allowed. Now, consider a variant where backorders are allowed. When a product is unique and popular, customers are willing to wait to receive the product if it is out of stock. Firms can take advantage of this to reduce their inventory cost and plan their inventory such that a certain fraction of customers is backordered.\n",
    "\n",
    "Define:\n",
    "- **p** as the backorder cost per unit per unit time.\n",
    "- **x** as the fraction of demand that is backordered.\n",
    "\n",
    "## Questions\n",
    "\n",
    "### (a) Total Cost Function\n",
    "What is the total cost per unit time function in terms of order quantity (**Q**), **x**, and the cost parameters? \n",
    "\n",
    "Consider a similar approach used in class:\n",
    "1. Define the replenishment cycle.\n",
    "2. Derive the expressions for the total cost and the length of a replenishment cycle.\n",
    "\n",
    "---"
   ]
  },
  {
   "cell_type": "markdown",
   "metadata": {},
   "source": [
    "1) Replenishment cycle is the length of time between two shipment of orders from the wholesaler to the retailer. Each replenishment cycle provides the retailer with Q units.\n",
    "\n",
    "\n",
    "2) Replenishment Cycle Length is always \n",
    "- $CT = \\frac{Q}{D}$ \n",
    "and cycle cost will be \n",
    "- $CC = K+cQ+h\\frac{(Q(1-x))^2}{2D}+b\\frac{(Qx)^2}{2D}$ \n",
    "where \n",
    "\n",
    "    - D is the rate of demand\n",
    "    - K is fixed coster per order\n",
    "    - c is unit cost per item\n",
    "    - Q is the order quantity\n",
    "    - h is the holding cost per unit per day\n",
    "    - b is the backorder holding cost\n",
    "\n",
    "Thus, total cost per unit time is derived to be:\n",
    "\n",
    "$$\\frac{CC}{CT}=\\frac{K+cQ+h\\frac{(Q(1-x))^2}{2D}+b\\frac{(Qx)^2}{2D}}{\\frac{Q}{D}}$$"
   ]
  },
  {
   "cell_type": "markdown",
   "metadata": {},
   "source": [
    "### (b) Optimal Values of Q and x\n",
    "What are the optimal values of:\n",
    "- Order quantity (**Q**)?\n",
    "- Fraction of backordered demand (**x**)?"
   ]
  },
  {
   "cell_type": "code",
   "execution_count": 70,
   "metadata": {},
   "outputs": [
    {
     "name": "stdout",
     "output_type": "stream",
     "text": [
      "Derivative of the total cost with respect to Q:\n",
      "           2      2          \n",
      "  D⋅K   b⋅x    h⋅x          h\n",
      "- ─── + ──── + ──── - h⋅x + ─\n",
      "   2     2      2           2\n",
      "  Q                          \n",
      "\n",
      "Optimal Q:\n",
      "        _________________________\n",
      "       ╱           D⋅K           \n",
      "√2⋅   ╱  ─────────────────────── \n",
      "     ╱      2      2             \n",
      "   ╲╱    b⋅x  + h⋅x  - 2⋅h⋅x + h \n",
      "\n",
      "Second derivative of the total cost with respect to Q:\n",
      "2⋅D⋅K\n",
      "─────\n",
      "  3  \n",
      " Q   \n"
     ]
    }
   ],
   "source": [
    "import sympy as sp\n",
    "from sympy import solve\n",
    "\n",
    "def q4ptb():\n",
    "    # Define the variables\n",
    "    K, c, Q, h, x, D, b = sp.symbols('K c Q h x D b')\n",
    "\n",
    "    # Define the cost function\n",
    "    CC = K + c*Q + h*(Q*(1-x))**2/(2*D) + b*(Q*x)**2/(2*D)\n",
    "    CT = Q/D\n",
    "    total_cost = CC / CT\n",
    "\n",
    "    # Take the derivative with respect to Q\n",
    "    d_total_cost_dQ = sp.simplify(sp.diff(total_cost, Q))\n",
    "\n",
    "    print('Derivative of the total cost with respect to Q:')\n",
    "    # Display the derivatives\n",
    "    sp.pprint(d_total_cost_dQ)\n",
    "\n",
    "\n",
    "    print('\\nOptimal Q:')\n",
    "    # Solve for Q when d_total_cost_dQ = 0\n",
    "    Q_solution = solve(d_total_cost_dQ, Q)\n",
    "    Q_solution = (sp.simplify(Q_solution[1])) # We only care about the positive solution, Q > 0\n",
    "    sp.pprint(Q_solution)\n",
    "\n",
    "    # Take the second derivative with respect to Q\n",
    "    d2_total_cost_dQ2 = sp.diff(d_total_cost_dQ, Q)\n",
    "    \n",
    "    print('\\nSecond derivative of the total cost with respect to Q:')\n",
    "    # Display the second derivatives\n",
    "    sp.pprint(d2_total_cost_dQ2)\n",
    "q4ptb()\n"
   ]
  },
  {
   "cell_type": "markdown",
   "metadata": {},
   "source": [
    "Since the 2nd derivative is always positive, we know this is a global minima, and therefore our optimal Q is above.\n",
    "\n",
    "---"
   ]
  },
  {
   "cell_type": "markdown",
   "metadata": {},
   "source": [
    "### (c) Optimal Conditions for Backordering\n",
    "1. When is it optimal to backorder?\n",
    "2. Under what condition(s) is this model equivalent to the EOQ model?\n",
    "\n",
    "---"
   ]
  },
  {
   "cell_type": "markdown",
   "metadata": {},
   "source": [
    "1) Backorders can be defined as when x>0. Let's look at the total cost per unit time function w.r.t. x"
   ]
  },
  {
   "cell_type": "code",
   "execution_count": 71,
   "metadata": {},
   "outputs": [
    {
     "name": "stdout",
     "output_type": "stream",
     "text": [
      "Derivative of the total cost per unit time with respect to x:\n",
      "Q⋅(b⋅x + h⋅(x - 1))\n",
      "\n",
      "Optimal x:\n",
      "⎡  h  ⎤\n",
      "⎢─────⎥\n",
      "⎣b + h⎦\n",
      "\n",
      "Second derivative of the total cost per unit time with respect to x:\n",
      "Q⋅(b + h)\n"
     ]
    }
   ],
   "source": [
    "import sympy as sp\n",
    "from sympy import solve\n",
    "\n",
    "def q4ptc():\n",
    "    # Define the variables\n",
    "    K, c, Q, h, x, D, b = sp.symbols('K c Q h x D b')\n",
    "\n",
    "    # Define the cost function\n",
    "    CC = K + c*Q + h*(Q*(1-x))**2/(2*D) + b*(Q*x)**2/(2*D)\n",
    "    CT = Q/D\n",
    "    total_cost = CC / CT\n",
    "\n",
    "    # Take the derivative with respect to X\n",
    "    d_total_cost_dx = sp.simplify(sp.diff(total_cost, x))\n",
    "\n",
    "    print('Derivative of the total cost per unit time with respect to x:')\n",
    "    # Display the derivatives\n",
    "    sp.pprint(d_total_cost_dx)\n",
    "\n",
    "    print('\\nOptimal x:')\n",
    "    # Solve for x when d_total_cost_dx = 0\n",
    "    x_solution = solve(d_total_cost_dx, x)\n",
    "    sp.pprint(x_solution)\n",
    "\n",
    "    print('\\nSecond derivative of the total cost per unit time with respect to x:')\n",
    "    # Take the second derivative with respect to x\n",
    "    d2_total_cost_dx2 = sp.diff(d_total_cost_dx, x)\n",
    "    # Display the second derivatives\n",
    "    sp.pprint(d2_total_cost_dx2)\n",
    "\n",
    "q4ptc()"
   ]
  },
  {
   "cell_type": "markdown",
   "metadata": {},
   "source": [
    "The 2nd derivative is positive; thus, we know this is a global minima. Optimal x is therefore at $\\frac{h}{b+h}$\n",
    "\n",
    "---"
   ]
  }
 ],
 "metadata": {
  "kernelspec": {
   "display_name": "Python 3",
   "language": "python",
   "name": "python3"
  },
  "language_info": {
   "codemirror_mode": {
    "name": "ipython",
    "version": 3
   },
   "file_extension": ".py",
   "mimetype": "text/x-python",
   "name": "python",
   "nbconvert_exporter": "python",
   "pygments_lexer": "ipython3",
   "version": "3.11.11"
  }
 },
 "nbformat": 4,
 "nbformat_minor": 2
}
