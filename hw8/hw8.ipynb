{
 "cells": [
  {
   "cell_type": "markdown",
   "metadata": {},
   "source": [
    "# CMOR 461 / INDE 561 — Homework 8\n",
    "\n",
    "[![Open In Colab](https://colab.research.google.com/assets/colab-badge.svg)](https://colab.research.google.com/github/wweissbluth/CMOR-461-LOGISTICS-AND-SUPPLY-CHAIN-MANAGEMENT/blob/main/hw8/hw8.ipynb)\n",
    "\n",
    "\n",
    "## Problem 1: B&B Bookstore Inventory Optimization\n",
    "\n",
    "**Scenario:**  \n",
    "B&B, a local bookstore, must decide how many copies of a new book to order. They can only place one order before the selling season, which lasts one year. Afterward, unsold books are scrapped. \n",
    "\n",
    "### Given:\n",
    "\n",
    "- **Retail price:** $20  \n",
    "- **Wholesale price (from publisher):** $11  \n",
    "- **Publisher's raw-material cost:** $3.75  \n",
    "- **Bookstore shipping & handling cost:** $1.20  \n",
    "- **Demand:** Normally distributed  \n",
    "  - Mean: 1200  \n",
    "  - Standard deviation: 340  \n",
    "- **Unsold book scrap value:** $0.65  \n",
    "- **Loss-of-goodwill cost for unmet demand:**  \n",
    "  - Bookstore: $9.00  \n",
    "  - Publisher: $4.00  \n"
   ]
  },
  {
   "cell_type": "markdown",
   "metadata": {},
   "source": [
    "### Questions:\n",
    "\n",
    "---\n",
    "\n",
    "**a)** What is the bookstore’s optimal order quantity?\n",
    "\n",
    "---"
   ]
  },
  {
   "cell_type": "markdown",
   "metadata": {},
   "source": [
    "Per the derivation provided in the Canvas files.\n",
    "\n",
    "We want\n",
    "\n",
    "$$\n",
    "\\frac{r-w-c_b+g_b}{r-v+g_b}=F(Q^*_r)\n",
    "$$"
   ]
  },
  {
   "cell_type": "markdown",
   "metadata": {},
   "source": [
    "Meaning the CDF of the demand must be equal to the `Crtical Ratio`"
   ]
  },
  {
   "cell_type": "code",
   "execution_count": 335,
   "metadata": {},
   "outputs": [
    {
     "name": "stdout",
     "output_type": "stream",
     "text": [
      "Underage Cost: 16.80\n",
      "Overage Cost: 11.55\n",
      "Critical Ratio: 0.59\n",
      "Optimal book order quantity for retailer 1279.63 (59% of demand)\n"
     ]
    }
   ],
   "source": [
    "r = 20 # retail price\n",
    "\n",
    "w = 11 # wholesale price\n",
    "c_b = 1.2 # Handling cost\n",
    "\n",
    "c = 3.75 # production cost\n",
    "\n",
    "v = .65 # salvage value\n",
    "\n",
    "g_r = 9 # good will cost (retailer)\n",
    "\n",
    "# Underage Cost\n",
    "C_u_r = r - w - c_b + g_r\n",
    "print(f\"Underage Cost: {C_u_r:.2f}\")\n",
    "\n",
    "# Overage Cost\n",
    "C_o_r = w + c_b - v\n",
    "print(f\"Overage Cost: {C_o_r:.2f}\")\n",
    "\n",
    "critical_ratio_r = (C_u_r) / (C_u_r + C_o_r)\n",
    "print(f\"Critical Ratio: {critical_ratio_r:.2f}\")\n",
    "\n",
    "from scipy.stats import norm\n",
    "\n",
    "# Inputs\n",
    "mean_demand = 1200\n",
    "std_demand = 340\n",
    "\n",
    "Q_r = norm.ppf(critical_ratio_r, loc=mean_demand, scale=std_demand)\n",
    "\n",
    "print(f\"Optimal book order quantity for retailer {Q_r:.2f} ({int(critical_ratio_r*100)}% of demand)\")\n"
   ]
  },
  {
   "cell_type": "markdown",
   "metadata": {},
   "source": [
    "---\n",
    "\n",
    "**b)** What are the expected profits for the bookstore and publisher using the optimal order quantity from part (a)? What is the total expected profit?\n",
    "\n",
    "---"
   ]
  },
  {
   "cell_type": "markdown",
   "metadata": {},
   "source": [
    "`Retailer:`\n",
    "$$\n",
    "s(Q) = \\mathbb{E}[\\min(Q, D)] = \\mu - \\int_Q^\\infty (x - Q) f(x) \\, dx = \\mu - n(Q)\n",
    "$$\n"
   ]
  },
  {
   "cell_type": "code",
   "execution_count": 336,
   "metadata": {},
   "outputs": [
    {
     "name": "stdout",
     "output_type": "stream",
     "text": [
      "Expected lost sales n(Q) = 99.53\n",
      "Expected sales s(Q) = 1100.47\n"
     ]
    }
   ],
   "source": [
    "def q1b():\n",
    "    from scipy.stats import norm\n",
    "    from scipy.integrate import quad\n",
    "\n",
    "    # Parameters\n",
    "    mu = mean_demand\n",
    "    sigma = std_demand\n",
    "    Q = Q_r\n",
    "\n",
    "    # PDF of normal distribution\n",
    "    f = lambda x: norm.pdf(x, loc=mu, scale=sigma)\n",
    "\n",
    "    # Tail integral for n(Q) = ∫_Q^∞ (x - Q) f(x) dx\n",
    "    integrand = lambda x: (x - Q) * f(x)\n",
    "    n_Q_r, _ = quad(integrand, Q, float('inf'))\n",
    "\n",
    "    # Expected sales\n",
    "    expected_sales = mu - n_Q_r\n",
    "\n",
    "    # Output\n",
    "    print(f\"Expected lost sales n(Q) = {n_Q_r:.2f}\")\n",
    "    print(f\"Expected sales s(Q) = {expected_sales:.2f}\")\n",
    "    return expected_sales, n_Q_r\n",
    "\n",
    "s_Q_r, n_Q_r = q1b()"
   ]
  },
  {
   "cell_type": "markdown",
   "metadata": {},
   "source": [
    "$$I(Q) = \\mathbb{E}[\\max(0, Q - D)] = \\mathbb{E}[Q - \\min(Q, D)] = Q - s(Q)$$"
   ]
  },
  {
   "cell_type": "code",
   "execution_count": 337,
   "metadata": {},
   "outputs": [
    {
     "name": "stdout",
     "output_type": "stream",
     "text": [
      "Given order quantity 1279.63, expected inventory: 179.16\n"
     ]
    }
   ],
   "source": [
    "I_Q_r = Q_r - s_Q_r\n",
    "print(f\"Given order quantity {Q_r:.2f}, expected inventory: {I_Q_r:.2f}\")"
   ]
  },
  {
   "cell_type": "markdown",
   "metadata": {},
   "source": [
    "$$\\pi_r(Q) = r \\cdot s(Q) + v \\cdot I(Q) - (w + c_B) \\cdot Q - g_B \\cdot n(Q)$$"
   ]
  },
  {
   "cell_type": "code",
   "execution_count": 338,
   "metadata": {},
   "outputs": [
    {
     "name": "stdout",
     "output_type": "stream",
     "text": [
      "Retail price (r): 20\n",
      "Expected sales (s_Q_r): 1100.47\n",
      "Salvage value (v): 0.65\n",
      "Expected inventory (I_Q_r): 179.16\n",
      "Wholesale price (w): 11\n",
      "Handling cost (c_b): 1.2\n",
      "Order quantity (Q_r): 1279.63\n",
      "Goodwill cost (g_r): 9\n",
      "Expected lost sales (n_Q_r): 99.53\n",
      "\n",
      "\n",
      "Given order quantity 1279.63, expected retailer profit: 5618.64\n"
     ]
    }
   ],
   "source": [
    "pi_r_Q_r = r*s_Q_r + v*I_Q_r - (w+c_b)*Q_r - g_r*n_Q_r\n",
    "print(f\"Retail price (r): {r}\")\n",
    "print(f\"Expected sales (s_Q_r): {s_Q_r:.2f}\")\n",
    "print(f\"Salvage value (v): {v}\")\n",
    "print(f\"Expected inventory (I_Q_r): {I_Q_r:.2f}\")\n",
    "print(f\"Wholesale price (w): {w}\")\n",
    "print(f\"Handling cost (c_b): {c_b}\")\n",
    "print(f\"Order quantity (Q_r): {Q_r:.2f}\")\n",
    "print(f\"Goodwill cost (g_r): {g_r}\")\n",
    "print(f\"Expected lost sales (n_Q_r): {n_Q_r:.2f}\")\n",
    "\n",
    "print(f\"\\n\\nGiven order quantity {Q_r:.2f}, expected retailer profit: {pi_r_Q_r:.2f}\")"
   ]
  },
  {
   "cell_type": "markdown",
   "metadata": {},
   "source": [
    "`Supplier:`"
   ]
  },
  {
   "cell_type": "markdown",
   "metadata": {},
   "source": [
    "$$\\pi_s(Q) = (w - c) \\cdot Q-g_p\\cdot n(Q)\n",
    "\n",
    "$$\n"
   ]
  },
  {
   "cell_type": "code",
   "execution_count": 339,
   "metadata": {},
   "outputs": [
    {
     "name": "stdout",
     "output_type": "stream",
     "text": [
      "Given order quantity 1279.63, expected supplier profit: 8879.24\n"
     ]
    }
   ],
   "source": [
    "g_s = 4\n",
    "\n",
    "pi_w_Q_r = (w-c)*Q_r-g_s*n_Q_r\n",
    "print(f\"Given order quantity {Q_r:.2f}, expected supplier profit: {pi_w_Q_r:.2f}\")"
   ]
  },
  {
   "cell_type": "markdown",
   "metadata": {},
   "source": [
    "`Whole Supply Chain:`"
   ]
  },
  {
   "cell_type": "code",
   "execution_count": 340,
   "metadata": {},
   "outputs": [
    {
     "name": "stdout",
     "output_type": "stream",
     "text": [
      "Total supply chain profit given order quantity 1279.63: 14497.88\n"
     ]
    }
   ],
   "source": [
    "pi_0_Q_r = pi_r_Q_r + pi_w_Q_r\n",
    "print(f\"Total supply chain profit given order quantity {Q_r:.2f}: {pi_0_Q_r:.2f}\")"
   ]
  },
  {
   "cell_type": "markdown",
   "metadata": {},
   "source": [
    "---\n",
    "\n",
    "**c)** What order quantity maximizes total expected profit for the supply chain? What is the optimal total expected profit?\n",
    "\n",
    "---"
   ]
  },
  {
   "cell_type": "markdown",
   "metadata": {},
   "source": [
    "$$\n",
    "C_u = r-(w + c_b + c)+g_s + g_r \n",
    "$$"
   ]
  },
  {
   "cell_type": "code",
   "execution_count": 341,
   "metadata": {},
   "outputs": [
    {
     "name": "stdout",
     "output_type": "stream",
     "text": [
      "\n",
      "Underage Cost for supplier: 17.05\n"
     ]
    }
   ],
   "source": [
    "# Underage Cost - what you lose if you don't have enough stock\n",
    "c_u_o = r - (w + c_b + c) + g_s + g_r \n",
    "print(f\"\\nUnderage Cost for supplier: {c_u_o:.2f}\")\n"
   ]
  },
  {
   "cell_type": "markdown",
   "metadata": {},
   "source": [
    "$$c_o = -v + (w + c_b + c)$$"
   ]
  },
  {
   "cell_type": "code",
   "execution_count": 342,
   "metadata": {},
   "outputs": [
    {
     "name": "stdout",
     "output_type": "stream",
     "text": [
      "Overage Cost for supplier: 15.30\n"
     ]
    }
   ],
   "source": [
    "# Overage Cost - what you lose if you have too much stock\n",
    "c_o_o = -v + (w + c_b + c)\n",
    "print(f\"Overage Cost for supplier: {c_o_o:.2f}\")"
   ]
  },
  {
   "cell_type": "markdown",
   "metadata": {},
   "source": [
    "Here we want the critical ratio to be the following:\n",
    "\n",
    "$$\n",
    "F_D(Q_r) = \\alpha = \\frac{C_u}{C_u + C_o}\n",
    "$$\n"
   ]
  },
  {
   "cell_type": "code",
   "execution_count": 343,
   "metadata": {},
   "outputs": [
    {
     "name": "stdout",
     "output_type": "stream",
     "text": [
      "\n",
      "Critical Ratio for supplier: 0.53\n"
     ]
    }
   ],
   "source": [
    "critical_ratio_0 = (c_u_o) / (c_u_o + c_o_o)\n",
    "print(f\"\\nCritical Ratio for supplier: {critical_ratio_0:.2f}\")"
   ]
  },
  {
   "cell_type": "markdown",
   "metadata": {},
   "source": [
    "$$Q_r = \\mu + z_\\alpha \\cdot \\sigma$$\n"
   ]
  },
  {
   "cell_type": "code",
   "execution_count": 344,
   "metadata": {},
   "outputs": [
    {
     "name": "stdout",
     "output_type": "stream",
     "text": [
      "\n",
      "Optimal book order quantity for supply chian 1279.63 (59% of demand)\n"
     ]
    }
   ],
   "source": [
    "Q_0 = norm.ppf(critical_ratio_0, loc=mean_demand, scale=std_demand)\n",
    "print(f\"\\nOptimal book order quantity for supply chian {Q_r:.2f} ({int(critical_ratio_r*100)}% of demand)\")"
   ]
  },
  {
   "cell_type": "markdown",
   "metadata": {},
   "source": [
    "`Retailer:`"
   ]
  },
  {
   "cell_type": "markdown",
   "metadata": {},
   "source": [
    "$$\n",
    "\n",
    "s(Q) = \\mathbb{E}[\\min(Q, D)] = \\mu - \\int_Q^\\infty (x - Q) f(x) \\, dx = \\mu - n(Q)\n",
    "\n",
    "$$"
   ]
  },
  {
   "cell_type": "code",
   "execution_count": 345,
   "metadata": {},
   "outputs": [
    {
     "name": "stdout",
     "output_type": "stream",
     "text": [
      "Expected lost sales n(Q) = 124.42\n",
      "Expected sales s(Q) = 1075.58\n"
     ]
    }
   ],
   "source": [
    "def q1b():\n",
    "    from scipy.stats import norm\n",
    "    from scipy.integrate import quad\n",
    "\n",
    "    # Parameters\n",
    "    mu = mean_demand\n",
    "    sigma = std_demand\n",
    "    Q = Q_0\n",
    "\n",
    "    # PDF of normal distribution\n",
    "    f = lambda x: norm.pdf(x, loc=mu, scale=sigma)\n",
    "\n",
    "    # Tail integral for n(Q) = ∫_Q^∞ (x - Q) f(x) dx\n",
    "    integrand = lambda x: (x - Q) * f(x)\n",
    "    n_Q_0, _ = quad(integrand, Q, float('inf'))\n",
    "\n",
    "    # Expected sales\n",
    "    expected_sales = mu - n_Q_0\n",
    "\n",
    "    # Output\n",
    "    print(f\"Expected lost sales n(Q) = {n_Q_0:.2f}\")\n",
    "    print(f\"Expected sales s(Q) = {expected_sales:.2f}\")\n",
    "    return expected_sales, n_Q_0\n",
    "\n",
    "s_Q_0, n_Q_0 = q1b()"
   ]
  },
  {
   "cell_type": "markdown",
   "metadata": {},
   "source": [
    "$$I(Q) = \\mathbb{E}[\\max(0, Q - D)] = \\mathbb{E}[Q - \\min(Q, D)] = Q - s(Q)$$"
   ]
  },
  {
   "cell_type": "code",
   "execution_count": 346,
   "metadata": {},
   "outputs": [
    {
     "name": "stdout",
     "output_type": "stream",
     "text": [
      "Given order quantity 1223.07, expected inventory: 147.49\n"
     ]
    }
   ],
   "source": [
    "I_Q_0 = Q_0 - s_Q_0\n",
    "print(f\"Given order quantity {Q_0:.2f}, expected inventory: {I_Q_0:.2f}\")"
   ]
  },
  {
   "cell_type": "markdown",
   "metadata": {},
   "source": [
    "$$\\pi_r(Q) = r \\cdot s(Q) + v \\cdot I(Q) - (w + c_B) \\cdot Q - g_B \\cdot n(Q)$$"
   ]
  },
  {
   "cell_type": "code",
   "execution_count": 347,
   "metadata": {},
   "outputs": [
    {
     "name": "stdout",
     "output_type": "stream",
     "text": [
      "Retail price (r): 20\n",
      "Expected sales (s_Q_r): 1100.47\n",
      "Salvage value (v): 0.65\n",
      "Expected inventory (I_Q_r): 179.16\n",
      "Wholesale price (w): 11\n",
      "Handling cost (c_b): 1.2\n",
      "Order quantity (Q_r): 1279.63\n",
      "Goodwill cost (g_r): 9\n",
      "Expected lost sales (n_Q_r): 99.53\n",
      "\n",
      "\n",
      "Given order quantity 1279.63, expected retailer profit: 5618.64\n"
     ]
    }
   ],
   "source": [
    "pi_r_Q_0 = r*s_Q_0 + v*I_Q_0 - (w+c_b)*Q_0 - g_r*n_Q_0\n",
    "print(f\"Retail price (r): {r}\")\n",
    "print(f\"Expected sales (s_Q_r): {s_Q_r:.2f}\")\n",
    "print(f\"Salvage value (v): {v}\")\n",
    "print(f\"Expected inventory (I_Q_r): {I_Q_r:.2f}\")\n",
    "print(f\"Wholesale price (w): {w}\")\n",
    "print(f\"Handling cost (c_b): {c_b}\")\n",
    "print(f\"Order quantity (Q_r): {Q_r:.2f}\")\n",
    "print(f\"Goodwill cost (g_r): {g_r}\")\n",
    "print(f\"Expected lost sales (n_Q_r): {n_Q_r:.2f}\")\n",
    "\n",
    "print(f\"\\n\\nGiven order quantity {Q_r:.2f}, expected retailer profit: {pi_r_Q_r:.2f}\")"
   ]
  },
  {
   "cell_type": "markdown",
   "metadata": {},
   "source": [
    "`Supplier:`"
   ]
  },
  {
   "cell_type": "markdown",
   "metadata": {},
   "source": [
    "$$\\pi_s(Q) = (w - c) \\cdot Q-g_p\\cdot n(Q)\n",
    "\n",
    "$$\n"
   ]
  },
  {
   "cell_type": "code",
   "execution_count": 348,
   "metadata": {},
   "outputs": [
    {
     "name": "stdout",
     "output_type": "stream",
     "text": [
      "Given order quantity 1223.07, expected supplier profit: 8369.58\n"
     ]
    }
   ],
   "source": [
    "pi_w_Q_0 = (w-c)*Q_0-g_s*n_Q_0\n",
    "print(f\"Given order quantity {Q_0:.2f}, expected supplier profit: {pi_w_Q_0:.2f}\")"
   ]
  },
  {
   "cell_type": "markdown",
   "metadata": {},
   "source": [
    "`Whole Supply Chain:`"
   ]
  },
  {
   "cell_type": "code",
   "execution_count": 349,
   "metadata": {},
   "outputs": [
    {
     "name": "stdout",
     "output_type": "stream",
     "text": [
      "Total supply chain profit given order quantity 1223.07: 13935.89\n"
     ]
    }
   ],
   "source": [
    "pi_0_Q_0 = pi_r_Q_0 + pi_w_Q_0\n",
    "print(f\"Total supply chain profit given order quantity {Q_0:.2f}: {pi_0_Q_0:.2f}\")"
   ]
  },
  {
   "cell_type": "markdown",
   "metadata": {},
   "source": [
    "---"
   ]
  },
  {
   "cell_type": "code",
   "execution_count": 350,
   "metadata": {},
   "outputs": [
    {
     "name": "stdout",
     "output_type": "stream",
     "text": [
      "\tExpected sales after order quantity Q_0: 1200.00\n",
      "\tExpected Inventory remaining after sales: 23.07\n",
      "\n",
      "\tRetailer Profit from stock level Q_0: $9093.55 USD\n",
      "\tWholesaler Profit from stock level Q_0: $9277.35 USD\n",
      "Total Supply chain profit: $14497.88 USD\n"
     ]
    }
   ],
   "source": [
    "s_Q_0=min(mean_demand, Q_0)\n",
    "print(f\"\\tExpected sales after order quantity Q_0: {s_Q_0:.2f}\")\n",
    "\n",
    "I_Q_0 = max(0, Q_0 - mean_demand)\n",
    "print(f\"\\tExpected Inventory remaining after sales: {I_Q_0:.2f}\")\n",
    "\n",
    "pi_r_Q_0 = r*s_Q_0 + v*I_Q_0 - (w+c_b)*Q_0\n",
    "print(f\"\\n\\tRetailer Profit from stock level Q_0: ${pi_r_Q_0:.2f} USD\")\n",
    "\n",
    "pi_w_Q_0 = (w-c)*Q_r\n",
    "print(f\"\\tWholesaler Profit from stock level Q_0: ${pi_w_Q_0:.2f} USD\")\n",
    "\n",
    "pi_0_Q_0 = pi_r_Q_0+pi_w_Q_0\n",
    "print(f\"Total Supply chain profit: ${pi_0_Q_r:.2f} USD\")"
   ]
  },
  {
   "cell_type": "markdown",
   "metadata": {},
   "source": [
    "---\n",
    "\n",
    "**Buyback Contract Scenario:**  \n",
    "The publisher offers a buyback credit of **$8**.\n",
    "\n",
    "**d)** What is the bookstore’s optimal order quantity under this buyback contract? What are the expected profits for the bookstore and the publisher?\n",
    "\n",
    "---"
   ]
  },
  {
   "cell_type": "markdown",
   "metadata": {},
   "source": []
  },
  {
   "cell_type": "markdown",
   "metadata": {},
   "source": [
    "---\n",
    "\n",
    "**e)** What buyback price will coordinate the supply chain? What are the resulting profits?\n",
    "\n",
    "---"
   ]
  },
  {
   "cell_type": "markdown",
   "metadata": {},
   "source": [
    "---\n",
    "\n",
    "**Revenue Sharing Contract Scenario:**  \n",
    "The bookstore keeps **60%** of its revenue, and gives **40%** to the publisher.\n",
    "\n",
    "**f)** What wholesale price will coordinate the supply chain, and what will be the resulting profits?\n",
    "\n",
    "---"
   ]
  },
  {
   "cell_type": "markdown",
   "metadata": {},
   "source": [
    "## Problem 2: Two-Stage Ordering in a Supply Chain\n",
    "\n",
    "**Scenario:**  \n",
    "A supply chain has a single supplier and single retailer. The retailer can place **two orders**:  \n",
    "1. Before demand is realized.  \n",
    "2. After demand is realized (only if the first order is insufficient).  \n",
    "Any unmet demand before the second order incurs a loss-of-goodwill cost `p`.\n",
    "\n",
    "### Given:\n",
    "\n",
    "- Demand is random with:\n",
    "  - PDF: `f`\n",
    "  - CDF: `F`\n",
    "  - Mean: `μ`\n",
    "- Selling price per item: `r`  \n",
    "- Wholesale price per item (both orders): `w`  \n",
    "- Salvage value per unit: `v`  \n",
    "- First order production cost: `c₁`  \n",
    "- Second order production cost: `c₂`  \n",
    "- Assumptions:  \n",
    "  - `c₁ < c₂`  \n",
    "  - `v < c₁`  \n",
    "  - `c₂ < w`  \n",
    "- The manufacturer **produces to order** (no inventory).\n",
    "\n",
    "### Sequence of Events:\n",
    "\n",
    "1. Retailer places **first order** of size `Q`.\n",
    "2. Order is **delivered immediately**.\n",
    "3. **Demand is realized**.  \n",
    "   - Demand ≤ Q: sales fulfilled immediately.  \n",
    "   - Demand > Q: unmet demand is backordered.\n",
    "4. Retailer places **second order** for unmet demand.\n",
    "5. Order is **delivered immediately**, all unmet demand fulfilled.\n",
    "6. **Unsold inventory** is salvaged.\n",
    "\n",
    "### Questions:\n",
    "\n",
    "---\n",
    "\n",
    "**a)** Write the expected profit functions:\n",
    "- Retailer’s profit: `π_r(Q)`  \n",
    "- Supplier’s profit: `π_s(Q)`  \n",
    "- Total supply chain profit: `Π(Q)`\n",
    "\n",
    "---"
   ]
  },
  {
   "cell_type": "markdown",
   "metadata": {},
   "source": [
    "---\n",
    "\n",
    "**b)** Prove that the retailer’s optimal order quantity is strictly smaller than the supply chain’s optimal order quantity.  \n",
    "*Conclusion: the supply chain is not coordinated.*\n",
    "\n",
    "---"
   ]
  },
  {
   "cell_type": "markdown",
   "metadata": {},
   "source": [
    "---\n",
    "\n",
    "**c)** Consider a **buyback contract**:  \n",
    "- Retailer pays wholesale price `w`  \n",
    "- Supplier reimburses the retailer `b` per unsold unit  \n",
    "- Let:  \n",
    "  ```math\n",
    "  w(b) = b + v + (p / (c₁ - v)) * (p + c₂ - c₁)\n",
    "  ```\n",
    "  Prove this contract **coordinates the supply chain**.  \n",
    "  *Verify necessary and sufficient conditions.*\n",
    "\n",
    "---"
   ]
  },
  {
   "cell_type": "markdown",
   "metadata": {},
   "source": [
    "---\n",
    "\n",
    "**d)** Briefly explain:\n",
    "- Why the original supply chain was **not coordinated**.\n",
    "- Why the **buyback contract** coordinates it.\n",
    "\n",
    "---"
   ]
  }
 ],
 "metadata": {
  "kernelspec": {
   "display_name": "Python 3",
   "language": "python",
   "name": "python3"
  },
  "language_info": {
   "codemirror_mode": {
    "name": "ipython",
    "version": 3
   },
   "file_extension": ".py",
   "mimetype": "text/x-python",
   "name": "python",
   "nbconvert_exporter": "python",
   "pygments_lexer": "ipython3",
   "version": "3.11.11"
  }
 },
 "nbformat": 4,
 "nbformat_minor": 2
}
