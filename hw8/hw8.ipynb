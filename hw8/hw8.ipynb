{
 "cells": [
  {
   "cell_type": "markdown",
   "metadata": {},
   "source": [
    "# CMOR 461 / INDE 561 — Homework 8\n",
    "\n",
    "## Problem 1: B&B Bookstore Inventory Optimization\n",
    "\n",
    "**Scenario:**  \n",
    "B&B, a local bookstore, must decide how many copies of a new book to order. They can only place one order before the selling season, which lasts one year. Afterward, unsold books are scrapped. \n",
    "\n",
    "### Given:\n",
    "\n",
    "- **Retail price:** $20  \n",
    "- **Wholesale price (from publisher):** $11  \n",
    "- **Publisher's raw-material cost:** $3.75  \n",
    "- **Bookstore shipping & handling cost:** $1.20  \n",
    "- **Demand:** Normally distributed  \n",
    "  - Mean: 1200  \n",
    "  - Standard deviation: 340  \n",
    "- **Unsold book scrap value:** $0.65  \n",
    "- **Loss-of-goodwill cost for unmet demand:**  \n",
    "  - Bookstore: $9.00  \n",
    "  - Publisher: $4.00  \n"
   ]
  },
  {
   "cell_type": "markdown",
   "metadata": {},
   "source": [
    "### Questions:\n",
    "\n",
    "---\n",
    "\n",
    "**a)** What is the bookstore’s optimal order quantity?\n",
    "\n",
    "---"
   ]
  },
  {
   "cell_type": "markdown",
   "metadata": {},
   "source": [
    "Per the derivation provided in the Canvas files.\n",
    "\n",
    "We want\n",
    "\n",
    "$$\n",
    "\\frac{r-w}{r-v}=F(Q^*_r)\n",
    "$$"
   ]
  },
  {
   "cell_type": "markdown",
   "metadata": {},
   "source": [
    "Meaning the CDF of the demand must be equal to the `Crtical Ratio`"
   ]
  },
  {
   "cell_type": "code",
   "execution_count": 51,
   "metadata": {},
   "outputs": [
    {
     "name": "stdout",
     "output_type": "stream",
     "text": [
      "Stock needed to satisfy 46% of demand: 1170.23\n"
     ]
    }
   ],
   "source": [
    "r = 20\n",
    "w = 11\n",
    "v = .65\n",
    "critical_ratio_r = (r-w) / (r-v)\n",
    "\n",
    "from scipy.stats import norm\n",
    "\n",
    "# Inputs\n",
    "mean_demand = 1200\n",
    "std_demand = 340\n",
    "\n",
    "Q_r = norm.ppf(critical_ratio_r, loc=mean_demand, scale=std_demand)\n",
    "\n",
    "print(f\"Stock needed to satisfy {int(critical_ratio_r*100)}% of demand: {Q_r:.2f}\")\n"
   ]
  },
  {
   "cell_type": "markdown",
   "metadata": {},
   "source": [
    "So it looks like the optimal order quantity is `1170.23` over time on average."
   ]
  },
  {
   "cell_type": "markdown",
   "metadata": {},
   "source": [
    "---\n",
    "\n",
    "**b)** What are the expected profits for the bookstore and publisher using the optimal order quantity from part (a)? What is the total expected profit?\n",
    "\n",
    "---"
   ]
  },
  {
   "cell_type": "markdown",
   "metadata": {},
   "source": [
    "`Retailer:`\n",
    "\n",
    "For order quantity $Q$, the expected profit function for the retailer is given by\n",
    "\n",
    "$$\n",
    "\\pi_r(Q) = rs(Q) + vI(Q) - wQ.\n",
    "$$\n",
    "\n",
    "Where:\n",
    "\n",
    "- $r$: retail price  \n",
    "- $v$: salvage value  \n",
    "- $w$: wholesale price  \n",
    "- $Q$: order quantity  \n",
    "- $s(Q)$: expected sales  \n",
    "- $I(Q)$: expected inventory at the end of period  "
   ]
  },
  {
   "cell_type": "code",
   "execution_count": 52,
   "metadata": {},
   "outputs": [
    {
     "name": "stdout",
     "output_type": "stream",
     "text": [
      "Given order quantity 1170.23, expected sales: 1170.23\n"
     ]
    }
   ],
   "source": [
    "s_Q_r=min(mean_demand, Q_r)\n",
    "print(f\"Given order quantity {Q_r:.2f}, expected sales: {s_Q_r:.2f}\")"
   ]
  },
  {
   "cell_type": "code",
   "execution_count": 53,
   "metadata": {},
   "outputs": [
    {
     "name": "stdout",
     "output_type": "stream",
     "text": [
      "Given order quantity 1170.23, expected inventory: 0.00\n"
     ]
    }
   ],
   "source": [
    "I_Q_r = max(0, Q_r - mean_demand)\n",
    "print(f\"Given order quantity {Q_r:.2f}, expected inventory: {I_Q_r:.2f}\")"
   ]
  },
  {
   "cell_type": "code",
   "execution_count": 54,
   "metadata": {},
   "outputs": [
    {
     "name": "stdout",
     "output_type": "stream",
     "text": [
      "Given order quantity 1170.23, expected retailer profit: 10532.09\n"
     ]
    }
   ],
   "source": [
    "pi_r_Q_r = r*s_Q_r+v*I_Q_r-w*Q\n",
    "print(f\"Given order quantity {Q_r:.2f}, expected retailer profit: {pi_r_Q_r:.2f}\")"
   ]
  },
  {
   "cell_type": "markdown",
   "metadata": {},
   "source": [
    "`Supplier:`"
   ]
  },
  {
   "cell_type": "code",
   "execution_count": 55,
   "metadata": {},
   "outputs": [
    {
     "name": "stdout",
     "output_type": "stream",
     "text": [
      "Given order quantity 1170.23, expected supplier profit: 8484.18\n"
     ]
    }
   ],
   "source": [
    "c = 3.75\n",
    "pi_w_Q_r = (w-c)*Q_r\n",
    "print(f\"Given order quantity {Q_r:.2f}, expected supplier profit: {pi_w_Q_r:.2f}\")"
   ]
  },
  {
   "cell_type": "markdown",
   "metadata": {},
   "source": [
    "`Whole Supply Chain:`"
   ]
  },
  {
   "cell_type": "code",
   "execution_count": 56,
   "metadata": {},
   "outputs": [
    {
     "name": "stdout",
     "output_type": "stream",
     "text": [
      "Total supply chain profit given order quantity 1170.23: 19016.27\n"
     ]
    }
   ],
   "source": [
    "pi_0_Q_r = pi_r_Q_r+pi_w_Q_r\n",
    "print(f\"Total supply chain profit given order quantity {Q_r:.2f}: {pi_0_Q_r:.2f}\")"
   ]
  },
  {
   "cell_type": "markdown",
   "metadata": {},
   "source": [
    "---\n",
    "\n",
    "**c)** What order quantity maximizes total expected profit for the supply chain? What is the optimal total expected profit?\n",
    "\n",
    "---"
   ]
  },
  {
   "cell_type": "markdown",
   "metadata": {},
   "source": [
    "Here we want the critical ratio to be the following:\n",
    "\n",
    "$$\n",
    "F(Q_0^*)=\\frac{r-c}{r-v}\n",
    "$$\n"
   ]
  },
  {
   "cell_type": "code",
   "execution_count": 58,
   "metadata": {},
   "outputs": [
    {
     "name": "stdout",
     "output_type": "stream",
     "text": [
      "Optimal order quantity to satisfy 83% of demand: 1537.83\n",
      "\tExpected sales after order quantity Q_0: 1200.00\n",
      "\tExpected Inventory remaining after sales: 337.83\n",
      "\n",
      "\tProfit from stock level Q_0: $7303.49 USD\n",
      "\tProfit from stock level Q_0: $8484.18 USD\n",
      "Profit from stock level Q_r with cost and revenue: $19016.27 USD\n"
     ]
    }
   ],
   "source": [
    "critical_ratio_0 = (r-c)/(r-v)\n",
    "critical_ratio_0\n",
    "\n",
    "Q_0 = norm.ppf(critical_ratio_0, loc=mean_demand, scale=std_demand)\n",
    "print(f\"Optimal order quantity to satisfy {int(critical_ratio_0*100)}% of demand: {Q_0:.2f}\")\n",
    "\n",
    "s_Q_0=min(mean_demand, Q_0)\n",
    "print(f\"\\tExpected sales after order quantity Q_0: {s_Q_0:.2f}\")\n",
    "\n",
    "I_Q_0 = max(0, Q_0 - mean_demand)\n",
    "print(f\"\\tExpected Inventory remaining after sales: {I_Q_0:.2f}\")\n",
    "\n",
    "pi_r_Q_0 = r*s_Q_0 + v*I_Q_0 - w*Q_0\n",
    "print(f\"\\n\\tProfit from stock level Q_0: ${pi_r_Q_0:.2f} USD\")\n",
    "\n",
    "pi_w_Q_0 = (w-c)*Q_r\n",
    "print(f\"\\tProfit from stock level Q_0: ${pi_w_Q_0:.2f} USD\")\n",
    "\n",
    "pi_0_Q_0 = pi_r_Q_0+pi_w_Q_0\n",
    "print(f\"Profit from stock level Q_r with cost and revenue: ${pi_0_Q_r:.2f} USD\")"
   ]
  },
  {
   "cell_type": "markdown",
   "metadata": {},
   "source": [
    "---\n",
    "\n",
    "**Buyback Contract Scenario:**  \n",
    "The publisher offers a buyback credit of **$8**.\n",
    "\n",
    "**d)** What is the bookstore’s optimal order quantity under this buyback contract? What are the expected profits for the bookstore and the publisher?\n",
    "\n",
    "---"
   ]
  },
  {
   "cell_type": "markdown",
   "metadata": {},
   "source": []
  },
  {
   "cell_type": "markdown",
   "metadata": {},
   "source": [
    "---\n",
    "\n",
    "**e)** What buyback price will coordinate the supply chain? What are the resulting profits?\n",
    "\n",
    "---"
   ]
  },
  {
   "cell_type": "markdown",
   "metadata": {},
   "source": [
    "---\n",
    "\n",
    "**Revenue Sharing Contract Scenario:**  \n",
    "The bookstore keeps **60%** of its revenue, and gives **40%** to the publisher.\n",
    "\n",
    "**f)** What wholesale price will coordinate the supply chain, and what will be the resulting profits?\n",
    "\n",
    "---"
   ]
  },
  {
   "cell_type": "markdown",
   "metadata": {},
   "source": [
    "## Problem 2: Two-Stage Ordering in a Supply Chain\n",
    "\n",
    "**Scenario:**  \n",
    "A supply chain has a single supplier and single retailer. The retailer can place **two orders**:  \n",
    "1. Before demand is realized.  \n",
    "2. After demand is realized (only if the first order is insufficient).  \n",
    "Any unmet demand before the second order incurs a loss-of-goodwill cost `p`.\n",
    "\n",
    "### Given:\n",
    "\n",
    "- Demand is random with:\n",
    "  - PDF: `f`\n",
    "  - CDF: `F`\n",
    "  - Mean: `μ`\n",
    "- Selling price per item: `r`  \n",
    "- Wholesale price per item (both orders): `w`  \n",
    "- Salvage value per unit: `v`  \n",
    "- First order production cost: `c₁`  \n",
    "- Second order production cost: `c₂`  \n",
    "- Assumptions:  \n",
    "  - `c₁ < c₂`  \n",
    "  - `v < c₁`  \n",
    "  - `c₂ < w`  \n",
    "- The manufacturer **produces to order** (no inventory).\n",
    "\n",
    "### Sequence of Events:\n",
    "\n",
    "1. Retailer places **first order** of size `Q`.\n",
    "2. Order is **delivered immediately**.\n",
    "3. **Demand is realized**.  \n",
    "   - Demand ≤ Q: sales fulfilled immediately.  \n",
    "   - Demand > Q: unmet demand is backordered.\n",
    "4. Retailer places **second order** for unmet demand.\n",
    "5. Order is **delivered immediately**, all unmet demand fulfilled.\n",
    "6. **Unsold inventory** is salvaged.\n",
    "\n",
    "### Questions:\n",
    "\n",
    "---\n",
    "\n",
    "**a)** Write the expected profit functions:\n",
    "- Retailer’s profit: `π_r(Q)`  \n",
    "- Supplier’s profit: `π_s(Q)`  \n",
    "- Total supply chain profit: `Π(Q)`\n",
    "\n",
    "---"
   ]
  },
  {
   "cell_type": "markdown",
   "metadata": {},
   "source": [
    "---\n",
    "\n",
    "**b)** Prove that the retailer’s optimal order quantity is strictly smaller than the supply chain’s optimal order quantity.  \n",
    "*Conclusion: the supply chain is not coordinated.*\n",
    "\n",
    "---"
   ]
  },
  {
   "cell_type": "markdown",
   "metadata": {},
   "source": [
    "---\n",
    "\n",
    "**c)** Consider a **buyback contract**:  \n",
    "- Retailer pays wholesale price `w`  \n",
    "- Supplier reimburses the retailer `b` per unsold unit  \n",
    "- Let:  \n",
    "  ```math\n",
    "  w(b) = b + v + (p / (c₁ - v)) * (p + c₂ - c₁)\n",
    "  ```\n",
    "  Prove this contract **coordinates the supply chain**.  \n",
    "  *Verify necessary and sufficient conditions.*\n",
    "\n",
    "---"
   ]
  },
  {
   "cell_type": "markdown",
   "metadata": {},
   "source": [
    "---\n",
    "\n",
    "**d)** Briefly explain:\n",
    "- Why the original supply chain was **not coordinated**.\n",
    "- Why the **buyback contract** coordinates it.\n",
    "\n",
    "---"
   ]
  }
 ],
 "metadata": {
  "kernelspec": {
   "display_name": ".venv",
   "language": "python",
   "name": "python3"
  },
  "language_info": {
   "codemirror_mode": {
    "name": "ipython",
    "version": 3
   },
   "file_extension": ".py",
   "mimetype": "text/x-python",
   "name": "python",
   "nbconvert_exporter": "python",
   "pygments_lexer": "ipython3",
   "version": "3.13.2"
  }
 },
 "nbformat": 4,
 "nbformat_minor": 2
}
