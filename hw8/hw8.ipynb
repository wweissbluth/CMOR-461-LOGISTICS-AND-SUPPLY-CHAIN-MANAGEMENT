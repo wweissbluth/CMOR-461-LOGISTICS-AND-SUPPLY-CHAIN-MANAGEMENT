{
 "cells": [
  {
   "cell_type": "markdown",
   "metadata": {},
   "source": [
    "# CMOR 461 / INDE 561 — Homework 8\n",
    "\n",
    "[![Open In Colab](https://colab.research.google.com/assets/colab-badge.svg)](https://colab.research.google.com/github/wweissbluth/CMOR-461-LOGISTICS-AND-SUPPLY-CHAIN-MANAGEMENT/blob/main/hw8/hw8.ipynb)\n",
    "\n",
    "\n",
    "## Problem 1: B&B Bookstore Inventory Optimization\n",
    "\n",
    "**Scenario:**  \n",
    "B&B, a local bookstore, must decide how many copies of a new book to order. They can only place one order before the selling season, which lasts one year. Afterward, unsold books are scrapped. \n",
    "\n",
    "### Given:\n",
    "\n",
    "- **Retail price:** $20  \n",
    "- **Wholesale price (from publisher):** $11  \n",
    "- **Publisher's raw-material cost:** $3.75  \n",
    "- **Bookstore shipping & handling cost:** $1.20  \n",
    "- **Demand:** Normally distributed  \n",
    "  - Mean: 1200  \n",
    "  - Standard deviation: 340  \n",
    "- **Unsold book scrap value:** $0.65  \n",
    "- **Loss-of-goodwill cost for unmet demand:**  \n",
    "  - Bookstore: $9.00  \n",
    "  - Publisher: $4.00  \n"
   ]
  },
  {
   "cell_type": "markdown",
   "metadata": {},
   "source": [
    "### Questions:\n",
    "\n",
    "---\n",
    "\n",
    "**a)** What is the bookstore’s optimal order quantity?\n",
    "\n",
    "---"
   ]
  },
  {
   "cell_type": "markdown",
   "metadata": {},
   "source": [
    "Per the derivation provided in the Canvas files.\n",
    "\n",
    "We want\n",
    "\n",
    "$$\n",
    "\\frac{r-w-c_b+g_b}{r-v+g_b}=F(Q^*_r)\n",
    "$$"
   ]
  },
  {
   "cell_type": "markdown",
   "metadata": {},
   "source": [
    "Meaning the CDF of the demand must be equal to the `Crtical Ratio`"
   ]
  },
  {
   "cell_type": "code",
   "execution_count": 225,
   "metadata": {},
   "outputs": [
    {
     "name": "stdout",
     "output_type": "stream",
     "text": [
      "Underage Cost: 16.80\n",
      "Overage Cost: 11.55\n",
      "Critical Ratio: 0.59\n",
      "Optimal book order quantity for retailer 1279.63 (59% of demand)\n"
     ]
    }
   ],
   "source": [
    "r = 20 # retail price\n",
    "\n",
    "w = 11 # wholesale price\n",
    "c_b = 1.2 # Handling cost\n",
    "\n",
    "c = 3.75 # production cost\n",
    "\n",
    "v = .65 # salvage value\n",
    "\n",
    "g_r = 9 # good will cost (retailer)\n",
    "\n",
    "# Underage Cost\n",
    "C_u_r = r - w - c_b + g_r\n",
    "print(f\"Underage Cost: {C_u_r:.2f}\")\n",
    "\n",
    "# Overage Cost\n",
    "C_o_r = w + c_b - v\n",
    "print(f\"Overage Cost: {C_o_r:.2f}\")\n",
    "\n",
    "critical_ratio_r = (C_u_r) / (C_u_r + C_o_r)\n",
    "print(f\"Critical Ratio: {critical_ratio_r:.2f}\")\n",
    "\n",
    "from scipy.stats import norm\n",
    "\n",
    "# Inputs\n",
    "mean_demand = 1200\n",
    "std_demand = 340\n",
    "\n",
    "Q_r = norm.ppf(critical_ratio_r, loc=mean_demand, scale=std_demand)\n",
    "\n",
    "print(f\"Optimal book order quantity for retailer {Q_r:.2f} ({int(critical_ratio_r*100)}% of demand)\")\n"
   ]
  },
  {
   "cell_type": "markdown",
   "metadata": {},
   "source": [
    "---\n",
    "\n",
    "**b)** What are the expected profits for the bookstore and publisher using the optimal order quantity from part (a)? What is the total expected profit?\n",
    "\n",
    "---"
   ]
  },
  {
   "cell_type": "markdown",
   "metadata": {},
   "source": [
    "`Retailer:`\n",
    "$$\n",
    "s(Q) = \\mathbb{E}[\\min(Q, D)] = \\mu - \\int_Q^\\infty (x - Q) f(x) \\, dx = \\mu - n(Q)\n",
    "$$\n"
   ]
  },
  {
   "cell_type": "code",
   "execution_count": 226,
   "metadata": {},
   "outputs": [
    {
     "name": "stdout",
     "output_type": "stream",
     "text": [
      "Expected lost sales n(Q) = 99.53\n",
      "Expected sales s(Q) = 1100.47\n"
     ]
    }
   ],
   "source": [
    "def q1b():\n",
    "    from scipy.stats import norm\n",
    "    from scipy.integrate import quad\n",
    "\n",
    "    # Parameters\n",
    "    mu = mean_demand\n",
    "    sigma = std_demand\n",
    "    Q = Q_r\n",
    "\n",
    "    # PDF of normal distribution\n",
    "    f = lambda x: norm.pdf(x, loc=mu, scale=sigma)\n",
    "\n",
    "    # Tail integral for n(Q) = ∫_Q^∞ (x - Q) f(x) dx\n",
    "    integrand = lambda x: (x - Q) * f(x)\n",
    "    n_Q_r, _ = quad(integrand, Q, float('inf'))\n",
    "\n",
    "    # Expected sales\n",
    "    expected_sales = mu - n_Q_r\n",
    "\n",
    "    # Output\n",
    "    print(f\"Expected lost sales n(Q) = {n_Q_r:.2f}\")\n",
    "    print(f\"Expected sales s(Q) = {expected_sales:.2f}\")\n",
    "    return expected_sales, n_Q_r\n",
    "\n",
    "s_Q_r, n_Q_r = q1b()"
   ]
  },
  {
   "cell_type": "markdown",
   "metadata": {},
   "source": [
    "$$I(Q) = \\mathbb{E}[\\max(0, Q - D)] = \\mathbb{E}[Q - \\min(Q, D)] = Q - s(Q)$$"
   ]
  },
  {
   "cell_type": "code",
   "execution_count": 227,
   "metadata": {},
   "outputs": [
    {
     "name": "stdout",
     "output_type": "stream",
     "text": [
      "Given order quantity 1279.63, expected inventory: 179.16\n"
     ]
    }
   ],
   "source": [
    "I_Q_r = Q_r - s_Q_r\n",
    "print(f\"Given order quantity {Q_r:.2f}, expected inventory: {I_Q_r:.2f}\")"
   ]
  },
  {
   "cell_type": "markdown",
   "metadata": {},
   "source": [
    "$$\\pi_r(Q) = r \\cdot s(Q) + v \\cdot I(Q) - (w + c_B) \\cdot Q - g_B \\cdot n(Q)$$"
   ]
  },
  {
   "cell_type": "code",
   "execution_count": 228,
   "metadata": {},
   "outputs": [
    {
     "name": "stdout",
     "output_type": "stream",
     "text": [
      "Retail price (r): 20\n",
      "Expected sales (s_Q_r): 1100.47\n",
      "Salvage value (v): 0.65\n",
      "Expected inventory (I_Q_r): 179.16\n",
      "Wholesale price (w): 11\n",
      "Handling cost (c_b): 1.2\n",
      "Order quantity (Q_r): 1279.63\n",
      "Goodwill cost (g_r): 9\n",
      "Expected lost sales (n_Q_r): 99.53\n",
      "\n",
      "\n",
      "Given order quantity 1279.63, expected retailer profit: 5618.64\n"
     ]
    }
   ],
   "source": [
    "pi_r_Q_r = r*s_Q_r + v*I_Q_r - (w+c_b)*Q_r - g_r*n_Q_r\n",
    "print(f\"Retail price (r): {r}\")\n",
    "print(f\"Expected sales (s_Q_r): {s_Q_r:.2f}\")\n",
    "print(f\"Salvage value (v): {v}\")\n",
    "print(f\"Expected inventory (I_Q_r): {I_Q_r:.2f}\")\n",
    "print(f\"Wholesale price (w): {w}\")\n",
    "print(f\"Handling cost (c_b): {c_b}\")\n",
    "print(f\"Order quantity (Q_r): {Q_r:.2f}\")\n",
    "print(f\"Goodwill cost (g_r): {g_r}\")\n",
    "print(f\"Expected lost sales (n_Q_r): {n_Q_r:.2f}\")\n",
    "\n",
    "print(f\"\\n\\nGiven order quantity {Q_r:.2f}, expected retailer profit: {pi_r_Q_r:.2f}\")"
   ]
  },
  {
   "cell_type": "markdown",
   "metadata": {},
   "source": [
    "`Supplier:`"
   ]
  },
  {
   "cell_type": "markdown",
   "metadata": {},
   "source": [
    "$$\\pi_s(Q) = (w - c) \\cdot Q-g_p\\cdot n(Q)\n",
    "\n",
    "$$\n"
   ]
  },
  {
   "cell_type": "code",
   "execution_count": 229,
   "metadata": {},
   "outputs": [
    {
     "name": "stdout",
     "output_type": "stream",
     "text": [
      "Given order quantity 1279.63, expected supplier profit: 8879.24\n"
     ]
    }
   ],
   "source": [
    "g_s = 4\n",
    "\n",
    "pi_w_Q_r = (w-c)*Q_r-g_s*n_Q_r\n",
    "print(f\"Given order quantity {Q_r:.2f}, expected supplier profit: {pi_w_Q_r:.2f}\")"
   ]
  },
  {
   "cell_type": "markdown",
   "metadata": {},
   "source": [
    "`Whole Supply Chain:`"
   ]
  },
  {
   "cell_type": "code",
   "execution_count": 230,
   "metadata": {},
   "outputs": [
    {
     "name": "stdout",
     "output_type": "stream",
     "text": [
      "Total supply chain profit given order quantity 1279.63: 14497.88\n"
     ]
    }
   ],
   "source": [
    "pi_0_Q_r = pi_r_Q_r + pi_w_Q_r\n",
    "print(f\"Total supply chain profit given order quantity {Q_r:.2f}: {pi_0_Q_r:.2f}\")"
   ]
  },
  {
   "cell_type": "markdown",
   "metadata": {},
   "source": [
    "---\n",
    "\n",
    "**c)** What order quantity maximizes total expected profit for the supply chain? What is the optimal total expected profit?\n",
    "\n",
    "---"
   ]
  },
  {
   "cell_type": "markdown",
   "metadata": {},
   "source": [
    "$$\n",
    "C_u = r-(c_b + c)+g_s + g_r \n",
    "$$"
   ]
  },
  {
   "cell_type": "code",
   "execution_count": 231,
   "metadata": {},
   "outputs": [
    {
     "name": "stdout",
     "output_type": "stream",
     "text": [
      "\n",
      "Underage Cost for supply chain: 28.05\n"
     ]
    }
   ],
   "source": [
    "# Underage Cost - what you lose if you don't have enough stock\n",
    "c_u_0 = r - (c_b + c) + g_s + g_r \n",
    "print(f\"\\nUnderage Cost for supply chain: {c_u_0:.2f}\")\n"
   ]
  },
  {
   "cell_type": "markdown",
   "metadata": {},
   "source": [
    "$$c_o = -v + (c_b + c)$$"
   ]
  },
  {
   "cell_type": "code",
   "execution_count": 232,
   "metadata": {},
   "outputs": [
    {
     "name": "stdout",
     "output_type": "stream",
     "text": [
      "Overage Cost for supply chain: 4.30\n"
     ]
    }
   ],
   "source": [
    "# Overage Cost - what you lose if you have too much stock\n",
    "c_o_0 = -v + (c_b + c)\n",
    "print(f\"Overage Cost for supply chain: {c_o_0:.2f}\")"
   ]
  },
  {
   "cell_type": "markdown",
   "metadata": {},
   "source": [
    "Here we want the critical ratio to be the following:\n",
    "\n",
    "$$\n",
    "F_D(Q_r) = \\alpha = \\frac{C_u}{C_u + C_o}\n",
    "$$\n"
   ]
  },
  {
   "cell_type": "code",
   "execution_count": 233,
   "metadata": {},
   "outputs": [
    {
     "name": "stdout",
     "output_type": "stream",
     "text": [
      "\n",
      "Critical Ratio for supplier: 0.87\n"
     ]
    }
   ],
   "source": [
    "critical_ratio_0 = (c_u_0) / (c_u_0 + c_o_0)\n",
    "print(f\"\\nCritical Ratio for supplier: {critical_ratio_0:.2f}\")"
   ]
  },
  {
   "cell_type": "markdown",
   "metadata": {},
   "source": [
    "$$Q_r = \\mu + z_\\alpha \\cdot \\sigma$$\n"
   ]
  },
  {
   "cell_type": "code",
   "execution_count": 234,
   "metadata": {},
   "outputs": [
    {
     "name": "stdout",
     "output_type": "stream",
     "text": [
      "\n",
      "Optimal book order quantity for supply chain 1578.31 (86% of demand)\n"
     ]
    }
   ],
   "source": [
    "Q_0 = norm.ppf(critical_ratio_0, loc=mean_demand, scale=std_demand)\n",
    "print(f\"\\nOptimal book order quantity for supply chain {Q_0:.2f} ({int(critical_ratio_0*100)}% of demand)\")"
   ]
  },
  {
   "cell_type": "markdown",
   "metadata": {},
   "source": [
    "`Retailer:`"
   ]
  },
  {
   "cell_type": "markdown",
   "metadata": {},
   "source": [
    "$$\n",
    "\n",
    "s(Q) = \\mathbb{E}[\\min(Q, D)] = \\mu - \\int_Q^\\infty (x - Q) f(x) \\, dx = \\mu - n(Q)\n",
    "\n",
    "$$"
   ]
  },
  {
   "cell_type": "code",
   "execution_count": 235,
   "metadata": {},
   "outputs": [
    {
     "name": "stdout",
     "output_type": "stream",
     "text": [
      "Expected lost sales n(Q) = 22.75\n",
      "Expected sales s(Q) = 1177.25\n"
     ]
    }
   ],
   "source": [
    "def q1b():\n",
    "    from scipy.stats import norm\n",
    "    from scipy.integrate import quad\n",
    "\n",
    "    # Parameters\n",
    "    mu = mean_demand\n",
    "    sigma = std_demand\n",
    "    Q = Q_0\n",
    "\n",
    "    # PDF of normal distribution\n",
    "    f = lambda x: norm.pdf(x, loc=mu, scale=sigma)\n",
    "\n",
    "    # Tail integral for n(Q) = ∫_Q^∞ (x - Q) f(x) dx\n",
    "    integrand = lambda x: (x - Q) * f(x)\n",
    "    n_Q_0, _ = quad(integrand, Q, float('inf'))\n",
    "\n",
    "    # Expected sales\n",
    "    expected_sales = mu - n_Q_0\n",
    "\n",
    "    # Output\n",
    "    print(f\"Expected lost sales n(Q) = {n_Q_0:.2f}\")\n",
    "    print(f\"Expected sales s(Q) = {expected_sales:.2f}\")\n",
    "    return expected_sales, n_Q_0\n",
    "\n",
    "s_Q_0, n_Q_0 = q1b()"
   ]
  },
  {
   "cell_type": "markdown",
   "metadata": {},
   "source": [
    "$$I(Q) = \\mathbb{E}[\\max(0, Q - D)] = \\mathbb{E}[Q - \\min(Q, D)] = Q - s(Q)$$"
   ]
  },
  {
   "cell_type": "code",
   "execution_count": 236,
   "metadata": {},
   "outputs": [
    {
     "name": "stdout",
     "output_type": "stream",
     "text": [
      "Given order quantity 1578.31, expected inventory: 401.07\n"
     ]
    }
   ],
   "source": [
    "I_Q_0 = Q_0 - s_Q_0\n",
    "print(f\"Given order quantity {Q_0:.2f}, expected inventory: {I_Q_0:.2f}\")"
   ]
  },
  {
   "cell_type": "markdown",
   "metadata": {},
   "source": [
    "$$\\pi_r(Q) = r \\cdot s(Q) + v \\cdot I(Q) - (w + c_B) \\cdot Q - g_B \\cdot n(Q)$$"
   ]
  },
  {
   "cell_type": "code",
   "execution_count": 237,
   "metadata": {},
   "outputs": [
    {
     "name": "stdout",
     "output_type": "stream",
     "text": [
      "Retail price (r): 20\n",
      "Expected sales (s_Q_r): 1100.47\n",
      "Salvage value (v): 0.65\n",
      "Expected inventory (I_Q_r): 179.16\n",
      "Wholesale price (w): 11\n",
      "Handling cost (c_b): 1.2\n",
      "Order quantity (Q_r): 1279.63\n",
      "Goodwill cost (g_r): 9\n",
      "Expected lost sales (n_Q_r): 99.53\n",
      "\n",
      "\n",
      "Given order quantity 1279.63, expected retailer profit: 5618.64\n"
     ]
    }
   ],
   "source": [
    "pi_r_Q_0 = r*s_Q_0 + v*I_Q_0 - (w+c_b)*Q_0 - g_r*n_Q_0\n",
    "print(f\"Retail price (r): {r}\")\n",
    "print(f\"Expected sales (s_Q_r): {s_Q_r:.2f}\")\n",
    "print(f\"Salvage value (v): {v}\")\n",
    "print(f\"Expected inventory (I_Q_r): {I_Q_r:.2f}\")\n",
    "print(f\"Wholesale price (w): {w}\")\n",
    "print(f\"Handling cost (c_b): {c_b}\")\n",
    "print(f\"Order quantity (Q_r): {Q_r:.2f}\")\n",
    "print(f\"Goodwill cost (g_r): {g_r}\")\n",
    "print(f\"Expected lost sales (n_Q_r): {n_Q_r:.2f}\")\n",
    "\n",
    "print(f\"\\n\\nGiven order quantity {Q_r:.2f}, expected retailer profit: {pi_r_Q_r:.2f}\")"
   ]
  },
  {
   "cell_type": "markdown",
   "metadata": {},
   "source": [
    "`Supplier:`"
   ]
  },
  {
   "cell_type": "markdown",
   "metadata": {},
   "source": [
    "$$\\pi_s(Q) = (w - c) \\cdot Q-g_p\\cdot n(Q)\n",
    "\n",
    "$$\n"
   ]
  },
  {
   "cell_type": "code",
   "execution_count": 238,
   "metadata": {},
   "outputs": [
    {
     "name": "stdout",
     "output_type": "stream",
     "text": [
      "Given order quantity 1578.31, expected supplier profit: 11351.77\n"
     ]
    }
   ],
   "source": [
    "pi_w_Q_0 = (w-c)*Q_0-g_s*n_Q_0\n",
    "print(f\"Given order quantity {Q_0:.2f}, expected supplier profit: {pi_w_Q_0:.2f}\")"
   ]
  },
  {
   "cell_type": "markdown",
   "metadata": {},
   "source": [
    "`Whole Supply Chain:`"
   ]
  },
  {
   "cell_type": "code",
   "execution_count": 239,
   "metadata": {},
   "outputs": [
    {
     "name": "stdout",
     "output_type": "stream",
     "text": [
      "Total supply chain profit given order quantity 1578.31: 15697.25\n"
     ]
    }
   ],
   "source": [
    "pi_0_Q_0 = pi_r_Q_0 + pi_w_Q_0\n",
    "print(f\"Total supply chain profit given order quantity {Q_0:.2f}: {pi_0_Q_0:.2f}\")"
   ]
  },
  {
   "cell_type": "markdown",
   "metadata": {},
   "source": [
    "---\n",
    "\n",
    "**Buyback Contract Scenario:**  \n",
    "The publisher offers a buyback credit of **$8**.\n",
    "\n",
    "**d)** What is the bookstore’s optimal order quantity under this buyback contract? What are the expected profits for the bookstore and the publisher?\n",
    "\n",
    "---"
   ]
  },
  {
   "cell_type": "markdown",
   "metadata": {},
   "source": [
    "Per the derivation provided in the Canvas files.\n",
    "\n",
    "We want\n",
    "\n",
    "$$\n",
    "\\frac{r-w-c_b+g_b}{r-b+g_b}=F(Q^*_r)\n",
    "$$\n",
    "\n",
    "where $b$ is the buy back price"
   ]
  },
  {
   "cell_type": "markdown",
   "metadata": {},
   "source": [
    "Meaning the CDF of the demand must be equal to the `Crtical Ratio`"
   ]
  },
  {
   "cell_type": "code",
   "execution_count": 240,
   "metadata": {},
   "outputs": [
    {
     "name": "stdout",
     "output_type": "stream",
     "text": [
      "Underage Cost: 16.80\n",
      "Overage Cost: 4.20\n",
      "Critical Ratio: 0.80\n",
      "Optimal book order quantity for retailer 1486.15 (80% of demand)\n"
     ]
    }
   ],
   "source": [
    "r = 20 # retail price\n",
    "\n",
    "b = 8 # buy back price\n",
    "\n",
    "w = 11 # wholesale price\n",
    "c_b = 1.2 # Handling cost\n",
    "\n",
    "c = 3.75 # production cost\n",
    "\n",
    "v = .65 # salvage value\n",
    "\n",
    "g_r = 9 # good will cost (retailer)\n",
    "\n",
    "# Underage Cost\n",
    "C_u_b = r - w - c_b + g_r\n",
    "print(f\"Underage Cost: {C_u_b:.2f}\")\n",
    "\n",
    "# Overage Cost\n",
    "C_o_b = w + c_b - b\n",
    "print(f\"Overage Cost: {C_o_b:.2f}\")\n",
    "\n",
    "critical_ratio_b = (C_u_b) / (C_u_b + C_o_b)\n",
    "print(f\"Critical Ratio: {critical_ratio_b:.2f}\")\n",
    "\n",
    "from scipy.stats import norm\n",
    "\n",
    "# Inputs\n",
    "mean_demand = 1200\n",
    "std_demand = 340\n",
    "\n",
    "Q_b = norm.ppf(critical_ratio_b, loc=mean_demand, scale=std_demand)\n",
    "\n",
    "print(f\"Optimal book order quantity for retailer {Q_b:.2f} ({int(critical_ratio_b*100)}% of demand)\")"
   ]
  },
  {
   "cell_type": "markdown",
   "metadata": {},
   "source": [
    "`Retailer:`\n",
    "$$\n",
    "s(Q) = \\mathbb{E}[\\min(Q, D)] = \\mu - \\int_Q^\\infty (x - Q) f(x) \\, dx = \\mu - n(Q)\n",
    "$$\n"
   ]
  },
  {
   "cell_type": "code",
   "execution_count": 241,
   "metadata": {},
   "outputs": [
    {
     "name": "stdout",
     "output_type": "stream",
     "text": [
      "Expected lost sales n(Q) = 37.96\n",
      "Expected sales s(Q) = 1162.04\n"
     ]
    }
   ],
   "source": [
    "def q1d():\n",
    "    from scipy.stats import norm\n",
    "    from scipy.integrate import quad\n",
    "\n",
    "    # Parameters\n",
    "    mu = mean_demand\n",
    "    sigma = std_demand\n",
    "    Q = Q_b\n",
    "\n",
    "    # PDF of normal distribution\n",
    "    f = lambda x: norm.pdf(x, loc=mu, scale=sigma)\n",
    "\n",
    "    # Tail integral for n(Q) = ∫_Q^∞ (x - Q) f(x) dx\n",
    "    integrand = lambda x: (x - Q) * f(x)\n",
    "    n_Q_b, _ = quad(integrand, Q, float('inf'))\n",
    "\n",
    "    # Expected sales\n",
    "    expected_sales = mu - n_Q_b\n",
    "\n",
    "    # Output\n",
    "    print(f\"Expected lost sales n(Q) = {n_Q_b:.2f}\")\n",
    "    print(f\"Expected sales s(Q) = {expected_sales:.2f}\")\n",
    "    return expected_sales, n_Q_b\n",
    "\n",
    "s_Q_b, n_Q_b = q1d()"
   ]
  },
  {
   "cell_type": "markdown",
   "metadata": {},
   "source": [
    "$$I(Q) = \\mathbb{E}[\\max(0, Q - D)] = \\mathbb{E}[Q - \\min(Q, D)] = Q - s(Q)$$"
   ]
  },
  {
   "cell_type": "code",
   "execution_count": 242,
   "metadata": {},
   "outputs": [
    {
     "name": "stdout",
     "output_type": "stream",
     "text": [
      "Given order quantity 1486.15, expected inventory: 324.11\n"
     ]
    }
   ],
   "source": [
    "I_Q_b = Q_b - s_Q_b\n",
    "print(f\"Given order quantity {Q_b:.2f}, expected inventory: {I_Q_b:.2f}\")"
   ]
  },
  {
   "cell_type": "markdown",
   "metadata": {},
   "source": [
    "$$\\pi_r(Q) = r \\cdot s(Q) + v \\cdot I(Q) - (w + c_B) \\cdot Q - g_B \\cdot n(Q)$$"
   ]
  },
  {
   "cell_type": "code",
   "execution_count": 243,
   "metadata": {},
   "outputs": [
    {
     "name": "stdout",
     "output_type": "stream",
     "text": [
      "Retail price (r): 20\n",
      "Expected sales (s_Q_b): 1162.04\n",
      "Salvage value (v): 0.65\n",
      "Expected inventory (I_Q_b): 324.11\n",
      "Wholesale price (w): 11\n",
      "Handling cost (c_b): 1.2\n",
      "Order quantity (Q_b): 1486.15\n",
      "Goodwill cost (g_r): 9\n",
      "Expected lost sales (n_Q_b): 37.96\n",
      "\n",
      "\n",
      "Given order quantity 1486.15, expected retailer profit: 4978.88\n"
     ]
    }
   ],
   "source": [
    "pi_r_Q_b = r*s_Q_b + v*I_Q_b - (w + c_b)*Q_b - g_r*n_Q_b\n",
    "print(f\"Retail price (r): {r}\")\n",
    "print(f\"Expected sales (s_Q_b): {s_Q_b:.2f}\")\n",
    "print(f\"Salvage value (v): {v}\")\n",
    "print(f\"Expected inventory (I_Q_b): {I_Q_b:.2f}\")\n",
    "print(f\"Wholesale price (w): {w}\")\n",
    "print(f\"Handling cost (c_b): {c_b}\")\n",
    "print(f\"Order quantity (Q_b): {Q_b:.2f}\")\n",
    "print(f\"Goodwill cost (g_r): {g_r}\")\n",
    "print(f\"Expected lost sales (n_Q_b): {n_Q_b:.2f}\")\n",
    "\n",
    "print(f\"\\n\\nGiven order quantity {Q_b:.2f}, expected retailer profit: {pi_r_Q_b:.2f}\")"
   ]
  },
  {
   "cell_type": "markdown",
   "metadata": {},
   "source": [
    "`Supplier:`"
   ]
  },
  {
   "cell_type": "markdown",
   "metadata": {},
   "source": [
    "$$\\pi_s(Q) = (w - c) \\cdot Q-g_p\\cdot n(Q)\n",
    "\n",
    "$$\n"
   ]
  },
  {
   "cell_type": "code",
   "execution_count": 244,
   "metadata": {},
   "outputs": [
    {
     "name": "stdout",
     "output_type": "stream",
     "text": [
      "Given order quantity 1486.15, expected supplier profit: 10622.77\n"
     ]
    }
   ],
   "source": [
    "g_s = 4\n",
    "\n",
    "pi_w_Q_b = (w-c)*Q_b-g_s*n_Q_b\n",
    "print(f\"Given order quantity {Q_b:.2f}, expected supplier profit: {pi_w_Q_b:.2f}\")"
   ]
  },
  {
   "cell_type": "markdown",
   "metadata": {},
   "source": [
    "`Whole Supply Chain:`"
   ]
  },
  {
   "cell_type": "code",
   "execution_count": 245,
   "metadata": {},
   "outputs": [
    {
     "name": "stdout",
     "output_type": "stream",
     "text": [
      "Total supply chain profit given order quantity 1486.15: 15601.65\n"
     ]
    }
   ],
   "source": [
    "pi_0_Q_b = pi_r_Q_b + pi_w_Q_b\n",
    "print(f\"Total supply chain profit given order quantity {Q_b:.2f}: {pi_0_Q_b:.2f}\")"
   ]
  },
  {
   "cell_type": "markdown",
   "metadata": {},
   "source": [
    "---\n",
    "\n",
    "**e)** What buyback price will coordinate the supply chain? What are the resulting profits?\n",
    "\n",
    "---"
   ]
  },
  {
   "cell_type": "markdown",
   "metadata": {},
   "source": [
    "When we say that we want a buy back price to coordinate the supply chain, this means we want the critical ratio for the total supply chain to be equal to that of the retailer.\n",
    "\n",
    "$$\n",
    "F(Q_0^*)=F(Q_r^*)\n",
    "$$"
   ]
  },
  {
   "cell_type": "markdown",
   "metadata": {},
   "source": [
    "Here we want the critical ratio to be the following:\n",
    "\n",
    "$$\n",
    "F(Q_0) = \\alpha = \\frac{C_u}{C_u + C_o} =\\frac{r-(c_b + c)+g_s + g_r }{-v + (c_b + c)+r-(c_b + c)+g_s + g_r }= \\frac{r-w-c_b+g_b}{r-b+g_b}=F(Q^*_r)\\\\\n",
    "\n",
    "\\frac{r-(c_b + c)+g_s + g_r }{-v + (c_b + c)+r-(c_b + c)+g_s + g_r }= \\frac{r-w-c_b+g_b}{r-b+g_b}\n",
    "$$\n"
   ]
  },
  {
   "cell_type": "markdown",
   "metadata": {},
   "source": [
    "$$\n",
    "C_u = r-(c_b + c)+g_s + g_r \n",
    "$$"
   ]
  },
  {
   "cell_type": "markdown",
   "metadata": {},
   "source": [
    "$$C_o = -v + (c_b + c)$$\n",
    "\n",
    "Note - we don't include the buy-back price here because that's internal to the supply chain, just as we don't include the wholesale price."
   ]
  },
  {
   "cell_type": "code",
   "execution_count": 246,
   "metadata": {},
   "outputs": [
    {
     "name": "stdout",
     "output_type": "stream",
     "text": [
      "Buyback price (b): 9.62459893048129\n"
     ]
    }
   ],
   "source": [
    "from sympy import symbols, Eq, solve\n",
    "def q1e():\n",
    "    # Define variables\n",
    "    r, c_b, c, g_s, g_r, v, w, g_b, b = symbols('r c_b c g_s g_r v w g_b b')\n",
    "\n",
    "    # Assign values to variables\n",
    "    r = 20  # retail price\n",
    "    c_b = 1.2  # handling cost\n",
    "    c = 3.75  # production cost\n",
    "    g_s = 4  # goodwill cost (supplier)\n",
    "    g_r = 9  # goodwill cost (retailer)\n",
    "    v = 0.65  # salvage value\n",
    "    w = 11  # wholesale price\n",
    "    g_b = 9  # goodwill cost (retailer)\n",
    "\n",
    "    # Define the equation\n",
    "    lhs = (r - (c_b + c) + g_s + g_r) / (-v + (c_b + c) + r - (c_b + c) + g_s + g_r)\n",
    "    rhs = (r - w - c_b + g_b) / (r - b + g_b)\n",
    "\n",
    "    equation = Eq(lhs, rhs)\n",
    "\n",
    "    # Solve for b\n",
    "    solution = solve(equation, b)[0]\n",
    "    print(f\"Buyback price (b): {solution}\")\n",
    "    return solution\n",
    "b = q1e()"
   ]
  },
  {
   "cell_type": "markdown",
   "metadata": {},
   "source": [
    "---\n",
    "\n",
    "**Revenue Sharing Contract Scenario:**  \n",
    "The bookstore keeps **60%** of its revenue, and gives **40%** to the publisher.\n",
    "\n",
    "**f)** What wholesale price will coordinate the supply chain, and what will be the resulting profits?\n",
    "\n",
    "---"
   ]
  },
  {
   "cell_type": "markdown",
   "metadata": {},
   "source": [
    "For Retailer:\n",
    "\n",
    "$$\n",
    "C_u = 0.6\\cdot r - (c_b + w) + g_r \\\\\n",
    "C_o = -0.6*v + (c_b + w)\\\\\n",
    "F_D(Q_r) = \\alpha = \\frac{C_u}{C_u + C_o}\n",
    "$$\n",
    "\n",
    "For overall supply chain\n",
    "\n",
    "$$\n",
    "C_u = r-(c_b + c)+g_s + g_r \\\\\n",
    "C_o = -v + (c_b + c)\n",
    "$$"
   ]
  },
  {
   "cell_type": "code",
   "execution_count": 247,
   "metadata": {},
   "outputs": [
    {
     "name": "stdout",
     "output_type": "stream",
     "text": [
      "\n",
      "Underage Cost for retailer again (symbolic): 19.8 - w\n",
      "Overage Cost for retailer again (symbolic): w + 0.81\n",
      "\n",
      "Critical Ratio for retailer again (symbolic): 0.960698689956332 - 0.0485201358563804*w\n",
      "\n",
      "Underage Cost for supply chain: 28.05\n",
      "Overage Cost for supply chain: 4.30\n",
      "\n",
      "Critical Ratio for supply chain: 0.87\n",
      "Wholesale price (w) that coordinates the supply chain: 1.92950540958269\n"
     ]
    }
   ],
   "source": [
    "from sympy import symbols, Eq\n",
    "\n",
    "def q1f():\n",
    "    # Define variables\n",
    "    r, c_b, w, g_r, v = symbols('r c_b w g_r v')\n",
    "    # Assign values to variables except w\n",
    "    r = 20  # retail price\n",
    "    c_b = 1.2  # handling cost\n",
    "    g_r = 9  # goodwill cost (retailer)\n",
    "    v = 0.65  # salvage value\n",
    "\n",
    "    # Underage Cost - what you lose if you don't have enough stock\n",
    "    c_u_r2 = 0.6 * r - (c_b + w) + g_r\n",
    "    print(f\"\\nUnderage Cost for retailer again (symbolic): {c_u_r2}\")\n",
    "\n",
    "    # Overage Cost - what you lose if you have too much stock\n",
    "    c_o_r2 = -0.6 * v + (c_b + w)\n",
    "    print(f\"Overage Cost for retailer again (symbolic): {c_o_r2}\")\n",
    "\n",
    "    # Critical Ratio\n",
    "    critical_ratio_r2 = c_u_r2 / (c_u_r2 + c_o_r2)\n",
    "    print(f\"\\nCritical Ratio for retailer again (symbolic): {critical_ratio_r2}\")\n",
    "\n",
    "    # Supply Chain Underage Cost\n",
    "    C_u = r - (c_b + c) + g_s + g_r\n",
    "    print(f\"\\nUnderage Cost for supply chain: {C_u:.2f}\")\n",
    "\n",
    "    # Supply Chain Overage Cost\n",
    "    C_o = -v + (c_b + c)\n",
    "    print(f\"Overage Cost for supply chain: {C_o:.2f}\")\n",
    "\n",
    "    # Supply Chain Critical Ratio\n",
    "    critical_ratio_02 = C_u / (C_u + C_o)\n",
    "    print(f\"\\nCritical Ratio for supply chain: {critical_ratio_02:.2f}\")\n",
    "\n",
    "    # Set the critical ratios equal to solve for w\n",
    "    equation = Eq(critical_ratio_r2, critical_ratio_02)\n",
    "    new_whole_sale_price = solve(equation, w)[0]\n",
    "    print(f\"Wholesale price (w) that coordinates the supply chain: {new_whole_sale_price}\")\n",
    "    return new_whole_sale_price, critical_ratio_02\n",
    "\n",
    "w, critical_ratio_02 = q1f()"
   ]
  },
  {
   "cell_type": "markdown",
   "metadata": {},
   "source": [
    "Notice: the optimal supply chain wholesale price will be:"
   ]
  },
  {
   "cell_type": "code",
   "execution_count": 248,
   "metadata": {},
   "outputs": [
    {
     "data": {
      "text/latex": [
       "$\\displaystyle 1.92950540958269$"
      ],
      "text/plain": [
       "1.92950540958269"
      ]
     },
     "execution_count": 248,
     "metadata": {},
     "output_type": "execute_result"
    }
   ],
   "source": [
    "w"
   ]
  },
  {
   "cell_type": "markdown",
   "metadata": {},
   "source": [
    "But costs are "
   ]
  },
  {
   "cell_type": "code",
   "execution_count": 249,
   "metadata": {},
   "outputs": [
    {
     "data": {
      "text/plain": [
       "3.75"
      ]
     },
     "execution_count": 249,
     "metadata": {},
     "output_type": "execute_result"
    }
   ],
   "source": [
    "c"
   ]
  },
  {
   "cell_type": "markdown",
   "metadata": {},
   "source": [
    "Which means this is not a feasible wholesale price. Regardless, this is expected profits:"
   ]
  },
  {
   "cell_type": "markdown",
   "metadata": {},
   "source": [
    "First ideal order quantity:"
   ]
  },
  {
   "cell_type": "code",
   "execution_count": 250,
   "metadata": {},
   "outputs": [
    {
     "data": {
      "text/plain": [
       "0.8670788253477588"
      ]
     },
     "execution_count": 250,
     "metadata": {},
     "output_type": "execute_result"
    }
   ],
   "source": [
    "critical_ratio_02"
   ]
  },
  {
   "cell_type": "code",
   "execution_count": 251,
   "metadata": {},
   "outputs": [
    {
     "name": "stdout",
     "output_type": "stream",
     "text": [
      "Optimal book order quantity 1578.31 (86% of demand)\n"
     ]
    }
   ],
   "source": [
    "from scipy.stats import norm\n",
    "\n",
    "# Inputs\n",
    "mean_demand = 1200\n",
    "std_demand = 340\n",
    "\n",
    "Q_02 = norm.ppf(critical_ratio_02, loc=mean_demand, scale=std_demand)\n",
    "\n",
    "print(f\"Optimal book order quantity {Q_02:.2f} ({int(critical_ratio_02*100)}% of demand)\")"
   ]
  },
  {
   "cell_type": "markdown",
   "metadata": {},
   "source": [
    "profit: "
   ]
  },
  {
   "cell_type": "markdown",
   "metadata": {},
   "source": [
    "`Retailer:`\n",
    "$$\n",
    "s(Q) = \\mathbb{E}[\\min(Q, D)] = \\mu - \\int_Q^\\infty (x - Q) f(x) \\, dx = \\mu - n(Q)\n",
    "$$\n"
   ]
  },
  {
   "cell_type": "code",
   "execution_count": 252,
   "metadata": {},
   "outputs": [
    {
     "name": "stdout",
     "output_type": "stream",
     "text": [
      "Expected lost sales n(Q) = 22.75\n",
      "Expected sales s(Q) = 1177.25\n"
     ]
    }
   ],
   "source": [
    "def q1f():\n",
    "    from scipy.stats import norm\n",
    "    from scipy.integrate import quad\n",
    "\n",
    "    # Parameters\n",
    "    mu = mean_demand\n",
    "    sigma = std_demand\n",
    "    Q = Q_02\n",
    "\n",
    "    # PDF of normal distribution\n",
    "    f = lambda x: norm.pdf(x, loc=mu, scale=sigma)\n",
    "\n",
    "    # Tail integral for n(Q) = ∫_Q^∞ (x - Q) f(x) dx\n",
    "    integrand = lambda x: (x - Q) * f(x)\n",
    "    n_Q_02, _ = quad(integrand, Q, float('inf'))\n",
    "\n",
    "    # Expected sales\n",
    "    expected_sales = mu - n_Q_02\n",
    "\n",
    "    # Output\n",
    "    print(f\"Expected lost sales n(Q) = {n_Q_02:.2f}\")\n",
    "    print(f\"Expected sales s(Q) = {expected_sales:.2f}\")\n",
    "    return expected_sales, n_Q_02\n",
    "\n",
    "s_Q_02, n_Q_02 = q1f()"
   ]
  },
  {
   "cell_type": "markdown",
   "metadata": {},
   "source": [
    "$$I(Q) = \\mathbb{E}[\\max(0, Q - D)] = \\mathbb{E}[Q - \\min(Q, D)] = Q - s(Q)$$"
   ]
  },
  {
   "cell_type": "code",
   "execution_count": 253,
   "metadata": {},
   "outputs": [
    {
     "name": "stdout",
     "output_type": "stream",
     "text": [
      "Given order quantity 1578.31, expected inventory: 401.07\n"
     ]
    }
   ],
   "source": [
    "I_Q_02 = Q_02 - s_Q_02\n",
    "print(f\"Given order quantity {Q_02:.2f}, expected inventory: {I_Q_02:.2f}\")"
   ]
  },
  {
   "cell_type": "markdown",
   "metadata": {},
   "source": [
    "$$\\pi_r(Q) =0.6* r \\cdot s(Q) + 0.6*v \\cdot I(Q) - (w + c_B) \\cdot Q - g_B \\cdot n(Q)$$"
   ]
  },
  {
   "cell_type": "code",
   "execution_count": 254,
   "metadata": {},
   "outputs": [
    {
     "name": "stdout",
     "output_type": "stream",
     "text": [
      "Retail price (r): 20\n",
      "Expected sales (s_Q_02): 1177.25\n",
      "Salvage value (v): 0.65\n",
      "Expected inventory (I_Q_02): 401.07\n",
      "Wholesale price (w): 1.92950540958269\n",
      "Handling cost (c_b): 1.2\n",
      "Order quantity (Q_02): 1578.31\n",
      "Goodwill cost (g_r): 9\n",
      "Expected lost sales (n_Q_02): 22.75\n",
      "\n",
      "\n",
      "Given order quantity 1578.3140005468317, expected retailer profit: 9139.29587156266\n"
     ]
    }
   ],
   "source": [
    "pi_r_Q_02 = 0.6*(r*s_Q_02 + v*I_Q_02) - (w + c_b)*Q_02 - g_r*n_Q_02\n",
    "print(f\"Retail price (r): {r}\")\n",
    "print(f\"Expected sales (s_Q_02): {s_Q_02:.2f}\")\n",
    "print(f\"Salvage value (v): {v}\")\n",
    "print(f\"Expected inventory (I_Q_02): {I_Q_02:.2f}\")\n",
    "print(f\"Wholesale price (w): {w}\")\n",
    "print(f\"Handling cost (c_b): {c_b}\")\n",
    "print(f\"Order quantity (Q_02): {Q_02:.2f}\")\n",
    "print(f\"Goodwill cost (g_r): {g_r}\")\n",
    "print(f\"Expected lost sales (n_Q_02): {n_Q_02:.2f}\")\n",
    "\n",
    "print(f\"\\n\\nGiven order quantity {Q_02}, expected retailer profit: {pi_r_Q_02}\")"
   ]
  },
  {
   "cell_type": "markdown",
   "metadata": {},
   "source": [
    "`Supplier:`"
   ]
  },
  {
   "cell_type": "markdown",
   "metadata": {},
   "source": [
    "$$\\pi_s(Q) = (w - c) \\cdot Q-g_p\\cdot n(Q)+(1-0.6)* r \\cdot s(Q) + (1-0.6)*v \\cdot I(Q)\n",
    "\n",
    "$$\n"
   ]
  },
  {
   "cell_type": "code",
   "execution_count": 255,
   "metadata": {},
   "outputs": [
    {
     "name": "stdout",
     "output_type": "stream",
     "text": [
      "Given order quantity 1578.31, expected supplier profit: 6557.95\n"
     ]
    }
   ],
   "source": [
    "pi_w_Q_02 = (w-c)*Q_02-g_s*n_Q_02+(1-0.6)*r*s_Q_02+(1-0.6)*v*I_Q_02\n",
    "print(f\"Given order quantity {Q_02:.2f}, expected supplier profit: {pi_w_Q_02:.2f}\")"
   ]
  },
  {
   "cell_type": "markdown",
   "metadata": {},
   "source": [
    "`Whole Supply Chain:`"
   ]
  },
  {
   "cell_type": "code",
   "execution_count": 256,
   "metadata": {},
   "outputs": [
    {
     "name": "stdout",
     "output_type": "stream",
     "text": [
      "Total supply chain profit given order quantity 1486.15: 15601.65\n"
     ]
    }
   ],
   "source": [
    "pi_0_Q_b = pi_r_Q_b + pi_w_Q_b\n",
    "print(f\"Total supply chain profit given order quantity {Q_b:.2f}: {pi_0_Q_b:.2f}\")"
   ]
  },
  {
   "cell_type": "markdown",
   "metadata": {},
   "source": [
    "---\n",
    "\n",
    "## Problem 2: Two-Stage Ordering in a Supply Chain\n",
    "\n",
    "**Scenario:**  \n",
    "A supply chain has a single supplier and single retailer. The retailer can place **two orders**:  \n",
    "1. Before demand is realized.  \n",
    "2. After demand is realized (only if the first order is insufficient).  \n",
    "Any unmet demand before the second order incurs a loss-of-goodwill cost `p`.\n",
    "\n",
    "### Given:\n",
    "\n",
    "- Demand is random with:\n",
    "  - PDF: `f`\n",
    "  - CDF: `F`\n",
    "  - Mean: `μ`\n",
    "- Selling price per item: `r`  \n",
    "- Wholesale price per item (both orders): `w`  \n",
    "- Salvage value per unit: `v`  \n",
    "- First order production cost: `c₁`  \n",
    "- Second order production cost: `c₂`  \n",
    "- Assumptions:  \n",
    "  - `c₁ < c₂`  \n",
    "  - `v < c₁`  \n",
    "  - `c₂ < w`  \n",
    "- The manufacturer **produces to order** (no inventory).\n",
    "\n",
    "### Sequence of Events:\n",
    "\n",
    "1. Retailer places **first order** of size `Q`.\n",
    "2. Order is **delivered immediately**.\n",
    "3. **Demand is realized**.  \n",
    "   - Demand ≤ Q: sales fulfilled immediately.  \n",
    "   - Demand > Q: unmet demand is backordered.\n",
    "4. Retailer places **second order** for unmet demand.\n",
    "5. Order is **delivered immediately**, all unmet demand fulfilled.\n",
    "6. **Unsold inventory** is salvaged.\n",
    "\n",
    "### Questions:\n",
    "\n",
    "---\n",
    "\n",
    "**a)** Write the expected profit functions:\n",
    "- Retailer’s profit: `π_r(Q)`  \n",
    "- Supplier’s profit: `π_s(Q)`  \n",
    "- Total supply chain profit: `Π(Q)`\n",
    "\n",
    "---"
   ]
  },
  {
   "cell_type": "markdown",
   "metadata": {},
   "source": [
    "\n",
    "When $I(Q)$ is the ending inventory, $S_1(Q)$ is sales after first round, $S_2(Q)$ is sales to meet missing demand which is equivalent to $n(Q)$ is lost sales after first order: \n",
    "\n",
    "$\n",
    "\\pi_r(Q)= (r-w)\\cdot S(Q)+(v-w)\\cdot I(Q)+(r-w-p)\\cdot n(Q)\\\\\n",
    "\\pi_s(Q)= (w-c_1)\\cdot(S(Q)+I(Q))+(w-c_2)\\cdot n(Q)\\\\\n",
    "\\Pi(Q)= (r-c_1)\\cdot S(Q)+ (v-c_1)\\cdot I(Q)+(r-c_2-p)\\cdot n(Q)\n",
    "$"
   ]
  },
  {
   "cell_type": "markdown",
   "metadata": {},
   "source": [
    "---\n",
    "\n",
    "**b)** Prove that the retailer’s optimal order quantity is strictly smaller than the supply chain’s optimal order quantity.  \n",
    "*Conclusion: the supply chain is not coordinated.*\n",
    "\n",
    "---"
   ]
  },
  {
   "cell_type": "markdown",
   "metadata": {},
   "source": [
    "Underage - if you don't have enough stock\n",
    "Overage - if you have too much stock\n",
    "\n",
    "Retailer:\n",
    "$$\n",
    "C_u = r-w-p\\\\\n",
    "C_o = w-v\n",
    "$$\n",
    "\n",
    "Given the critical ratio, this becomes $F=\\frac{r-w-p}{r-w-p+w-v}=\\frac{r-w-p}{r-p-v}$\n",
    "\n",
    "Supply Chain:\n",
    "$$\n",
    "C_u =r-c_2-p\\\\\n",
    "C_o = c_1-v\n",
    "$$\n",
    "\n",
    "Given the critical ratio, this becomes $F=\\frac{r-c_2-p}{r-c_2-p+c_1-v}=\\frac{r-c_2-p}{r-p-v+c_1-c_2}$"
   ]
  },
  {
   "cell_type": "markdown",
   "metadata": {},
   "source": [
    "$$\n",
    "F=\\frac{C_u}{C_u+C_o}\n",
    "$$"
   ]
  },
  {
   "cell_type": "markdown",
   "metadata": {},
   "source": [
    "Given $c_1<c_2$, thus $c_1-c_2 <0$ meaning $r-p-v+c_1-c_2 <r-p-v$ ==> this means the supply chain critical ratio should be higher than the retailer."
   ]
  },
  {
   "cell_type": "markdown",
   "metadata": {},
   "source": [
    "Given $c_2<w$ ==> the supply chain should be higher"
   ]
  },
  {
   "cell_type": "markdown",
   "metadata": {},
   "source": [
    "Both numerator and denom. move in the same dir. ==> retailer is strictly lower critical ratio than supply chain ==> retailer orders lower quantity"
   ]
  },
  {
   "cell_type": "markdown",
   "metadata": {},
   "source": [
    "---\n",
    "\n",
    "**c)** Consider a **buyback contract**:  \n",
    "- Retailer pays wholesale price `w`  \n",
    "- Supplier reimburses the retailer `b` per unsold unit  \n",
    "- Let:  \n",
    "  ```math\n",
    "  w(b) = b + v + (p / (c₁ - v)) * (p + c₂ - c₁)\n",
    "  ```\n",
    "  Prove this contract **coordinates the supply chain**.  \n",
    "  *Verify necessary and sufficient conditions.*\n",
    "\n",
    "---"
   ]
  },
  {
   "cell_type": "markdown",
   "metadata": {},
   "source": [
    "Retailer becomes $F=\\frac{r-w-p}{r-p-b}$\n",
    "\n",
    "Supply chain becomes $F=\\frac{r-c_2-p}{r-p-v+c_1-c_2}$"
   ]
  },
  {
   "cell_type": "code",
   "execution_count": null,
   "metadata": {},
   "outputs": [
    {
     "name": "stdout",
     "output_type": "stream",
     "text": [
      "Solution for w: (b*c_2 + b*p - b*r + c_1*p - c_1*r - p*v + r*v)/(-c_1 + c_2 + p - r + v)\n",
      "Solved value for w: 10.0596747790025\n"
     ]
    }
   ],
   "source": [
    "from sympy import symbols, Eq, solve\n",
    "\n",
    "# Define variables\n",
    "r, w, p, b, c_2, v, c_1 = symbols('r w p b c_2 v c_1')\n",
    "\n",
    "# Retailer critical ratio\n",
    "F_retailer = (r - w - p) / (r - p - b)\n",
    "\n",
    "# Supply chain critical ratio\n",
    "F_supply_chain = (r - c_2 - p) / (r - p - v + c_1 - c_2)\n",
    "\n",
    "# Set the two equations equal\n",
    "equation = Eq(F_retailer, F_supply_chain)\n",
    "\n",
    "# Solve for w\n",
    "solution_w = solve(equation, w)[0].simplify()\n",
    "print(f\"Solution for w: {solution_w}\")\n",
    "\n",
    "################\n",
    "# Assign values to variables\n",
    "r_value = 20\n",
    "p_value = 9\n",
    "b_value = 9.62459893048129\n",
    "c_2_value = 4.3\n",
    "v_value = 0.65\n",
    "c_1_value = 3.75\n",
    "\n",
    "# Substitute values into the solution for w\n",
    "solution_w_value = solution_w.subs({\n",
    "    r: r_value,\n",
    "    p: p_value,\n",
    "    b: b_value,\n",
    "    c_2: c_2_value,\n",
    "    v: v_value,\n",
    "    c_1: c_1_value\n",
    "}).evalf()\n",
    "\n",
    "print(f\"Notional solved value for w: {solution_w_value}\")"
   ]
  },
  {
   "cell_type": "code",
   "execution_count": 262,
   "metadata": {},
   "outputs": [
    {
     "name": "stdout",
     "output_type": "stream",
     "text": [
      "Simplified w(b): (p*(-c1 + c2 + p) + (b + v)*(c1 - v))/(c1 - v)\n",
      "Notional solved value for w(b): 10.0596747790025\n"
     ]
    }
   ],
   "source": [
    "from sympy import symbols, simplify\n",
    "\n",
    "# Define variables\n",
    "b, v, p, c1, c2 = symbols('b v p c1 c2')\n",
    "\n",
    "# Define the equation\n",
    "w_b = b + v + (p / (c1 - v)) * (p + c2 - c1)\n",
    "\n",
    "# Simplify the equation\n",
    "w_b_simplified = simplify(w_b)\n",
    "\n",
    "print(f\"Simplified w(b): {w_b_simplified}\")\n",
    "\n",
    "################\n",
    "# Assign values to variables\n",
    "r_value = 20\n",
    "p_value = 9\n",
    "b_value = 9.62459893048129\n",
    "c_2_value = 4.3\n",
    "v_value = 0.65\n",
    "c_1_value = 3.75\n",
    "\n",
    "# Substitute values into the solution for w\n",
    "w_b_simplified = solution_w.subs({\n",
    "    r: r_value,\n",
    "    p: p_value,\n",
    "    b: b_value,\n",
    "    c_2: c_2_value,\n",
    "    v: v_value,\n",
    "    c_1: c_1_value\n",
    "}).evalf()\n",
    "\n",
    "print(f\"Notional solved value for w(b): {w_b_simplified}\")"
   ]
  },
  {
   "cell_type": "markdown",
   "metadata": {},
   "source": [
    "Clearly they are the same value (as a check), but also the equations are the same as well for $w$."
   ]
  },
  {
   "cell_type": "markdown",
   "metadata": {},
   "source": [
    "---\n",
    "\n",
    "**d)** Briefly explain:\n",
    "- Why the original supply chain was **not coordinated**.\n",
    "- Why the **buyback contract** coordinates it.\n",
    "\n",
    "---"
   ]
  },
  {
   "cell_type": "markdown",
   "metadata": {},
   "source": [
    "Explanation\n",
    "\n",
    "### Why the original supply chain was **not coordinated**?\n",
    "Because the retailer’s and supplier’s incentives were misaligned — the retailer underorders due to a lower critical ratio.\n",
    "- the original supply chain was not coordinated becuase $w!=c_1!=c_2$\n",
    "\n",
    "### Why the **buyback contract** coordinates it.\n",
    "It adjusts the retailer’s incentives (via $ b $) so that the critical ratio matches the supply chain optimum, effectively embedding $ c_1 $, $ c_2 $, and $ p $ into the wholesale terms.\n",
    "- Buy back fixed this by adjusting the critical ratio such that the equations related, defined by $b(w)$"
   ]
  }
 ],
 "metadata": {
  "kernelspec": {
   "display_name": "Python 3",
   "language": "python",
   "name": "python3"
  },
  "language_info": {
   "codemirror_mode": {
    "name": "ipython",
    "version": 3
   },
   "file_extension": ".py",
   "mimetype": "text/x-python",
   "name": "python",
   "nbconvert_exporter": "python",
   "pygments_lexer": "ipython3",
   "version": "3.11.11"
  }
 },
 "nbformat": 4,
 "nbformat_minor": 2
}
